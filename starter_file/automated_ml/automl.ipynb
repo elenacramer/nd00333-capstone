{
  "cells": [
    {
      "cell_type": "markdown",
      "source": [
        "# Automated ML\n",
        "\n",
        "TODO: Import Dependencies. In the cell below, import all the dependencies that you will need to complete the project."
      ],
      "metadata": {
        "id": "-UbcJPDLQfAB"
      }
    },
    {
      "cell_type": "code",
      "source": [
        "import logging\n",
        "import os\n",
        "\n",
        "import azureml.core\n",
        "from azureml.core.experiment import Experiment\n",
        "from azureml.core.workspace import Workspace\n",
        "from azureml.train.automl import AutoMLConfig\n",
        "from azureml.core.dataset import Dataset\n",
        "from azureml.data.dataset_factory import TabularDatasetFactory\n",
        "\n",
        "from sklearn.model_selection import train_test_split"
      ],
      "outputs": [],
      "execution_count": 1,
      "metadata": {
        "gather": {
          "logged": 1605868083679
        },
        "jupyter": {
          "outputs_hidden": false,
          "source_hidden": false
        },
        "nteract": {
          "transient": {
            "deleting": false
          }
        },
        "id": "1o73SbzZQfAB"
      }
    },
    {
      "cell_type": "markdown",
      "source": [
        "## Dataset\n",
        "\n",
        "### Overview\n",
        "We wil predict median house valie from kaggle's data set \"Calofornia housing\". Data set was downloaded as a csv and uploaded i.e. registered as data set in the workspace. \n"
      ],
      "metadata": {
        "id": "abcMApzQQfAB"
      }
    },
    {
      "cell_type": "markdown",
      "source": [
        "### Workspace Set Up and Initialize an Experiment"
      ],
      "metadata": {
        "nteract": {
          "transient": {
            "deleting": false
          }
        }
      }
    },
    {
      "cell_type": "code",
      "source": [
        "ws = Workspace.from_config()\n",
        "print(ws.name, ws.resource_group, ws.location, ws.subscription_id, sep = '\\n')"
      ],
      "outputs": [
        {
          "output_type": "stream",
          "name": "stdout",
          "text": [
            "Performing interactive authentication. Please follow the instructions on the terminal.\n",
            "To sign in, use a web browser to open the page https://microsoft.com/devicelogin and enter the code FNBTELTVE to authenticate.\n",
            "You have logged in. Now let us find all the subscriptions to which you have access...\n",
            "Interactive authentication successfully completed.\n",
            "quick-starts-ws-126995\n",
            "aml-quickstarts-126995\n",
            "southcentralus\n",
            "502bce8d-d66b-4661-a423-f21e61d20123\n"
          ]
        }
      ],
      "execution_count": 2,
      "metadata": {
        "gather": {
          "logged": 1605868142949
        },
        "jupyter": {
          "outputs_hidden": false,
          "source_hidden": false
        },
        "nteract": {
          "transient": {
            "deleting": false
          }
        },
        "id": "XLTZwG8RQfAB"
      }
    },
    {
      "cell_type": "code",
      "source": [
        "os.listdir(os.curdir), os.getcwd()"
      ],
      "outputs": [
        {
          "output_type": "execute_result",
          "execution_count": 5,
          "data": {
            "text/plain": "(['.ipynb_aml_checkpoints', 'automl.ipynb'],\n '/mnt/batch/tasks/shared/LS_root/mounts/clusters/notebook126995/code/Users/odl_user_126995')"
          },
          "metadata": {}
        }
      ],
      "execution_count": 5,
      "metadata": {
        "collapsed": true,
        "jupyter": {
          "source_hidden": false,
          "outputs_hidden": false
        },
        "nteract": {
          "transient": {
            "deleting": false
          }
        },
        "gather": {
          "logged": 1605868416512
        }
      }
    },
    {
      "cell_type": "code",
      "source": [
        "# choose a name for experiment\n",
        "experiment_name = 'automl_housing'\n",
        "project_folder = './automl-housing'\n",
        "os.makedirs(project_folder, exist_ok=True)\n",
        "\n",
        "experiment = Experiment(ws, experiment_name)\n",
        "experiment"
      ],
      "outputs": [
        {
          "output_type": "execute_result",
          "execution_count": 6,
          "data": {
            "text/plain": "Experiment(Name: automl_housing,\nWorkspace: quick-starts-ws-126995)",
            "text/html": "<table style=\"width:100%\"><tr><th>Name</th><th>Workspace</th><th>Report Page</th><th>Docs Page</th></tr><tr><td>automl_housing</td><td>quick-starts-ws-126995</td><td><a href=\"https://ml.azure.com/experiments/automl_housing?wsid=/subscriptions/502bce8d-d66b-4661-a423-f21e61d20123/resourcegroups/aml-quickstarts-126995/workspaces/quick-starts-ws-126995\" target=\"_blank\" rel=\"noopener\">Link to Azure Machine Learning studio</a></td><td><a href=\"https://docs.microsoft.com/en-us/python/api/azureml-core/azureml.core.experiment.Experiment?view=azure-ml-py\" target=\"_blank\" rel=\"noopener\">Link to Documentation</a></td></tr></table>"
          },
          "metadata": {}
        }
      ],
      "execution_count": 6,
      "metadata": {
        "id": "rXDoY4ohQoUc",
        "gather": {
          "logged": 1605868533031
        }
      }
    },
    {
      "cell_type": "code",
      "source": [
        "os.listdir(os.curdir)"
      ],
      "outputs": [
        {
          "output_type": "execute_result",
          "execution_count": 7,
          "data": {
            "text/plain": "['.ipynb_aml_checkpoints', 'automl-housing', 'automl.ipynb']"
          },
          "metadata": {}
        }
      ],
      "execution_count": 7,
      "metadata": {
        "collapsed": true,
        "jupyter": {
          "source_hidden": false,
          "outputs_hidden": false
        },
        "nteract": {
          "transient": {
            "deleting": false
          }
        },
        "gather": {
          "logged": 1605868551280
        }
      }
    },
    {
      "cell_type": "code",
      "source": [
        "#files and directories\n",
        "cc=os.getcwd\n",
        "os.listdir(os.curdir)"
      ],
      "outputs": [],
      "execution_count": null,
      "metadata": {
        "id": "Ddxcfo7QRLht"
      }
    },
    {
      "cell_type": "markdown",
      "source": [
        "### Create or Attach a Compute Resource"
      ],
      "metadata": {
        "nteract": {
          "transient": {
            "deleting": false
          }
        }
      }
    },
    {
      "cell_type": "code",
      "source": [
        "from azureml.core.compute import AmlCompute\n",
        "from azureml.core.compute import ComputeTarget\n",
        "from azureml.core.compute_target import ComputeTargetException\n",
        "\n",
        "# NOTE: update the cluster name to match the existing cluster\n",
        "# Choose a name for your CPU cluster\n",
        "amlcompute_cluster_name = \"notebook126995\"\n",
        "\n",
        "# Verify that cluster does not exist already\n",
        "try:\n",
        "    compute_target = ComputeTarget(workspace=ws, name=amlcompute_cluster_name)\n",
        "    print('Found existing cluster, use it.')\n",
        "except ComputeTargetException:\n",
        "    compute_config = AmlCompute.provisioning_configuration(vm_size='STANDARD_D2_V2',# for GPU, use \"STANDARD_NC6\"\n",
        "                                                           #vm_priority = 'lowpriority', # optional\n",
        "                                                           max_nodes=4)\n",
        "    compute_target = ComputeTarget.create(ws, amlcompute_cluster_name, compute_config)\n",
        "\n",
        "compute_target.wait_for_completion(show_output=True)\n",
        "# For a more detailed view of current AmlCompute status, use get_status()."
      ],
      "outputs": [
        {
          "output_type": "stream",
          "name": "stdout",
          "text": [
            "Found existing cluster, use it.\n",
            "\n",
            "Running\n"
          ]
        }
      ],
      "execution_count": 8,
      "metadata": {
        "id": "vphkmAuDREuy",
        "gather": {
          "logged": 1605868638515
        }
      }
    },
    {
      "cell_type": "markdown",
      "source": [
        "### Data set"
      ],
      "metadata": {
        "nteract": {
          "transient": {
            "deleting": false
          }
        }
      }
    },
    {
      "cell_type": "code",
      "source": [
        "# Try to load the dataset from the Workspace. Otherwise, create it from the file\n",
        "# NOTE: update the key to match the dataset name\n",
        "found = False\n",
        "key = \"housing\"\n",
        "description_text = \"California Housing Dataset for Udacity project 3\"\n",
        "\n",
        "if key in ws.datasets.keys(): \n",
        "        found = True\n",
        "        dataset = ws.datasets[key] \n",
        "\n",
        "if not found:\n",
        "        # Create AML Dataset and register it into Workspace\n",
        "        example_data = ''\n",
        "        dataset = Dataset.Tabular.from_delimited_files(example_data)        \n",
        "        #Register Dataset in Workspace\n",
        "        dataset = dataset.register(workspace=ws,\n",
        "                                   name=key,\n",
        "                                   description=description_text)\n",
        "\n",
        "\n",
        "data = dataset.to_pandas_dataframe()\n",
        "data.describe()"
      ],
      "outputs": [
        {
          "output_type": "execute_result",
          "execution_count": 9,
          "data": {
            "text/plain": "          longitude      latitude  housing_median_age   total_rooms  \\\ncount  20640.000000  20640.000000        20640.000000  20640.000000   \nmean    -119.569704     35.631861           28.639486   2635.763081   \nstd        2.003532      2.135952           12.585558   2181.615252   \nmin     -124.350000     32.540000            1.000000      2.000000   \n25%     -121.800000     33.930000           18.000000   1447.750000   \n50%     -118.490000     34.260000           29.000000   2127.000000   \n75%     -118.010000     37.710000           37.000000   3148.000000   \nmax     -114.310000     41.950000           52.000000  39320.000000   \n\n       total_bedrooms    population    households  median_income  \\\ncount    20433.000000  20640.000000  20640.000000   20640.000000   \nmean       537.870553   1425.476744    499.539680       3.870671   \nstd        421.385070   1132.462122    382.329753       1.899822   \nmin          1.000000      3.000000      1.000000       0.499900   \n25%        296.000000    787.000000    280.000000       2.563400   \n50%        435.000000   1166.000000    409.000000       3.534800   \n75%        647.000000   1725.000000    605.000000       4.743250   \nmax       6445.000000  35682.000000   6082.000000      15.000100   \n\n       median_house_value  \ncount        20640.000000  \nmean        206855.816909  \nstd         115395.615874  \nmin          14999.000000  \n25%         119600.000000  \n50%         179700.000000  \n75%         264725.000000  \nmax         500001.000000  ",
            "text/html": "<div>\n<style scoped>\n    .dataframe tbody tr th:only-of-type {\n        vertical-align: middle;\n    }\n\n    .dataframe tbody tr th {\n        vertical-align: top;\n    }\n\n    .dataframe thead th {\n        text-align: right;\n    }\n</style>\n<table border=\"1\" class=\"dataframe\">\n  <thead>\n    <tr style=\"text-align: right;\">\n      <th></th>\n      <th>longitude</th>\n      <th>latitude</th>\n      <th>housing_median_age</th>\n      <th>total_rooms</th>\n      <th>total_bedrooms</th>\n      <th>population</th>\n      <th>households</th>\n      <th>median_income</th>\n      <th>median_house_value</th>\n    </tr>\n  </thead>\n  <tbody>\n    <tr>\n      <th>count</th>\n      <td>20640.000000</td>\n      <td>20640.000000</td>\n      <td>20640.000000</td>\n      <td>20640.000000</td>\n      <td>20433.000000</td>\n      <td>20640.000000</td>\n      <td>20640.000000</td>\n      <td>20640.000000</td>\n      <td>20640.000000</td>\n    </tr>\n    <tr>\n      <th>mean</th>\n      <td>-119.569704</td>\n      <td>35.631861</td>\n      <td>28.639486</td>\n      <td>2635.763081</td>\n      <td>537.870553</td>\n      <td>1425.476744</td>\n      <td>499.539680</td>\n      <td>3.870671</td>\n      <td>206855.816909</td>\n    </tr>\n    <tr>\n      <th>std</th>\n      <td>2.003532</td>\n      <td>2.135952</td>\n      <td>12.585558</td>\n      <td>2181.615252</td>\n      <td>421.385070</td>\n      <td>1132.462122</td>\n      <td>382.329753</td>\n      <td>1.899822</td>\n      <td>115395.615874</td>\n    </tr>\n    <tr>\n      <th>min</th>\n      <td>-124.350000</td>\n      <td>32.540000</td>\n      <td>1.000000</td>\n      <td>2.000000</td>\n      <td>1.000000</td>\n      <td>3.000000</td>\n      <td>1.000000</td>\n      <td>0.499900</td>\n      <td>14999.000000</td>\n    </tr>\n    <tr>\n      <th>25%</th>\n      <td>-121.800000</td>\n      <td>33.930000</td>\n      <td>18.000000</td>\n      <td>1447.750000</td>\n      <td>296.000000</td>\n      <td>787.000000</td>\n      <td>280.000000</td>\n      <td>2.563400</td>\n      <td>119600.000000</td>\n    </tr>\n    <tr>\n      <th>50%</th>\n      <td>-118.490000</td>\n      <td>34.260000</td>\n      <td>29.000000</td>\n      <td>2127.000000</td>\n      <td>435.000000</td>\n      <td>1166.000000</td>\n      <td>409.000000</td>\n      <td>3.534800</td>\n      <td>179700.000000</td>\n    </tr>\n    <tr>\n      <th>75%</th>\n      <td>-118.010000</td>\n      <td>37.710000</td>\n      <td>37.000000</td>\n      <td>3148.000000</td>\n      <td>647.000000</td>\n      <td>1725.000000</td>\n      <td>605.000000</td>\n      <td>4.743250</td>\n      <td>264725.000000</td>\n    </tr>\n    <tr>\n      <th>max</th>\n      <td>-114.310000</td>\n      <td>41.950000</td>\n      <td>52.000000</td>\n      <td>39320.000000</td>\n      <td>6445.000000</td>\n      <td>35682.000000</td>\n      <td>6082.000000</td>\n      <td>15.000100</td>\n      <td>500001.000000</td>\n    </tr>\n  </tbody>\n</table>\n</div>"
          },
          "metadata": {}
        }
      ],
      "execution_count": 9,
      "metadata": {
        "id": "AUPACS7KRPvX",
        "gather": {
          "logged": 1605868657459
        }
      }
    },
    {
      "cell_type": "code",
      "source": [
        "import pandas as pd\n",
        "\n",
        "def prepare_data(data):    \n",
        "    encoded_column=pd.get_dummies(data['ocean_proximity'], prefix='ocp')\n",
        "    data=data.join(encoded_column)\n",
        "    data=data.drop(\"ocean_proximity\", axis=1)\n",
        "\n",
        "    train, test = train_test_split(data, test_size=0.2, random_state=42)\n",
        "    return train, test\n",
        "\n",
        "train, test = prepare_data(data)\n",
        "type(train), type(test), train.shape, test.shape"
      ],
      "outputs": [
        {
          "output_type": "execute_result",
          "execution_count": 13,
          "data": {
            "text/plain": "(pandas.core.frame.DataFrame,\n pandas.core.frame.DataFrame,\n (16512, 14),\n (4128, 14))"
          },
          "metadata": {}
        }
      ],
      "execution_count": 13,
      "metadata": {
        "id": "bqAQjCSESW7I",
        "gather": {
          "logged": 1605868914877
        }
      }
    },
    {
      "cell_type": "code",
      "source": [
        "columns=train.columns\n",
        "train.to_csv(path_or_buf='trainset.csv', columns=columns, header=True, index=False) \n",
        "test.to_csv(path_or_buf='testset.csv', columns=columns, header=True, index=False)"
      ],
      "outputs": [],
      "execution_count": 14,
      "metadata": {
        "id": "SRLNnxw0S-P7",
        "gather": {
          "logged": 1605868955436
        }
      }
    },
    {
      "cell_type": "code",
      "source": [
        "datastore=ws.get_default_datastore() \n",
        "datastore.upload_files(['trainset.csv'])"
      ],
      "outputs": [
        {
          "output_type": "stream",
          "name": "stdout",
          "text": [
            "Uploading an estimated of 1 files\n",
            "Uploading trainset.csv\n",
            "Uploaded trainset.csv, 1 files out of an estimated total of 1\n",
            "Uploaded 1 files\n"
          ]
        },
        {
          "output_type": "execute_result",
          "execution_count": 15,
          "data": {
            "text/plain": "$AZUREML_DATAREFERENCE_workspaceblobstore"
          },
          "metadata": {}
        }
      ],
      "execution_count": 15,
      "metadata": {
        "id": "VnB10S9ES-aX",
        "gather": {
          "logged": 1605868966706
        }
      }
    },
    {
      "cell_type": "code",
      "source": [
        "train=TabularDatasetFactory.from_delimited_files([(datastore, 'trainset.csv')])\n",
        "\n",
        "datastore.upload_files(['testset.csv'])"
      ],
      "outputs": [
        {
          "output_type": "stream",
          "name": "stdout",
          "text": [
            "Uploading an estimated of 1 files\n",
            "Uploading testset.csv\n",
            "Uploaded testset.csv, 1 files out of an estimated total of 1\n",
            "Uploaded 1 files\n"
          ]
        },
        {
          "output_type": "execute_result",
          "execution_count": 16,
          "data": {
            "text/plain": "$AZUREML_DATAREFERENCE_workspaceblobstore"
          },
          "metadata": {}
        }
      ],
      "execution_count": 16,
      "metadata": {
        "id": "cHzbj8V9TL_q",
        "gather": {
          "logged": 1605868972688
        }
      }
    },
    {
      "cell_type": "code",
      "source": [
        "test=TabularDatasetFactory.from_delimited_files([(datastore, 'testset.csv')])"
      ],
      "outputs": [],
      "execution_count": 17,
      "metadata": {
        "id": "4Z2fiA3BTMJv",
        "gather": {
          "logged": 1605868977195
        }
      }
    },
    {
      "cell_type": "markdown",
      "source": [
        "## AutoML Configuration\n",
        "\n",
        "Since we are trying to predict a numeric value, in particular, \"median_house_values\", we have to define the task as \"regression\". Featurization is set to \"auto\" and we enable early stopping to avoid overfitting. We pass in our train and test sets and choose \"normalized_mean_absolute_error\" as the primary metric."
      ],
      "metadata": {
        "id": "bq6zzU7MQfAB"
      }
    },
    {
      "cell_type": "code",
      "source": [
        "azureml.train.automl.utilities.get_primary_metrics(\"regression\")"
      ],
      "outputs": [
        {
          "output_type": "execute_result",
          "execution_count": 35,
          "data": {
            "text/plain": "['spearman_correlation',\n 'r2_score',\n 'normalized_root_mean_squared_error',\n 'normalized_mean_absolute_error']"
          },
          "metadata": {}
        }
      ],
      "execution_count": 35,
      "metadata": {
        "collapsed": true,
        "jupyter": {
          "source_hidden": false,
          "outputs_hidden": false
        },
        "nteract": {
          "transient": {
            "deleting": false
          }
        },
        "gather": {
          "logged": 1605871584560
        }
      }
    },
    {
      "cell_type": "code",
      "source": [
        "# TODO: Put your automl settings here\n",
        "# TODO: Put your automl config here\n",
        "\n",
        "automl_setting={\n",
        "    \"featurization\": \"auto\",\n",
        "    \"experiment_timeout_minutes\": 30,\n",
        "    \"enable_early_stopping\": True,\n",
        "    \"verbosity\": logging.INFO,\n",
        "    \"compute_target\": compute_target\n",
        "}\n",
        "\n",
        "task=\"regression\" \n",
        "automl_config = AutoMLConfig( \n",
        "    task=task, \n",
        "    primary_metric='normalized_root_mean_squared_error', \n",
        "    training_data=train, \n",
        "    validation_data = test, \n",
        "    label_column_name='median_house_value', \n",
        "    **automl_setting\n",
        ")"
      ],
      "outputs": [],
      "execution_count": 39,
      "metadata": {
        "gather": {
          "logged": 1605871893747
        },
        "jupyter": {
          "outputs_hidden": false,
          "source_hidden": false
        },
        "nteract": {
          "transient": {
            "deleting": false
          }
        },
        "id": "Tq7z42nVQfAB"
      }
    },
    {
      "cell_type": "code",
      "source": [
        "# TODO: Submit your experiment\n",
        "from azureml.widgets import RunDetails\n",
        "\n",
        "automl_run = experiment.submit(automl_config, show_output=True)\n",
        "\n",
        "RunDetails(automl_run).show()"
      ],
      "outputs": [
        {
          "output_type": "stream",
          "name": "stdout",
          "text": [
            "Running on remote.\n",
            "Running on remote compute: notebook126995\n",
            "Parent Run ID: AutoML_87e2c6b2-2888-4320-a418-5c087560a1fb\n",
            "\n",
            "Current status: FeaturesGeneration. Generating features for the dataset.\n",
            "Current status: ModelSelection. Beginning model selection.\n",
            "\n",
            "****************************************************************************************************\n",
            "DATA GUARDRAILS: \n",
            "\n",
            "TYPE:         Missing feature values imputation\n",
            "STATUS:       PASSED\n",
            "DESCRIPTION:  No feature missing values were detected in the training data.\n",
            "              Learn more about missing value imputation: https://aka.ms/AutomatedMLFeaturization\n",
            "\n",
            "****************************************************************************************************\n",
            "\n",
            "TYPE:         High cardinality feature detection\n",
            "STATUS:       PASSED\n",
            "DESCRIPTION:  Your inputs were analyzed, and no high cardinality features were detected.\n",
            "              Learn more about high cardinality feature handling: https://aka.ms/AutomatedMLFeaturization\n",
            "\n",
            "****************************************************************************************************\n",
            "\n",
            "****************************************************************************************************\n",
            "ITERATION: The iteration being evaluated.\n",
            "PIPELINE: A summary description of the pipeline being evaluated.\n",
            "DURATION: Time taken for the current iteration.\n",
            "METRIC: The result of computing score on the fitted pipeline.\n",
            "BEST: The best observed score thus far.\n",
            "****************************************************************************************************\n",
            "\n",
            " ITERATION   PIPELINE                                       DURATION      METRIC      BEST\n",
            "         0   MaxAbsScaler LightGBM                          0:00:28       0.0993    0.0993\n",
            "         1   MaxAbsScaler XGBoostRegressor                  0:00:28       0.1157    0.0993\n",
            "         2   MaxAbsScaler DecisionTree                      0:00:29       0.1427    0.0993\n",
            "         3   MinMaxScaler DecisionTree                      0:00:25       0.1404    0.0993\n",
            "         4   StandardScalerWrapper LassoLars                0:00:23       0.1444    0.0993\n",
            "         5   RobustScaler ElasticNet                        0:00:29       0.1514    0.0993\n",
            "         6   StandardScalerWrapper LassoLars                0:00:32       0.1444    0.0993\n",
            "         7   RobustScaler ElasticNet                        0:00:31       0.1445    0.0993\n",
            "         8   RobustScaler DecisionTree                      0:00:32       0.1426    0.0993\n",
            "         9   MinMaxScaler DecisionTree                      0:00:23       0.1239    0.0993\n",
            "        10   RobustScaler DecisionTree                      0:00:28       0.1529    0.0993\n",
            "        11   MinMaxScaler DecisionTree                      0:00:23       0.1329    0.0993\n",
            "        12   StandardScalerWrapper DecisionTree             0:00:23       0.1505    0.0993\n",
            "        13   StandardScalerWrapper DecisionTree             0:00:28       0.1453    0.0993\n",
            "        14   RobustScaler DecisionTree                      0:00:29       0.1464    0.0993\n",
            "        15   RobustScaler ElasticNet                        0:00:30       0.1480    0.0993\n",
            "        16   StandardScalerWrapper DecisionTree             0:00:31       0.1329    0.0993\n",
            "        17   MinMaxScaler DecisionTree                      0:00:32       0.1459    0.0993\n",
            "        18   MinMaxScaler DecisionTree                      0:00:32       0.1468    0.0993\n",
            "        19   RobustScaler DecisionTree                      0:00:28       0.1350    0.0993\n",
            "        20   RobustScaler DecisionTree                      0:00:26       0.1440    0.0993\n",
            "        21   StandardScalerWrapper DecisionTree             0:00:29       0.1380    0.0993\n",
            "        22   StandardScalerWrapper DecisionTree             0:00:27       0.1326    0.0993\n",
            "        23   StandardScalerWrapper ExtremeRandomTrees       0:00:32       0.1656    0.0993\n",
            "        24   MinMaxScaler DecisionTree                      0:00:23       0.1342    0.0993\n",
            "        25   MinMaxScaler LightGBM                          0:02:13       0.1424    0.0993\n",
            "        26   MinMaxScaler DecisionTree                      0:00:28       0.1273    0.0993\n",
            "        27   MinMaxScaler DecisionTree                      0:00:27       0.1407    0.0993\n",
            "        28   StandardScalerWrapper RandomForest             0:00:23       0.1373    0.0993\n",
            "        29   StandardScalerWrapper DecisionTree             0:00:26       0.1481    0.0993\n",
            "        30    VotingEnsemble                                0:00:43       0.0993    0.0993\n",
            "        31    StackEnsemble                                 0:00:34       0.0994    0.0993\n"
          ]
        },
        {
          "output_type": "display_data",
          "data": {
            "text/plain": "_AutoMLWidget(widget_settings={'childWidgetDisplay': 'popup', 'send_telemetry': False, 'log_level': 'INFO', 's…",
            "application/vnd.jupyter.widget-view+json": {
              "version_major": 2,
              "version_minor": 0,
              "model_id": "d9a485fa88484f31b24a406d0d33343e"
            }
          },
          "metadata": {}
        },
        {
          "output_type": "display_data",
          "data": {
            "application/aml.mini.widget.v1": "{\"status\": \"Completed\", \"workbench_run_details_uri\": \"https://ml.azure.com/experiments/automl_housing/runs/AutoML_87e2c6b2-2888-4320-a418-5c087560a1fb?wsid=/subscriptions/502bce8d-d66b-4661-a423-f21e61d20123/resourcegroups/aml-quickstarts-126995/workspaces/quick-starts-ws-126995\", \"run_id\": \"AutoML_87e2c6b2-2888-4320-a418-5c087560a1fb\", \"run_properties\": {\"run_id\": \"AutoML_87e2c6b2-2888-4320-a418-5c087560a1fb\", \"created_utc\": \"2020-11-20T11:31:40.469622Z\", \"properties\": {\"num_iterations\": \"1000\", \"training_type\": \"TrainFull\", \"acquisition_function\": \"EI\", \"primary_metric\": \"normalized_root_mean_squared_error\", \"train_split\": \"0\", \"acquisition_parameter\": \"0\", \"num_cross_validation\": null, \"target\": \"notebook126995\", \"AMLSettingsJsonString\": \"{\\\"path\\\":null,\\\"name\\\":\\\"automl_housing\\\",\\\"subscription_id\\\":\\\"502bce8d-d66b-4661-a423-f21e61d20123\\\",\\\"resource_group\\\":\\\"aml-quickstarts-126995\\\",\\\"workspace_name\\\":\\\"quick-starts-ws-126995\\\",\\\"region\\\":\\\"southcentralus\\\",\\\"compute_target\\\":\\\"notebook126995\\\",\\\"spark_service\\\":null,\\\"azure_service\\\":\\\"remote\\\",\\\"_local_managed_run_id\\\":null,\\\"many_models\\\":false,\\\"pipeline_fetch_max_batch_size\\\":1,\\\"iterations\\\":1000,\\\"primary_metric\\\":\\\"normalized_root_mean_squared_error\\\",\\\"task_type\\\":\\\"regression\\\",\\\"data_script\\\":null,\\\"validation_size\\\":0.0,\\\"n_cross_validations\\\":null,\\\"y_min\\\":null,\\\"y_max\\\":null,\\\"num_classes\\\":null,\\\"featurization\\\":\\\"auto\\\",\\\"_ignore_package_version_incompatibilities\\\":false,\\\"is_timeseries\\\":false,\\\"max_cores_per_iteration\\\":1,\\\"max_concurrent_iterations\\\":1,\\\"iteration_timeout_minutes\\\":null,\\\"mem_in_mb\\\":null,\\\"enforce_time_on_windows\\\":false,\\\"experiment_timeout_minutes\\\":30,\\\"experiment_exit_score\\\":null,\\\"whitelist_models\\\":null,\\\"blacklist_algos\\\":[\\\"TensorFlowDNN\\\",\\\"TensorFlowLinearRegressor\\\"],\\\"supported_models\\\":[\\\"KNN\\\",\\\"XGBoostRegressor\\\",\\\"TensorFlowDNN\\\",\\\"OnlineGradientDescentRegressor\\\",\\\"RandomForest\\\",\\\"GradientBoosting\\\",\\\"ExtremeRandomTrees\\\",\\\"ElasticNet\\\",\\\"TensorFlowLinearRegressor\\\",\\\"LassoLars\\\",\\\"SGD\\\",\\\"DecisionTree\\\",\\\"FastLinearRegressor\\\",\\\"LightGBM\\\"],\\\"auto_blacklist\\\":true,\\\"blacklist_samples_reached\\\":false,\\\"exclude_nan_labels\\\":true,\\\"verbosity\\\":20,\\\"_debug_log\\\":\\\"azureml_automl.log\\\",\\\"show_warnings\\\":false,\\\"model_explainability\\\":true,\\\"service_url\\\":null,\\\"sdk_url\\\":null,\\\"sdk_packages\\\":null,\\\"enable_onnx_compatible_models\\\":false,\\\"enable_split_onnx_featurizer_estimator_models\\\":false,\\\"vm_type\\\":\\\"STANDARD_DS3_V2\\\",\\\"telemetry_verbosity\\\":20,\\\"send_telemetry\\\":true,\\\"enable_dnn\\\":false,\\\"scenario\\\":\\\"SDK-1.13.0\\\",\\\"environment_label\\\":null,\\\"force_text_dnn\\\":false,\\\"enable_feature_sweeping\\\":true,\\\"enable_early_stopping\\\":true,\\\"early_stopping_n_iters\\\":10,\\\"metrics\\\":null,\\\"enable_ensembling\\\":true,\\\"enable_stack_ensembling\\\":true,\\\"ensemble_iterations\\\":15,\\\"enable_tf\\\":false,\\\"enable_subsampling\\\":null,\\\"subsample_seed\\\":null,\\\"enable_nimbusml\\\":false,\\\"enable_streaming\\\":false,\\\"force_streaming\\\":false,\\\"track_child_runs\\\":true,\\\"allowed_private_models\\\":[],\\\"label_column_name\\\":\\\"median_house_value\\\",\\\"weight_column_name\\\":null,\\\"cv_split_column_names\\\":null,\\\"enable_local_managed\\\":false,\\\"cost_mode\\\":1,\\\"lag_length\\\":0,\\\"metric_operation\\\":\\\"minimize\\\",\\\"preprocess\\\":true}\", \"DataPrepJsonString\": \"{\\\\\\\"training_data\\\\\\\": \\\\\\\"{\\\\\\\\\\\\\\\"blocks\\\\\\\\\\\\\\\": [{\\\\\\\\\\\\\\\"id\\\\\\\\\\\\\\\": \\\\\\\\\\\\\\\"842f8378-7be7-4944-b558-20e14d92bbf5\\\\\\\\\\\\\\\", \\\\\\\\\\\\\\\"type\\\\\\\\\\\\\\\": \\\\\\\\\\\\\\\"Microsoft.DPrep.GetDatastoreFilesBlock\\\\\\\\\\\\\\\", \\\\\\\\\\\\\\\"arguments\\\\\\\\\\\\\\\": {\\\\\\\\\\\\\\\"datastores\\\\\\\\\\\\\\\": [{\\\\\\\\\\\\\\\"datastoreName\\\\\\\\\\\\\\\": \\\\\\\\\\\\\\\"workspaceblobstore\\\\\\\\\\\\\\\", \\\\\\\\\\\\\\\"path\\\\\\\\\\\\\\\": \\\\\\\\\\\\\\\"trainset.csv\\\\\\\\\\\\\\\", \\\\\\\\\\\\\\\"resourceGroup\\\\\\\\\\\\\\\": \\\\\\\\\\\\\\\"aml-quickstarts-126995\\\\\\\\\\\\\\\", \\\\\\\\\\\\\\\"subscription\\\\\\\\\\\\\\\": \\\\\\\\\\\\\\\"502bce8d-d66b-4661-a423-f21e61d20123\\\\\\\\\\\\\\\", \\\\\\\\\\\\\\\"workspaceName\\\\\\\\\\\\\\\": \\\\\\\\\\\\\\\"quick-starts-ws-126995\\\\\\\\\\\\\\\"}]}, \\\\\\\\\\\\\\\"localData\\\\\\\\\\\\\\\": {}, \\\\\\\\\\\\\\\"isEnabled\\\\\\\\\\\\\\\": true, \\\\\\\\\\\\\\\"name\\\\\\\\\\\\\\\": null, \\\\\\\\\\\\\\\"annotation\\\\\\\\\\\\\\\": null}, {\\\\\\\\\\\\\\\"id\\\\\\\\\\\\\\\": \\\\\\\\\\\\\\\"a35fa0a0-252a-44a8-b6d4-420a76a6534d\\\\\\\\\\\\\\\", \\\\\\\\\\\\\\\"type\\\\\\\\\\\\\\\": \\\\\\\\\\\\\\\"Microsoft.DPrep.ParseDelimitedBlock\\\\\\\\\\\\\\\", \\\\\\\\\\\\\\\"arguments\\\\\\\\\\\\\\\": {\\\\\\\\\\\\\\\"columnHeadersMode\\\\\\\\\\\\\\\": 3, \\\\\\\\\\\\\\\"fileEncoding\\\\\\\\\\\\\\\": 0, \\\\\\\\\\\\\\\"handleQuotedLineBreaks\\\\\\\\\\\\\\\": false, \\\\\\\\\\\\\\\"preview\\\\\\\\\\\\\\\": false, \\\\\\\\\\\\\\\"separator\\\\\\\\\\\\\\\": \\\\\\\\\\\\\\\",\\\\\\\\\\\\\\\", \\\\\\\\\\\\\\\"skipRows\\\\\\\\\\\\\\\": 0, \\\\\\\\\\\\\\\"skipRowsMode\\\\\\\\\\\\\\\": 0}, \\\\\\\\\\\\\\\"localData\\\\\\\\\\\\\\\": {}, \\\\\\\\\\\\\\\"isEnabled\\\\\\\\\\\\\\\": true, \\\\\\\\\\\\\\\"name\\\\\\\\\\\\\\\": null, \\\\\\\\\\\\\\\"annotation\\\\\\\\\\\\\\\": null}, {\\\\\\\\\\\\\\\"id\\\\\\\\\\\\\\\": \\\\\\\\\\\\\\\"4a21ed2d-7de1-4b09-b6e0-2df1b63b1ada\\\\\\\\\\\\\\\", \\\\\\\\\\\\\\\"type\\\\\\\\\\\\\\\": \\\\\\\\\\\\\\\"Microsoft.DPrep.DropColumnsBlock\\\\\\\\\\\\\\\", \\\\\\\\\\\\\\\"arguments\\\\\\\\\\\\\\\": {\\\\\\\\\\\\\\\"columns\\\\\\\\\\\\\\\": {\\\\\\\\\\\\\\\"type\\\\\\\\\\\\\\\": 0, \\\\\\\\\\\\\\\"details\\\\\\\\\\\\\\\": {\\\\\\\\\\\\\\\"selectedColumns\\\\\\\\\\\\\\\": [\\\\\\\\\\\\\\\"Path\\\\\\\\\\\\\\\"]}}}, \\\\\\\\\\\\\\\"localData\\\\\\\\\\\\\\\": {}, \\\\\\\\\\\\\\\"isEnabled\\\\\\\\\\\\\\\": true, \\\\\\\\\\\\\\\"name\\\\\\\\\\\\\\\": null, \\\\\\\\\\\\\\\"annotation\\\\\\\\\\\\\\\": null}, {\\\\\\\\\\\\\\\"id\\\\\\\\\\\\\\\": \\\\\\\\\\\\\\\"7886a7f4-d64e-4f14-8b2a-44e06925f4ca\\\\\\\\\\\\\\\", \\\\\\\\\\\\\\\"type\\\\\\\\\\\\\\\": \\\\\\\\\\\\\\\"Microsoft.DPrep.SetColumnTypesBlock\\\\\\\\\\\\\\\", \\\\\\\\\\\\\\\"arguments\\\\\\\\\\\\\\\": {\\\\\\\\\\\\\\\"columnConversion\\\\\\\\\\\\\\\": [{\\\\\\\\\\\\\\\"column\\\\\\\\\\\\\\\": {\\\\\\\\\\\\\\\"type\\\\\\\\\\\\\\\": 2, \\\\\\\\\\\\\\\"details\\\\\\\\\\\\\\\": {\\\\\\\\\\\\\\\"selectedColumn\\\\\\\\\\\\\\\": \\\\\\\\\\\\\\\"longitude\\\\\\\\\\\\\\\"}}, \\\\\\\\\\\\\\\"typeProperty\\\\\\\\\\\\\\\": 3}, {\\\\\\\\\\\\\\\"column\\\\\\\\\\\\\\\": {\\\\\\\\\\\\\\\"type\\\\\\\\\\\\\\\": 2, \\\\\\\\\\\\\\\"details\\\\\\\\\\\\\\\": {\\\\\\\\\\\\\\\"selectedColumn\\\\\\\\\\\\\\\": \\\\\\\\\\\\\\\"latitude\\\\\\\\\\\\\\\"}}, \\\\\\\\\\\\\\\"typeProperty\\\\\\\\\\\\\\\": 3}, {\\\\\\\\\\\\\\\"column\\\\\\\\\\\\\\\": {\\\\\\\\\\\\\\\"type\\\\\\\\\\\\\\\": 2, \\\\\\\\\\\\\\\"details\\\\\\\\\\\\\\\": {\\\\\\\\\\\\\\\"selectedColumn\\\\\\\\\\\\\\\": \\\\\\\\\\\\\\\"housing_median_age\\\\\\\\\\\\\\\"}}, \\\\\\\\\\\\\\\"typeProperty\\\\\\\\\\\\\\\": 3}, {\\\\\\\\\\\\\\\"column\\\\\\\\\\\\\\\": {\\\\\\\\\\\\\\\"type\\\\\\\\\\\\\\\": 2, \\\\\\\\\\\\\\\"details\\\\\\\\\\\\\\\": {\\\\\\\\\\\\\\\"selectedColumn\\\\\\\\\\\\\\\": \\\\\\\\\\\\\\\"total_rooms\\\\\\\\\\\\\\\"}}, \\\\\\\\\\\\\\\"typeProperty\\\\\\\\\\\\\\\": 3}, {\\\\\\\\\\\\\\\"column\\\\\\\\\\\\\\\": {\\\\\\\\\\\\\\\"type\\\\\\\\\\\\\\\": 2, \\\\\\\\\\\\\\\"details\\\\\\\\\\\\\\\": {\\\\\\\\\\\\\\\"selectedColumn\\\\\\\\\\\\\\\": \\\\\\\\\\\\\\\"total_bedrooms\\\\\\\\\\\\\\\"}}, \\\\\\\\\\\\\\\"typeProperty\\\\\\\\\\\\\\\": 3}, {\\\\\\\\\\\\\\\"column\\\\\\\\\\\\\\\": {\\\\\\\\\\\\\\\"type\\\\\\\\\\\\\\\": 2, \\\\\\\\\\\\\\\"details\\\\\\\\\\\\\\\": {\\\\\\\\\\\\\\\"selectedColumn\\\\\\\\\\\\\\\": \\\\\\\\\\\\\\\"population\\\\\\\\\\\\\\\"}}, \\\\\\\\\\\\\\\"typeProperty\\\\\\\\\\\\\\\": 3}, {\\\\\\\\\\\\\\\"column\\\\\\\\\\\\\\\": {\\\\\\\\\\\\\\\"type\\\\\\\\\\\\\\\": 2, \\\\\\\\\\\\\\\"details\\\\\\\\\\\\\\\": {\\\\\\\\\\\\\\\"selectedColumn\\\\\\\\\\\\\\\": \\\\\\\\\\\\\\\"households\\\\\\\\\\\\\\\"}}, \\\\\\\\\\\\\\\"typeProperty\\\\\\\\\\\\\\\": 3}, {\\\\\\\\\\\\\\\"column\\\\\\\\\\\\\\\": {\\\\\\\\\\\\\\\"type\\\\\\\\\\\\\\\": 2, \\\\\\\\\\\\\\\"details\\\\\\\\\\\\\\\": {\\\\\\\\\\\\\\\"selectedColumn\\\\\\\\\\\\\\\": \\\\\\\\\\\\\\\"median_income\\\\\\\\\\\\\\\"}}, \\\\\\\\\\\\\\\"typeProperty\\\\\\\\\\\\\\\": 3}, {\\\\\\\\\\\\\\\"column\\\\\\\\\\\\\\\": {\\\\\\\\\\\\\\\"type\\\\\\\\\\\\\\\": 2, \\\\\\\\\\\\\\\"details\\\\\\\\\\\\\\\": {\\\\\\\\\\\\\\\"selectedColumn\\\\\\\\\\\\\\\": \\\\\\\\\\\\\\\"median_house_value\\\\\\\\\\\\\\\"}}, \\\\\\\\\\\\\\\"typeProperty\\\\\\\\\\\\\\\": 3}, {\\\\\\\\\\\\\\\"column\\\\\\\\\\\\\\\": {\\\\\\\\\\\\\\\"type\\\\\\\\\\\\\\\": 2, \\\\\\\\\\\\\\\"details\\\\\\\\\\\\\\\": {\\\\\\\\\\\\\\\"selectedColumn\\\\\\\\\\\\\\\": \\\\\\\\\\\\\\\"ocp_<1H OCEAN\\\\\\\\\\\\\\\"}}, \\\\\\\\\\\\\\\"typeProperty\\\\\\\\\\\\\\\": 2}, {\\\\\\\\\\\\\\\"column\\\\\\\\\\\\\\\": {\\\\\\\\\\\\\\\"type\\\\\\\\\\\\\\\": 2, \\\\\\\\\\\\\\\"details\\\\\\\\\\\\\\\": {\\\\\\\\\\\\\\\"selectedColumn\\\\\\\\\\\\\\\": \\\\\\\\\\\\\\\"ocp_INLAND\\\\\\\\\\\\\\\"}}, \\\\\\\\\\\\\\\"typeProperty\\\\\\\\\\\\\\\": 2}, {\\\\\\\\\\\\\\\"column\\\\\\\\\\\\\\\": {\\\\\\\\\\\\\\\"type\\\\\\\\\\\\\\\": 2, \\\\\\\\\\\\\\\"details\\\\\\\\\\\\\\\": {\\\\\\\\\\\\\\\"selectedColumn\\\\\\\\\\\\\\\": \\\\\\\\\\\\\\\"ocp_ISLAND\\\\\\\\\\\\\\\"}}, \\\\\\\\\\\\\\\"typeProperty\\\\\\\\\\\\\\\": 2}, {\\\\\\\\\\\\\\\"column\\\\\\\\\\\\\\\": {\\\\\\\\\\\\\\\"type\\\\\\\\\\\\\\\": 2, \\\\\\\\\\\\\\\"details\\\\\\\\\\\\\\\": {\\\\\\\\\\\\\\\"selectedColumn\\\\\\\\\\\\\\\": \\\\\\\\\\\\\\\"ocp_NEAR BAY\\\\\\\\\\\\\\\"}}, \\\\\\\\\\\\\\\"typeProperty\\\\\\\\\\\\\\\": 2}, {\\\\\\\\\\\\\\\"column\\\\\\\\\\\\\\\": {\\\\\\\\\\\\\\\"type\\\\\\\\\\\\\\\": 2, \\\\\\\\\\\\\\\"details\\\\\\\\\\\\\\\": {\\\\\\\\\\\\\\\"selectedColumn\\\\\\\\\\\\\\\": \\\\\\\\\\\\\\\"ocp_NEAR OCEAN\\\\\\\\\\\\\\\"}}, \\\\\\\\\\\\\\\"typeProperty\\\\\\\\\\\\\\\": 2}]}, \\\\\\\\\\\\\\\"localData\\\\\\\\\\\\\\\": {}, \\\\\\\\\\\\\\\"isEnabled\\\\\\\\\\\\\\\": true, \\\\\\\\\\\\\\\"name\\\\\\\\\\\\\\\": null, \\\\\\\\\\\\\\\"annotation\\\\\\\\\\\\\\\": null}], \\\\\\\\\\\\\\\"inspectors\\\\\\\\\\\\\\\": [], \\\\\\\\\\\\\\\"meta\\\\\\\\\\\\\\\": {\\\\\\\\\\\\\\\"savedDatasetId\\\\\\\\\\\\\\\": \\\\\\\\\\\\\\\"589bc120-9b95-4a4c-81f2-e1070a377892\\\\\\\\\\\\\\\", \\\\\\\\\\\\\\\"datasetType\\\\\\\\\\\\\\\": \\\\\\\\\\\\\\\"tabular\\\\\\\\\\\\\\\", \\\\\\\\\\\\\\\"subscriptionId\\\\\\\\\\\\\\\": \\\\\\\\\\\\\\\"502bce8d-d66b-4661-a423-f21e61d20123\\\\\\\\\\\\\\\", \\\\\\\\\\\\\\\"workspaceId\\\\\\\\\\\\\\\": \\\\\\\\\\\\\\\"b58662cd-032b-4c1e-8c6e-d824ceb8b552\\\\\\\\\\\\\\\", \\\\\\\\\\\\\\\"workspaceLocation\\\\\\\\\\\\\\\": \\\\\\\\\\\\\\\"southcentralus\\\\\\\\\\\\\\\"}}\\\\\\\", \\\\\\\"validation_data\\\\\\\": \\\\\\\"{\\\\\\\\\\\\\\\"blocks\\\\\\\\\\\\\\\": [{\\\\\\\\\\\\\\\"id\\\\\\\\\\\\\\\": \\\\\\\\\\\\\\\"a1404c0a-85ef-42b4-87ec-4fc5d85ac3ff\\\\\\\\\\\\\\\", \\\\\\\\\\\\\\\"type\\\\\\\\\\\\\\\": \\\\\\\\\\\\\\\"Microsoft.DPrep.GetDatastoreFilesBlock\\\\\\\\\\\\\\\", \\\\\\\\\\\\\\\"arguments\\\\\\\\\\\\\\\": {\\\\\\\\\\\\\\\"datastores\\\\\\\\\\\\\\\": [{\\\\\\\\\\\\\\\"datastoreName\\\\\\\\\\\\\\\": \\\\\\\\\\\\\\\"workspaceblobstore\\\\\\\\\\\\\\\", \\\\\\\\\\\\\\\"path\\\\\\\\\\\\\\\": \\\\\\\\\\\\\\\"testset.csv\\\\\\\\\\\\\\\", \\\\\\\\\\\\\\\"resourceGroup\\\\\\\\\\\\\\\": \\\\\\\\\\\\\\\"aml-quickstarts-126995\\\\\\\\\\\\\\\", \\\\\\\\\\\\\\\"subscription\\\\\\\\\\\\\\\": \\\\\\\\\\\\\\\"502bce8d-d66b-4661-a423-f21e61d20123\\\\\\\\\\\\\\\", \\\\\\\\\\\\\\\"workspaceName\\\\\\\\\\\\\\\": \\\\\\\\\\\\\\\"quick-starts-ws-126995\\\\\\\\\\\\\\\"}]}, \\\\\\\\\\\\\\\"localData\\\\\\\\\\\\\\\": {}, \\\\\\\\\\\\\\\"isEnabled\\\\\\\\\\\\\\\": true, \\\\\\\\\\\\\\\"name\\\\\\\\\\\\\\\": null, \\\\\\\\\\\\\\\"annotation\\\\\\\\\\\\\\\": null}, {\\\\\\\\\\\\\\\"id\\\\\\\\\\\\\\\": \\\\\\\\\\\\\\\"e3e1ca0a-30c5-40b4-8fee-a0c4c79fe362\\\\\\\\\\\\\\\", \\\\\\\\\\\\\\\"type\\\\\\\\\\\\\\\": \\\\\\\\\\\\\\\"Microsoft.DPrep.ParseDelimitedBlock\\\\\\\\\\\\\\\", \\\\\\\\\\\\\\\"arguments\\\\\\\\\\\\\\\": {\\\\\\\\\\\\\\\"columnHeadersMode\\\\\\\\\\\\\\\": 3, \\\\\\\\\\\\\\\"fileEncoding\\\\\\\\\\\\\\\": 0, \\\\\\\\\\\\\\\"handleQuotedLineBreaks\\\\\\\\\\\\\\\": false, \\\\\\\\\\\\\\\"preview\\\\\\\\\\\\\\\": false, \\\\\\\\\\\\\\\"separator\\\\\\\\\\\\\\\": \\\\\\\\\\\\\\\",\\\\\\\\\\\\\\\", \\\\\\\\\\\\\\\"skipRows\\\\\\\\\\\\\\\": 0, \\\\\\\\\\\\\\\"skipRowsMode\\\\\\\\\\\\\\\": 0}, \\\\\\\\\\\\\\\"localData\\\\\\\\\\\\\\\": {}, \\\\\\\\\\\\\\\"isEnabled\\\\\\\\\\\\\\\": true, \\\\\\\\\\\\\\\"name\\\\\\\\\\\\\\\": null, \\\\\\\\\\\\\\\"annotation\\\\\\\\\\\\\\\": null}, {\\\\\\\\\\\\\\\"id\\\\\\\\\\\\\\\": \\\\\\\\\\\\\\\"3fcb188c-dd5d-402e-8933-1f7734c48d42\\\\\\\\\\\\\\\", \\\\\\\\\\\\\\\"type\\\\\\\\\\\\\\\": \\\\\\\\\\\\\\\"Microsoft.DPrep.DropColumnsBlock\\\\\\\\\\\\\\\", \\\\\\\\\\\\\\\"arguments\\\\\\\\\\\\\\\": {\\\\\\\\\\\\\\\"columns\\\\\\\\\\\\\\\": {\\\\\\\\\\\\\\\"type\\\\\\\\\\\\\\\": 0, \\\\\\\\\\\\\\\"details\\\\\\\\\\\\\\\": {\\\\\\\\\\\\\\\"selectedColumns\\\\\\\\\\\\\\\": [\\\\\\\\\\\\\\\"Path\\\\\\\\\\\\\\\"]}}}, \\\\\\\\\\\\\\\"localData\\\\\\\\\\\\\\\": {}, \\\\\\\\\\\\\\\"isEnabled\\\\\\\\\\\\\\\": true, \\\\\\\\\\\\\\\"name\\\\\\\\\\\\\\\": null, \\\\\\\\\\\\\\\"annotation\\\\\\\\\\\\\\\": null}, {\\\\\\\\\\\\\\\"id\\\\\\\\\\\\\\\": \\\\\\\\\\\\\\\"626e26d1-50b6-43b7-b007-74e1e66bf25c\\\\\\\\\\\\\\\", \\\\\\\\\\\\\\\"type\\\\\\\\\\\\\\\": \\\\\\\\\\\\\\\"Microsoft.DPrep.SetColumnTypesBlock\\\\\\\\\\\\\\\", \\\\\\\\\\\\\\\"arguments\\\\\\\\\\\\\\\": {\\\\\\\\\\\\\\\"columnConversion\\\\\\\\\\\\\\\": [{\\\\\\\\\\\\\\\"column\\\\\\\\\\\\\\\": {\\\\\\\\\\\\\\\"type\\\\\\\\\\\\\\\": 2, \\\\\\\\\\\\\\\"details\\\\\\\\\\\\\\\": {\\\\\\\\\\\\\\\"selectedColumn\\\\\\\\\\\\\\\": \\\\\\\\\\\\\\\"longitude\\\\\\\\\\\\\\\"}}, \\\\\\\\\\\\\\\"typeProperty\\\\\\\\\\\\\\\": 3}, {\\\\\\\\\\\\\\\"column\\\\\\\\\\\\\\\": {\\\\\\\\\\\\\\\"type\\\\\\\\\\\\\\\": 2, \\\\\\\\\\\\\\\"details\\\\\\\\\\\\\\\": {\\\\\\\\\\\\\\\"selectedColumn\\\\\\\\\\\\\\\": \\\\\\\\\\\\\\\"latitude\\\\\\\\\\\\\\\"}}, \\\\\\\\\\\\\\\"typeProperty\\\\\\\\\\\\\\\": 3}, {\\\\\\\\\\\\\\\"column\\\\\\\\\\\\\\\": {\\\\\\\\\\\\\\\"type\\\\\\\\\\\\\\\": 2, \\\\\\\\\\\\\\\"details\\\\\\\\\\\\\\\": {\\\\\\\\\\\\\\\"selectedColumn\\\\\\\\\\\\\\\": \\\\\\\\\\\\\\\"housing_median_age\\\\\\\\\\\\\\\"}}, \\\\\\\\\\\\\\\"typeProperty\\\\\\\\\\\\\\\": 3}, {\\\\\\\\\\\\\\\"column\\\\\\\\\\\\\\\": {\\\\\\\\\\\\\\\"type\\\\\\\\\\\\\\\": 2, \\\\\\\\\\\\\\\"details\\\\\\\\\\\\\\\": {\\\\\\\\\\\\\\\"selectedColumn\\\\\\\\\\\\\\\": \\\\\\\\\\\\\\\"total_rooms\\\\\\\\\\\\\\\"}}, \\\\\\\\\\\\\\\"typeProperty\\\\\\\\\\\\\\\": 3}, {\\\\\\\\\\\\\\\"column\\\\\\\\\\\\\\\": {\\\\\\\\\\\\\\\"type\\\\\\\\\\\\\\\": 2, \\\\\\\\\\\\\\\"details\\\\\\\\\\\\\\\": {\\\\\\\\\\\\\\\"selectedColumn\\\\\\\\\\\\\\\": \\\\\\\\\\\\\\\"total_bedrooms\\\\\\\\\\\\\\\"}}, \\\\\\\\\\\\\\\"typeProperty\\\\\\\\\\\\\\\": 0}, {\\\\\\\\\\\\\\\"column\\\\\\\\\\\\\\\": {\\\\\\\\\\\\\\\"type\\\\\\\\\\\\\\\": 2, \\\\\\\\\\\\\\\"details\\\\\\\\\\\\\\\": {\\\\\\\\\\\\\\\"selectedColumn\\\\\\\\\\\\\\\": \\\\\\\\\\\\\\\"population\\\\\\\\\\\\\\\"}}, \\\\\\\\\\\\\\\"typeProperty\\\\\\\\\\\\\\\": 3}, {\\\\\\\\\\\\\\\"column\\\\\\\\\\\\\\\": {\\\\\\\\\\\\\\\"type\\\\\\\\\\\\\\\": 2, \\\\\\\\\\\\\\\"details\\\\\\\\\\\\\\\": {\\\\\\\\\\\\\\\"selectedColumn\\\\\\\\\\\\\\\": \\\\\\\\\\\\\\\"households\\\\\\\\\\\\\\\"}}, \\\\\\\\\\\\\\\"typeProperty\\\\\\\\\\\\\\\": 3}, {\\\\\\\\\\\\\\\"column\\\\\\\\\\\\\\\": {\\\\\\\\\\\\\\\"type\\\\\\\\\\\\\\\": 2, \\\\\\\\\\\\\\\"details\\\\\\\\\\\\\\\": {\\\\\\\\\\\\\\\"selectedColumn\\\\\\\\\\\\\\\": \\\\\\\\\\\\\\\"median_income\\\\\\\\\\\\\\\"}}, \\\\\\\\\\\\\\\"typeProperty\\\\\\\\\\\\\\\": 3}, {\\\\\\\\\\\\\\\"column\\\\\\\\\\\\\\\": {\\\\\\\\\\\\\\\"type\\\\\\\\\\\\\\\": 2, \\\\\\\\\\\\\\\"details\\\\\\\\\\\\\\\": {\\\\\\\\\\\\\\\"selectedColumn\\\\\\\\\\\\\\\": \\\\\\\\\\\\\\\"median_house_value\\\\\\\\\\\\\\\"}}, \\\\\\\\\\\\\\\"typeProperty\\\\\\\\\\\\\\\": 3}, {\\\\\\\\\\\\\\\"column\\\\\\\\\\\\\\\": {\\\\\\\\\\\\\\\"type\\\\\\\\\\\\\\\": 2, \\\\\\\\\\\\\\\"details\\\\\\\\\\\\\\\": {\\\\\\\\\\\\\\\"selectedColumn\\\\\\\\\\\\\\\": \\\\\\\\\\\\\\\"ocp_<1H OCEAN\\\\\\\\\\\\\\\"}}, \\\\\\\\\\\\\\\"typeProperty\\\\\\\\\\\\\\\": 2}, {\\\\\\\\\\\\\\\"column\\\\\\\\\\\\\\\": {\\\\\\\\\\\\\\\"type\\\\\\\\\\\\\\\": 2, \\\\\\\\\\\\\\\"details\\\\\\\\\\\\\\\": {\\\\\\\\\\\\\\\"selectedColumn\\\\\\\\\\\\\\\": \\\\\\\\\\\\\\\"ocp_INLAND\\\\\\\\\\\\\\\"}}, \\\\\\\\\\\\\\\"typeProperty\\\\\\\\\\\\\\\": 2}, {\\\\\\\\\\\\\\\"column\\\\\\\\\\\\\\\": {\\\\\\\\\\\\\\\"type\\\\\\\\\\\\\\\": 2, \\\\\\\\\\\\\\\"details\\\\\\\\\\\\\\\": {\\\\\\\\\\\\\\\"selectedColumn\\\\\\\\\\\\\\\": \\\\\\\\\\\\\\\"ocp_ISLAND\\\\\\\\\\\\\\\"}}, \\\\\\\\\\\\\\\"typeProperty\\\\\\\\\\\\\\\": 2}, {\\\\\\\\\\\\\\\"column\\\\\\\\\\\\\\\": {\\\\\\\\\\\\\\\"type\\\\\\\\\\\\\\\": 2, \\\\\\\\\\\\\\\"details\\\\\\\\\\\\\\\": {\\\\\\\\\\\\\\\"selectedColumn\\\\\\\\\\\\\\\": \\\\\\\\\\\\\\\"ocp_NEAR BAY\\\\\\\\\\\\\\\"}}, \\\\\\\\\\\\\\\"typeProperty\\\\\\\\\\\\\\\": 2}, {\\\\\\\\\\\\\\\"column\\\\\\\\\\\\\\\": {\\\\\\\\\\\\\\\"type\\\\\\\\\\\\\\\": 2, \\\\\\\\\\\\\\\"details\\\\\\\\\\\\\\\": {\\\\\\\\\\\\\\\"selectedColumn\\\\\\\\\\\\\\\": \\\\\\\\\\\\\\\"ocp_NEAR OCEAN\\\\\\\\\\\\\\\"}}, \\\\\\\\\\\\\\\"typeProperty\\\\\\\\\\\\\\\": 2}]}, \\\\\\\\\\\\\\\"localData\\\\\\\\\\\\\\\": {}, \\\\\\\\\\\\\\\"isEnabled\\\\\\\\\\\\\\\": true, \\\\\\\\\\\\\\\"name\\\\\\\\\\\\\\\": null, \\\\\\\\\\\\\\\"annotation\\\\\\\\\\\\\\\": null}], \\\\\\\\\\\\\\\"inspectors\\\\\\\\\\\\\\\": [], \\\\\\\\\\\\\\\"meta\\\\\\\\\\\\\\\": {\\\\\\\\\\\\\\\"savedDatasetId\\\\\\\\\\\\\\\": \\\\\\\\\\\\\\\"579e6450-5884-4476-9587-d8cf5880012a\\\\\\\\\\\\\\\", \\\\\\\\\\\\\\\"datasetType\\\\\\\\\\\\\\\": \\\\\\\\\\\\\\\"tabular\\\\\\\\\\\\\\\", \\\\\\\\\\\\\\\"subscriptionId\\\\\\\\\\\\\\\": \\\\\\\\\\\\\\\"502bce8d-d66b-4661-a423-f21e61d20123\\\\\\\\\\\\\\\", \\\\\\\\\\\\\\\"workspaceId\\\\\\\\\\\\\\\": \\\\\\\\\\\\\\\"b58662cd-032b-4c1e-8c6e-d824ceb8b552\\\\\\\\\\\\\\\", \\\\\\\\\\\\\\\"workspaceLocation\\\\\\\\\\\\\\\": \\\\\\\\\\\\\\\"southcentralus\\\\\\\\\\\\\\\"}}\\\\\\\", \\\\\\\"activities\\\\\\\": 0}\", \"EnableSubsampling\": null, \"runTemplate\": \"AutoML\", \"azureml.runsource\": \"automl\", \"display_task_type\": \"regression\", \"dependencies_versions\": \"{\\\"azureml-widgets\\\": \\\"1.18.0\\\", \\\"azureml-train\\\": \\\"1.18.0\\\", \\\"azureml-train-restclients-hyperdrive\\\": \\\"1.18.0\\\", \\\"azureml-train-core\\\": \\\"1.18.0\\\", \\\"azureml-train-automl\\\": \\\"1.18.0\\\", \\\"azureml-train-automl-runtime\\\": \\\"1.18.0\\\", \\\"azureml-train-automl-client\\\": \\\"1.18.0\\\", \\\"azureml-tensorboard\\\": \\\"1.18.0\\\", \\\"azureml-telemetry\\\": \\\"1.18.0\\\", \\\"azureml-sdk\\\": \\\"1.18.0\\\", \\\"azureml-samples\\\": \\\"0+unknown\\\", \\\"azureml-pipeline\\\": \\\"1.18.0\\\", \\\"azureml-pipeline-steps\\\": \\\"1.18.0\\\", \\\"azureml-pipeline-core\\\": \\\"1.18.0\\\", \\\"azureml-opendatasets\\\": \\\"1.18.0\\\", \\\"azureml-model-management-sdk\\\": \\\"1.0.1b6.post1\\\", \\\"azureml-mlflow\\\": \\\"1.18.0\\\", \\\"azureml-interpret\\\": \\\"1.18.0\\\", \\\"azureml-explain-model\\\": \\\"1.18.0\\\", \\\"azureml-defaults\\\": \\\"1.18.0\\\", \\\"azureml-dataset-runtime\\\": \\\"1.18.0\\\", \\\"azureml-dataprep\\\": \\\"2.4.2\\\", \\\"azureml-dataprep-rslex\\\": \\\"1.2.2\\\", \\\"azureml-dataprep-native\\\": \\\"24.0.0\\\", \\\"azureml-datadrift\\\": \\\"1.18.0\\\", \\\"azureml-core\\\": \\\"1.18.0\\\", \\\"azureml-contrib-services\\\": \\\"1.18.0\\\", \\\"azureml-contrib-server\\\": \\\"1.18.0\\\", \\\"azureml-contrib-reinforcementlearning\\\": \\\"1.18.0\\\", \\\"azureml-contrib-pipeline-steps\\\": \\\"1.18.0\\\", \\\"azureml-contrib-notebook\\\": \\\"1.18.0\\\", \\\"azureml-contrib-interpret\\\": \\\"1.18.0\\\", \\\"azureml-contrib-gbdt\\\": \\\"1.18.0\\\", \\\"azureml-contrib-fairness\\\": \\\"1.18.0\\\", \\\"azureml-contrib-dataset\\\": \\\"1.18.0\\\", \\\"azureml-cli-common\\\": \\\"1.18.0\\\", \\\"azureml-automl-runtime\\\": \\\"1.18.0\\\", \\\"azureml-automl-core\\\": \\\"1.18.0\\\", \\\"azureml-accel-models\\\": \\\"1.18.0\\\"}\", \"_aml_system_scenario_identification\": \"Remote.Parent\", \"ClientType\": \"SDK\", \"environment_cpu_name\": \"AzureML-AutoML\", \"environment_cpu_version\": \"44\", \"environment_gpu_name\": \"AzureML-AutoML-GPU\", \"environment_gpu_version\": \"32\", \"root_attribution\": \"automl\", \"attribution\": \"AutoML\", \"Orchestrator\": \"AutoML\", \"CancelUri\": \"https://southcentralus.experiments.azureml.net/jasmine/v1.0/subscriptions/502bce8d-d66b-4661-a423-f21e61d20123/resourceGroups/aml-quickstarts-126995/providers/Microsoft.MachineLearningServices/workspaces/quick-starts-ws-126995/experimentids/8f4fc87e-7750-48c3-af08-d32d4ff7589f/cancel/AutoML_87e2c6b2-2888-4320-a418-5c087560a1fb\", \"ClientSdkVersion\": \"1.17.0\", \"snapshotId\": \"00000000-0000-0000-0000-000000000000\", \"SetupRunId\": \"AutoML_87e2c6b2-2888-4320-a418-5c087560a1fb_setup\", \"SetupRunContainerId\": \"dcid.AutoML_87e2c6b2-2888-4320-a418-5c087560a1fb_setup\", \"FeaturizationRunJsonPath\": \"featurizer_container.json\", \"FeaturizationRunId\": \"AutoML_87e2c6b2-2888-4320-a418-5c087560a1fb_featurize\", \"ProblemInfoJsonString\": \"{\\\"dataset_num_categorical\\\": 0, \\\"is_sparse\\\": false, \\\"subsampling\\\": false, \\\"dataset_classes\\\": 3675, \\\"dataset_features\\\": 13, \\\"dataset_samples\\\": 16512, \\\"single_frequency_class_detected\\\": false}\", \"ModelExplainRunId\": \"AutoML_87e2c6b2-2888-4320-a418-5c087560a1fb_ModelExplain\"}, \"tags\": {\"model_explain_run\": \"best_run\", \"_aml_system_azureml.automlComponent\": \"AutoML\", \"pipeline_id\": \"<faf12f74cf9bbd358ca5525682c5030d36f7be7c>;<4bc4ec47eb8df2d5d68b361cd60120e65196f757>;<73e33c7ea15f39b8e0d74491cc5f15c0665289c1>;<d4c9c848830510df97cf8a3254411b6d2ac7782a>;<3406e9e192a0ce11c900f9ea741be7144dad2792>;<994ac9230f8a2cdd51464d09b7bb29a296787f03>;<1f5c0f633aa8d68d70ab2e97222afbf32aa4ac67>;<a420420d1d035a7a090fb1dca3298e66f57d6f02>;<0dcd72a2a6694c43a5151d2bba1d69d16125f375>;<986c62191b8b7091bc208bc025e9c503279fc386>;<e980fc30c223fa910fdfba5a88ac8305ae2d8a07>;<0a7ee6d660a81ba37cbc1fc311bac22edfe07b71>;<e8a5ec1d708e6e5c9f758e3aa8e072f1d096d973>;<b602a28066d8b70641f78794b007da3913cb6ef6>;<681f50489ce2609840e6528b015027c3be5da0cc>;<f5d32fa6abe90877630e93b35f3c66e09eeff9c2>;<de747adb2e9b29fd1ce14621a60fda03ef609397>;<f9c8d9e2d0f281511e0611416293045d0565b21b>;<de8413ff179abcbbc80488259fb64be777e81d9c>;<26a4b12b2f649fe1c2d47f00eaebbdc12f0ffdb6>;<60fc2d711f8cea4e6bb477a7d71a0f687f15ea69>;<5cb4ea350f34b02859534a5b69591f562d697b41>;<3289f00260aa7b81d787a6aa3aff812745f716eb>;<46473486f6488cf628b4641452daf0168ad148c7>;<fa31128ec7bdaa124598aa72862183c17d546d7f>;<a4bbab68227b8ab31c9adc7cc80caac1686ad968>;<6fbf36d59156bb82b596088ab13df5839ca45946>;<01596fd8f4917fc14ffe0f2b0f54ecac52270855>;<39c4ccb780374fbe2a16a7f8bc93c517fcf56b75>;<31154dd7a5b4ca7c6542a592728d2d0c8a7d51de>;<__AutoML_Ensemble__>;<__AutoML_Stack_Ensemble__>;\", \"score\": \"<0.09934886736317816>;<0.11565728545074569>;<0.1426506876104424>;<0.14042496740609114>;<0.1443942278199597>;<0.15144427172929298>;<0.14439422374253907>;<0.14450232675195854>;<0.14261452909887193>;<0.12390609999183612>;<0.15291637864197852>;<0.13291193808077964>;<0.15048049321366008>;<0.14530790156033438>;<0.1463621114969071>;<0.14800096203321933>;<0.13285936379648064>;<0.14588230849461253>;<0.1468071830884404>;<0.13495640711148393>;<0.1439619322315792>;<0.13800922875296434>;<0.13260042481250117>;<0.16561027210504714>;<0.1342292709377407>;<0.14241625551316378>;<0.12727143047015727>;<0.14069562980490513>;<0.13734760581109826>;<0.14807490121639955>;<0.09934886736317816>;<0.09935133124718654>;\", \"predicted_cost\": \"<0>;<0>;<0.5>;<0.05728599999999999>;<0.05010497196304273>;<0.048972751415667225>;<0.07365580326076612>;<0.20022241336468827>;<0.059035378387594414>;<0.18268024148269257>;<0.059299292897820016>;<0.07358013351737125>;<0.06370527160368708>;<0.041188594248154305>;<0.0652510313172093>;<0.434544147720458>;<0.08359839040054264>;<0.04227625006135283>;<0.019065641739394512>;<0.03441245940315193>;<0.017216678091853673>;<0.03345537449535555>;<0.022599109020194016>;<0.01113223282363907>;<0.07929727813263757>;<0.046477609283204074>;<0.03501731497077558>;<0.04970797212413351>;<0.05641415315006206>;<0.045269647206412376>;<0>;<0>;\", \"fit_time\": \"<0.35428899999999997>;<1.037624>;<0.057286000000000004>;<0.046188>;<0.03523>;<0.729442>;<0.02796>;<0.950499>;<0.061345>;<0.081046>;<0.041042>;<0.052684999999999996>;<0.019846>;<0.019873>;<0.016220000000000002>;<0.295697>;<0.057419>;<0.020050000000000002>;<0.016923>;<0.047055>;<0.035855>;<0.054281>;<0.05991>;<0.045666>;<0.07027900000000001>;<0.142871>;<0.079412>;<0.054694>;<0.504957>;<0.051352999999999996>;<11>;<9>;\", \"training_percent\": \"<100>;<100>;<100>;<100>;<100>;<100>;<100>;<100>;<100>;<100>;<100>;<100>;<100>;<100>;<100>;<100>;<100>;<100>;<100>;<100>;<100>;<100>;<100>;<100>;<100>;<100>;<100>;<100>;<100>;<100>;<100>;<100>;\", \"iteration\": \"<0>;<1>;<2>;<3>;<4>;<5>;<6>;<7>;<8>;<9>;<10>;<11>;<12>;<13>;<14>;<15>;<16>;<17>;<18>;<19>;<20>;<21>;<22>;<23>;<24>;<25>;<26>;<27>;<28>;<29>;<30>;<31>;\", \"run_preprocessor\": \"<MaxAbsScaler>;<MaxAbsScaler>;<MaxAbsScaler>;<MinMaxScaler>;<StandardScalerWrapper>;<RobustScaler>;<StandardScalerWrapper>;<RobustScaler>;<RobustScaler>;<MinMaxScaler>;<RobustScaler>;<MinMaxScaler>;<StandardScalerWrapper>;<StandardScalerWrapper>;<RobustScaler>;<RobustScaler>;<StandardScalerWrapper>;<MinMaxScaler>;<MinMaxScaler>;<RobustScaler>;<RobustScaler>;<StandardScalerWrapper>;<StandardScalerWrapper>;<StandardScalerWrapper>;<MinMaxScaler>;<MinMaxScaler>;<MinMaxScaler>;<MinMaxScaler>;<StandardScalerWrapper>;<StandardScalerWrapper>;<>;<>;\", \"run_algorithm\": \"<LightGBM>;<XGBoostRegressor>;<DecisionTree>;<DecisionTree>;<LassoLars>;<ElasticNet>;<LassoLars>;<ElasticNet>;<DecisionTree>;<DecisionTree>;<DecisionTree>;<DecisionTree>;<DecisionTree>;<DecisionTree>;<DecisionTree>;<ElasticNet>;<DecisionTree>;<DecisionTree>;<DecisionTree>;<DecisionTree>;<DecisionTree>;<DecisionTree>;<DecisionTree>;<ExtremeRandomTrees>;<DecisionTree>;<LightGBM>;<DecisionTree>;<DecisionTree>;<RandomForest>;<DecisionTree>;<VotingEnsemble>;<StackEnsemble>;\", \"dynamic_whitelisting_iterations\": \"<25>;\", \"automl_best_child_run_id\": \"AutoML_87e2c6b2-2888-4320-a418-5c087560a1fb_0\", \"model_explain_best_run_child_id\": \"AutoML_87e2c6b2-2888-4320-a418-5c087560a1fb_0\"}, \"end_time_utc\": \"2020-11-20T12:02:27.743642Z\", \"status\": \"Completed\", \"log_files\": {}, \"log_groups\": [], \"run_duration\": \"0:30:47\"}, \"child_runs\": [{\"run_id\": \"AutoML_87e2c6b2-2888-4320-a418-5c087560a1fb_0\", \"run_number\": 42, \"metric\": null, \"status\": \"Completed\", \"run_type\": \"azureml.scriptrun\", \"training_percent\": \"100\", \"start_time\": \"2020-11-20T11:35:01.17171Z\", \"end_time\": \"2020-11-20T11:35:29.463561Z\", \"created_time\": \"2020-11-20T11:34:47.267674Z\", \"created_time_dt\": \"2020-11-20T11:34:47.267674Z\", \"duration\": \"0:00:42\", \"iteration\": \"0\", \"goal\": \"normalized_root_mean_squared_error_min\", \"run_name\": \"MaxAbsScaler, LightGBM\", \"run_properties\": \"copy=True\", \"primary_metric\": 0.09934887, \"best_metric\": 0.09934887}, {\"run_id\": \"AutoML_87e2c6b2-2888-4320-a418-5c087560a1fb_1\", \"run_number\": 43, \"metric\": null, \"status\": \"Completed\", \"run_type\": \"azureml.scriptrun\", \"training_percent\": \"100\", \"start_time\": \"2020-11-20T11:35:43.96015Z\", \"end_time\": \"2020-11-20T11:36:11.961122Z\", \"created_time\": \"2020-11-20T11:35:32.358735Z\", \"created_time_dt\": \"2020-11-20T11:35:32.358735Z\", \"duration\": \"0:00:39\", \"iteration\": \"1\", \"goal\": \"normalized_root_mean_squared_error_min\", \"run_name\": \"MaxAbsScaler, XGBoostRegressor\", \"run_properties\": \"copy=True\", \"primary_metric\": 0.11565729, \"best_metric\": 0.09934887}, {\"run_id\": \"AutoML_87e2c6b2-2888-4320-a418-5c087560a1fb_2\", \"run_number\": 44, \"metric\": null, \"status\": \"Completed\", \"run_type\": \"azureml.scriptrun\", \"training_percent\": \"100\", \"start_time\": \"2020-11-20T11:36:29.83392Z\", \"end_time\": \"2020-11-20T11:36:58.959002Z\", \"created_time\": \"2020-11-20T11:36:16.876903Z\", \"created_time_dt\": \"2020-11-20T11:36:16.876903Z\", \"duration\": \"0:00:42\", \"iteration\": \"2\", \"goal\": \"normalized_root_mean_squared_error_min\", \"run_name\": \"MaxAbsScaler, DecisionTree\", \"run_properties\": \"copy=True\", \"primary_metric\": 0.14265069, \"best_metric\": 0.09934887}, {\"run_id\": \"AutoML_87e2c6b2-2888-4320-a418-5c087560a1fb_3\", \"run_number\": 45, \"metric\": null, \"status\": \"Completed\", \"run_type\": \"azureml.scriptrun\", \"training_percent\": \"100\", \"start_time\": \"2020-11-20T11:37:14.598624Z\", \"end_time\": \"2020-11-20T11:37:39.146869Z\", \"created_time\": \"2020-11-20T11:37:02.684177Z\", \"created_time_dt\": \"2020-11-20T11:37:02.684177Z\", \"duration\": \"0:00:36\", \"iteration\": \"3\", \"goal\": \"normalized_root_mean_squared_error_min\", \"run_name\": \"MinMaxScaler, DecisionTree\", \"run_properties\": \"copy=True, feature_range=(0, 1\", \"primary_metric\": 0.14042497, \"best_metric\": 0.09934887}, {\"run_id\": \"AutoML_87e2c6b2-2888-4320-a418-5c087560a1fb_4\", \"run_number\": 46, \"metric\": null, \"status\": \"Completed\", \"run_type\": \"azureml.scriptrun\", \"training_percent\": \"100\", \"start_time\": \"2020-11-20T11:38:00.27419Z\", \"end_time\": \"2020-11-20T11:38:23.436699Z\", \"created_time\": \"2020-11-20T11:37:48.644202Z\", \"created_time_dt\": \"2020-11-20T11:37:48.644202Z\", \"duration\": \"0:00:34\", \"iteration\": \"4\", \"goal\": \"normalized_root_mean_squared_error_min\", \"run_name\": \"StandardScalerWrapper, LassoLars\", \"run_properties\": \"<azureml.automl.runtime.shared.model_wrappers.StandardScalerWrapper object at 0x7f3c34590320\", \"primary_metric\": 0.14439423, \"best_metric\": 0.09934887}, {\"run_id\": \"AutoML_87e2c6b2-2888-4320-a418-5c087560a1fb_5\", \"run_number\": 47, \"metric\": null, \"status\": \"Completed\", \"run_type\": \"azureml.scriptrun\", \"training_percent\": \"100\", \"start_time\": \"2020-11-20T11:38:47.033104Z\", \"end_time\": \"2020-11-20T11:39:16.228122Z\", \"created_time\": \"2020-11-20T11:38:34.393085Z\", \"created_time_dt\": \"2020-11-20T11:38:34.393085Z\", \"duration\": \"0:00:41\", \"iteration\": \"5\", \"goal\": \"normalized_root_mean_squared_error_min\", \"run_name\": \"RobustScaler, ElasticNet\", \"run_properties\": \"copy=True, quantile_range=[25, 75], with_centering=True,\\n             with_scaling=False\", \"primary_metric\": 0.15144427, \"best_metric\": 0.09934887}, {\"run_id\": \"AutoML_87e2c6b2-2888-4320-a418-5c087560a1fb_6\", \"run_number\": 48, \"metric\": null, \"status\": \"Completed\", \"run_type\": \"azureml.scriptrun\", \"training_percent\": \"100\", \"start_time\": \"2020-11-20T11:39:34.722642Z\", \"end_time\": \"2020-11-20T11:40:06.749381Z\", \"created_time\": \"2020-11-20T11:39:20.685004Z\", \"created_time_dt\": \"2020-11-20T11:39:20.685004Z\", \"duration\": \"0:00:46\", \"iteration\": \"6\", \"goal\": \"normalized_root_mean_squared_error_min\", \"run_name\": \"StandardScalerWrapper, LassoLars\", \"run_properties\": \"<azureml.automl.runtime.shared.model_wrappers.StandardScalerWrapper object at 0x7f051c19cb70\", \"primary_metric\": 0.14439422, \"best_metric\": 0.09934887}, {\"run_id\": \"AutoML_87e2c6b2-2888-4320-a418-5c087560a1fb_7\", \"run_number\": 49, \"metric\": null, \"status\": \"Completed\", \"run_type\": \"azureml.scriptrun\", \"training_percent\": \"100\", \"start_time\": \"2020-11-20T11:40:24.800105Z\", \"end_time\": \"2020-11-20T11:40:55.840182Z\", \"created_time\": \"2020-11-20T11:40:09.356359Z\", \"created_time_dt\": \"2020-11-20T11:40:09.356359Z\", \"duration\": \"0:00:46\", \"iteration\": \"7\", \"goal\": \"normalized_root_mean_squared_error_min\", \"run_name\": \"RobustScaler, ElasticNet\", \"run_properties\": \"copy=True, quantile_range=[25, 75], with_centering=True,\\n             with_scaling=False\", \"primary_metric\": 0.14450233, \"best_metric\": 0.09934887}, {\"run_id\": \"AutoML_87e2c6b2-2888-4320-a418-5c087560a1fb_8\", \"run_number\": 50, \"metric\": null, \"status\": \"Completed\", \"run_type\": \"azureml.scriptrun\", \"training_percent\": \"100\", \"start_time\": \"2020-11-20T11:41:13.455003Z\", \"end_time\": \"2020-11-20T11:41:45.153692Z\", \"created_time\": \"2020-11-20T11:41:01.99453Z\", \"created_time_dt\": \"2020-11-20T11:41:01.99453Z\", \"duration\": \"0:00:43\", \"iteration\": \"8\", \"goal\": \"normalized_root_mean_squared_error_min\", \"run_name\": \"RobustScaler, DecisionTree\", \"run_properties\": \"copy=True, quantile_range=[25, 75], with_centering=True,\\n             with_scaling=False\", \"primary_metric\": 0.14261453, \"best_metric\": 0.09934887}, {\"run_id\": \"AutoML_87e2c6b2-2888-4320-a418-5c087560a1fb_9\", \"run_number\": 51, \"metric\": null, \"status\": \"Completed\", \"run_type\": \"azureml.scriptrun\", \"training_percent\": \"100\", \"start_time\": \"2020-11-20T11:42:02.94274Z\", \"end_time\": \"2020-11-20T11:42:25.570024Z\", \"created_time\": \"2020-11-20T11:41:47.738129Z\", \"created_time_dt\": \"2020-11-20T11:41:47.738129Z\", \"duration\": \"0:00:37\", \"iteration\": \"9\", \"goal\": \"normalized_root_mean_squared_error_min\", \"run_name\": \"MinMaxScaler, DecisionTree\", \"run_properties\": \"copy=True, feature_range=(0, 1\", \"primary_metric\": 0.1239061, \"best_metric\": 0.09934887}, {\"run_id\": \"AutoML_87e2c6b2-2888-4320-a418-5c087560a1fb_10\", \"run_number\": 52, \"metric\": null, \"status\": \"Completed\", \"run_type\": \"azureml.scriptrun\", \"training_percent\": \"100\", \"start_time\": \"2020-11-20T11:42:48.970272Z\", \"end_time\": \"2020-11-20T11:43:17.228022Z\", \"created_time\": \"2020-11-20T11:42:33.97764Z\", \"created_time_dt\": \"2020-11-20T11:42:33.97764Z\", \"duration\": \"0:00:43\", \"iteration\": \"10\", \"goal\": \"normalized_root_mean_squared_error_min\", \"run_name\": \"RobustScaler, DecisionTree\", \"run_properties\": \"copy=True, quantile_range=[10, 90], with_centering=False,\\n             with_scaling=False\", \"primary_metric\": 0.15291638, \"best_metric\": 0.09934887}, {\"run_id\": \"AutoML_87e2c6b2-2888-4320-a418-5c087560a1fb_11\", \"run_number\": 53, \"metric\": null, \"status\": \"Completed\", \"run_type\": \"azureml.scriptrun\", \"training_percent\": \"100\", \"start_time\": \"2020-11-20T11:43:33.195602Z\", \"end_time\": \"2020-11-20T11:43:56.654888Z\", \"created_time\": \"2020-11-20T11:43:20.010007Z\", \"created_time_dt\": \"2020-11-20T11:43:20.010007Z\", \"duration\": \"0:00:36\", \"iteration\": \"11\", \"goal\": \"normalized_root_mean_squared_error_min\", \"run_name\": \"MinMaxScaler, DecisionTree\", \"run_properties\": \"copy=True, feature_range=(0, 1\", \"primary_metric\": 0.13291194, \"best_metric\": 0.09934887}, {\"run_id\": \"AutoML_87e2c6b2-2888-4320-a418-5c087560a1fb_12\", \"run_number\": 54, \"metric\": null, \"status\": \"Completed\", \"run_type\": \"azureml.scriptrun\", \"training_percent\": \"100\", \"start_time\": \"2020-11-20T11:44:19.287522Z\", \"end_time\": \"2020-11-20T11:44:42.36466Z\", \"created_time\": \"2020-11-20T11:44:06.800753Z\", \"created_time_dt\": \"2020-11-20T11:44:06.800753Z\", \"duration\": \"0:00:35\", \"iteration\": \"12\", \"goal\": \"normalized_root_mean_squared_error_min\", \"run_name\": \"StandardScalerWrapper, DecisionTree\", \"run_properties\": \"<azureml.automl.runtime.shared.model_wrappers.StandardScalerWrapper object at 0x7f481f292c50\", \"primary_metric\": 0.15048049, \"best_metric\": 0.09934887}, {\"run_id\": \"AutoML_87e2c6b2-2888-4320-a418-5c087560a1fb_13\", \"run_number\": 55, \"metric\": null, \"status\": \"Completed\", \"run_type\": \"azureml.scriptrun\", \"training_percent\": \"100\", \"start_time\": \"2020-11-20T11:45:08.644121Z\", \"end_time\": \"2020-11-20T11:45:36.23756Z\", \"created_time\": \"2020-11-20T11:44:52.60316Z\", \"created_time_dt\": \"2020-11-20T11:44:52.60316Z\", \"duration\": \"0:00:43\", \"iteration\": \"13\", \"goal\": \"normalized_root_mean_squared_error_min\", \"run_name\": \"StandardScalerWrapper, DecisionTree\", \"run_properties\": \"<azureml.automl.runtime.shared.model_wrappers.StandardScalerWrapper object at 0x7f67fe805710\", \"primary_metric\": 0.1453079, \"best_metric\": 0.09934887}, {\"run_id\": \"AutoML_87e2c6b2-2888-4320-a418-5c087560a1fb_14\", \"run_number\": 56, \"metric\": null, \"status\": \"Completed\", \"run_type\": \"azureml.scriptrun\", \"training_percent\": \"100\", \"start_time\": \"2020-11-20T11:45:56.79379Z\", \"end_time\": \"2020-11-20T11:46:25.512895Z\", \"created_time\": \"2020-11-20T11:45:45.744248Z\", \"created_time_dt\": \"2020-11-20T11:45:45.744248Z\", \"duration\": \"0:00:39\", \"iteration\": \"14\", \"goal\": \"normalized_root_mean_squared_error_min\", \"run_name\": \"RobustScaler, DecisionTree\", \"run_properties\": \"copy=True, quantile_range=[10, 90], with_centering=False,\\n             with_scaling=False\", \"primary_metric\": 0.14636211, \"best_metric\": 0.09934887}, {\"run_id\": \"AutoML_87e2c6b2-2888-4320-a418-5c087560a1fb_15\", \"run_number\": 57, \"metric\": null, \"status\": \"Completed\", \"run_type\": \"azureml.scriptrun\", \"training_percent\": \"100\", \"start_time\": \"2020-11-20T11:46:45.638737Z\", \"end_time\": \"2020-11-20T11:47:15.374451Z\", \"created_time\": \"2020-11-20T11:46:31.541026Z\", \"created_time_dt\": \"2020-11-20T11:46:31.541026Z\", \"duration\": \"0:00:43\", \"iteration\": \"15\", \"goal\": \"normalized_root_mean_squared_error_min\", \"run_name\": \"RobustScaler, ElasticNet\", \"run_properties\": \"copy=True, quantile_range=[25, 75], with_centering=True,\\n             with_scaling=True\", \"primary_metric\": 0.14800096, \"best_metric\": 0.09934887}, {\"run_id\": \"AutoML_87e2c6b2-2888-4320-a418-5c087560a1fb_16\", \"run_number\": 58, \"metric\": null, \"status\": \"Completed\", \"run_type\": \"azureml.scriptrun\", \"training_percent\": \"100\", \"start_time\": \"2020-11-20T11:47:32.583043Z\", \"end_time\": \"2020-11-20T11:48:03.316226Z\", \"created_time\": \"2020-11-20T11:47:17.943589Z\", \"created_time_dt\": \"2020-11-20T11:47:17.943589Z\", \"duration\": \"0:00:45\", \"iteration\": \"16\", \"goal\": \"normalized_root_mean_squared_error_min\", \"run_name\": \"StandardScalerWrapper, DecisionTree\", \"run_properties\": \"<azureml.automl.runtime.shared.model_wrappers.StandardScalerWrapper object at 0x7f4d52588320\", \"primary_metric\": 0.13285936, \"best_metric\": 0.09934887}, {\"run_id\": \"AutoML_87e2c6b2-2888-4320-a418-5c087560a1fb_17\", \"run_number\": 59, \"metric\": null, \"status\": \"Completed\", \"run_type\": \"azureml.scriptrun\", \"training_percent\": \"100\", \"start_time\": \"2020-11-20T11:48:21.675751Z\", \"end_time\": \"2020-11-20T11:48:54.018956Z\", \"created_time\": \"2020-11-20T11:48:05.902834Z\", \"created_time_dt\": \"2020-11-20T11:48:05.902834Z\", \"duration\": \"0:00:48\", \"iteration\": \"17\", \"goal\": \"normalized_root_mean_squared_error_min\", \"run_name\": \"MinMaxScaler, DecisionTree\", \"run_properties\": \"copy=True, feature_range=(0, 1\", \"primary_metric\": 0.14588231, \"best_metric\": 0.09934887}, {\"run_id\": \"AutoML_87e2c6b2-2888-4320-a418-5c087560a1fb_18\", \"run_number\": 60, \"metric\": null, \"status\": \"Completed\", \"run_type\": \"azureml.scriptrun\", \"training_percent\": \"100\", \"start_time\": \"2020-11-20T11:49:19.282629Z\", \"end_time\": \"2020-11-20T11:49:51.607991Z\", \"created_time\": \"2020-11-20T11:49:02.994935Z\", \"created_time_dt\": \"2020-11-20T11:49:02.994935Z\", \"duration\": \"0:00:48\", \"iteration\": \"18\", \"goal\": \"normalized_root_mean_squared_error_min\", \"run_name\": \"MinMaxScaler, DecisionTree\", \"run_properties\": \"copy=True, feature_range=(0, 1\", \"primary_metric\": 0.14680718, \"best_metric\": 0.09934887}, {\"run_id\": \"AutoML_87e2c6b2-2888-4320-a418-5c087560a1fb_19\", \"run_number\": 61, \"metric\": null, \"status\": \"Completed\", \"run_type\": \"azureml.scriptrun\", \"training_percent\": \"100\", \"start_time\": \"2020-11-20T11:50:08.944638Z\", \"end_time\": \"2020-11-20T11:50:36.975488Z\", \"created_time\": \"2020-11-20T11:49:55.196567Z\", \"created_time_dt\": \"2020-11-20T11:49:55.196567Z\", \"duration\": \"0:00:41\", \"iteration\": \"19\", \"goal\": \"normalized_root_mean_squared_error_min\", \"run_name\": \"RobustScaler, DecisionTree\", \"run_properties\": \"copy=True, quantile_range=[25, 75], with_centering=False,\\n             with_scaling=False\", \"primary_metric\": 0.13495641, \"best_metric\": 0.09934887}, {\"run_id\": \"AutoML_87e2c6b2-2888-4320-a418-5c087560a1fb_20\", \"run_number\": 62, \"metric\": null, \"status\": \"Completed\", \"run_type\": \"azureml.scriptrun\", \"training_percent\": \"100\", \"start_time\": \"2020-11-20T11:51:01.140736Z\", \"end_time\": \"2020-11-20T11:51:27.616386Z\", \"created_time\": \"2020-11-20T11:50:47.132422Z\", \"created_time_dt\": \"2020-11-20T11:50:47.132422Z\", \"duration\": \"0:00:40\", \"iteration\": \"20\", \"goal\": \"normalized_root_mean_squared_error_min\", \"run_name\": \"RobustScaler, DecisionTree\", \"run_properties\": \"copy=True, quantile_range=[25, 75], with_centering=False,\\n             with_scaling=False\", \"primary_metric\": 0.14396193, \"best_metric\": 0.09934887}, {\"run_id\": \"AutoML_87e2c6b2-2888-4320-a418-5c087560a1fb_21\", \"run_number\": 63, \"metric\": null, \"status\": \"Completed\", \"run_type\": \"azureml.scriptrun\", \"training_percent\": \"100\", \"start_time\": \"2020-11-20T11:51:46.352623Z\", \"end_time\": \"2020-11-20T11:52:15.568185Z\", \"created_time\": \"2020-11-20T11:51:30.322575Z\", \"created_time_dt\": \"2020-11-20T11:51:30.322575Z\", \"duration\": \"0:00:45\", \"iteration\": \"21\", \"goal\": \"normalized_root_mean_squared_error_min\", \"run_name\": \"StandardScalerWrapper, DecisionTree\", \"run_properties\": \"<azureml.automl.runtime.shared.model_wrappers.StandardScalerWrapper object at 0x7ff1267c5978\", \"primary_metric\": 0.13800923, \"best_metric\": 0.09934887}, {\"run_id\": \"AutoML_87e2c6b2-2888-4320-a418-5c087560a1fb_22\", \"run_number\": 64, \"metric\": null, \"status\": \"Completed\", \"run_type\": \"azureml.scriptrun\", \"training_percent\": \"100\", \"start_time\": \"2020-11-20T11:52:32.685548Z\", \"end_time\": \"2020-11-20T11:52:59.42978Z\", \"created_time\": \"2020-11-20T11:52:18.005184Z\", \"created_time_dt\": \"2020-11-20T11:52:18.005184Z\", \"duration\": \"0:00:41\", \"iteration\": \"22\", \"goal\": \"normalized_root_mean_squared_error_min\", \"run_name\": \"StandardScalerWrapper, DecisionTree\", \"run_properties\": \"<azureml.automl.runtime.shared.model_wrappers.StandardScalerWrapper object at 0x7f7f78144f98\", \"primary_metric\": 0.13260042, \"best_metric\": 0.09934887}, {\"run_id\": \"AutoML_87e2c6b2-2888-4320-a418-5c087560a1fb_23\", \"run_number\": 65, \"metric\": null, \"status\": \"Completed\", \"run_type\": \"azureml.scriptrun\", \"training_percent\": \"100\", \"start_time\": \"2020-11-20T11:53:20.842657Z\", \"end_time\": \"2020-11-20T11:53:52.998284Z\", \"created_time\": \"2020-11-20T11:53:07.540837Z\", \"created_time_dt\": \"2020-11-20T11:53:07.540837Z\", \"duration\": \"0:00:45\", \"iteration\": \"23\", \"goal\": \"normalized_root_mean_squared_error_min\", \"run_name\": \"StandardScalerWrapper, ExtremeRandomTrees\", \"run_properties\": \"<azureml.automl.runtime.shared.model_wrappers.StandardScalerWrapper object at 0x7efbd8cc5eb8\", \"primary_metric\": 0.16561027, \"best_metric\": 0.09934887}, {\"run_id\": \"AutoML_87e2c6b2-2888-4320-a418-5c087560a1fb_24\", \"run_number\": 66, \"metric\": null, \"status\": \"Completed\", \"run_type\": \"azureml.scriptrun\", \"training_percent\": \"100\", \"start_time\": \"2020-11-20T11:54:05.790161Z\", \"end_time\": \"2020-11-20T11:54:28.557967Z\", \"created_time\": \"2020-11-20T11:53:54.909574Z\", \"created_time_dt\": \"2020-11-20T11:53:54.909574Z\", \"duration\": \"0:00:33\", \"iteration\": \"24\", \"goal\": \"normalized_root_mean_squared_error_min\", \"run_name\": \"MinMaxScaler, DecisionTree\", \"run_properties\": \"copy=True, feature_range=(0, 1\", \"primary_metric\": 0.13422927, \"best_metric\": 0.09934887}, {\"run_id\": \"AutoML_87e2c6b2-2888-4320-a418-5c087560a1fb_25\", \"run_number\": 67, \"metric\": null, \"status\": \"Completed\", \"run_type\": \"azureml.scriptrun\", \"training_percent\": \"100\", \"start_time\": \"2020-11-20T11:54:44.748789Z\", \"end_time\": \"2020-11-20T11:56:57.952616Z\", \"created_time\": \"2020-11-20T11:54:32.119649Z\", \"created_time_dt\": \"2020-11-20T11:54:32.119649Z\", \"duration\": \"0:02:25\", \"iteration\": \"25\", \"goal\": \"normalized_root_mean_squared_error_min\", \"run_name\": \"MinMaxScaler, LightGBM\", \"run_properties\": \"copy=True, feature_range=(0, 1\", \"primary_metric\": 0.14241626, \"best_metric\": 0.09934887}, {\"run_id\": \"AutoML_87e2c6b2-2888-4320-a418-5c087560a1fb_26\", \"run_number\": 68, \"metric\": null, \"status\": \"Completed\", \"run_type\": \"azureml.scriptrun\", \"training_percent\": \"100\", \"start_time\": \"2020-11-20T11:57:21.647642Z\", \"end_time\": \"2020-11-20T11:57:49.745407Z\", \"created_time\": \"2020-11-20T11:57:03.953226Z\", \"created_time_dt\": \"2020-11-20T11:57:03.953226Z\", \"duration\": \"0:00:45\", \"iteration\": \"26\", \"goal\": \"normalized_root_mean_squared_error_min\", \"run_name\": \"MinMaxScaler, DecisionTree\", \"run_properties\": \"copy=True, feature_range=(0, 1\", \"primary_metric\": 0.12727143, \"best_metric\": 0.09934887}, {\"run_id\": \"AutoML_87e2c6b2-2888-4320-a418-5c087560a1fb_27\", \"run_number\": 69, \"metric\": null, \"status\": \"Completed\", \"run_type\": \"azureml.scriptrun\", \"training_percent\": \"100\", \"start_time\": \"2020-11-20T11:58:14.192945Z\", \"end_time\": \"2020-11-20T11:58:40.696684Z\", \"created_time\": \"2020-11-20T11:58:01.367871Z\", \"created_time_dt\": \"2020-11-20T11:58:01.367871Z\", \"duration\": \"0:00:39\", \"iteration\": \"27\", \"goal\": \"normalized_root_mean_squared_error_min\", \"run_name\": \"MinMaxScaler, DecisionTree\", \"run_properties\": \"copy=True, feature_range=(0, 1\", \"primary_metric\": 0.14069563, \"best_metric\": 0.09934887}, {\"run_id\": \"AutoML_87e2c6b2-2888-4320-a418-5c087560a1fb_28\", \"run_number\": 70, \"metric\": null, \"status\": \"Completed\", \"run_type\": \"azureml.scriptrun\", \"training_percent\": \"100\", \"start_time\": \"2020-11-20T11:59:02.662836Z\", \"end_time\": \"2020-11-20T11:59:26.109334Z\", \"created_time\": \"2020-11-20T11:58:48.95237Z\", \"created_time_dt\": \"2020-11-20T11:58:48.95237Z\", \"duration\": \"0:00:37\", \"iteration\": \"28\", \"goal\": \"normalized_root_mean_squared_error_min\", \"run_name\": \"StandardScalerWrapper, RandomForest\", \"run_properties\": \"<azureml.automl.runtime.shared.model_wrappers.StandardScalerWrapper object at 0x7f178959eda0\", \"primary_metric\": 0.13734761, \"best_metric\": 0.09934887}, {\"run_id\": \"AutoML_87e2c6b2-2888-4320-a418-5c087560a1fb_29\", \"run_number\": 71, \"metric\": null, \"status\": \"Completed\", \"run_type\": \"azureml.scriptrun\", \"training_percent\": \"100\", \"start_time\": \"2020-11-20T11:59:50.180726Z\", \"end_time\": \"2020-11-20T12:00:16.60451Z\", \"created_time\": \"2020-11-20T11:59:36.500958Z\", \"created_time_dt\": \"2020-11-20T11:59:36.500958Z\", \"duration\": \"0:00:40\", \"iteration\": \"29\", \"goal\": \"normalized_root_mean_squared_error_min\", \"run_name\": \"StandardScalerWrapper, DecisionTree\", \"run_properties\": \"<azureml.automl.runtime.shared.model_wrappers.StandardScalerWrapper object at 0x7fed5a303ba8\", \"primary_metric\": 0.1480749, \"best_metric\": 0.09934887}, {\"run_id\": \"AutoML_87e2c6b2-2888-4320-a418-5c087560a1fb_30\", \"run_number\": 72, \"metric\": null, \"status\": \"Completed\", \"run_type\": \"azureml.scriptrun\", \"training_percent\": \"100\", \"start_time\": \"2020-11-20T12:00:38.554706Z\", \"end_time\": \"2020-11-20T12:01:21.542293Z\", \"created_time\": \"2020-11-20T12:00:20.984755Z\", \"created_time_dt\": \"2020-11-20T12:00:20.984755Z\", \"duration\": \"0:01:00\", \"iteration\": \"30\", \"goal\": \"normalized_root_mean_squared_error_min\", \"run_name\": \"VotingEnsemble\", \"run_properties\": \"estimators=[('0',\\n                                          Pipeline(memory=None,\\n                                                   steps=[('maxabsscaler',\\n                                                           MaxAbsScaler(copy=True\", \"primary_metric\": 0.09934887, \"best_metric\": 0.09934887}, {\"run_id\": \"AutoML_87e2c6b2-2888-4320-a418-5c087560a1fb_31\", \"run_number\": 73, \"metric\": null, \"status\": \"Completed\", \"run_type\": \"azureml.scriptrun\", \"training_percent\": \"100\", \"start_time\": \"2020-11-20T12:01:38.92585Z\", \"end_time\": \"2020-11-20T12:02:12.733526Z\", \"created_time\": \"2020-11-20T12:01:25.026154Z\", \"created_time_dt\": \"2020-11-20T12:01:25.026154Z\", \"duration\": \"0:00:47\", \"iteration\": \"31\", \"goal\": \"normalized_root_mean_squared_error_min\", \"run_name\": \"StackEnsemble\", \"run_properties\": \"base_learners=[('0',\\n                                       Pipeline(memory=None,\\n                                                steps=[('maxabsscaler',\\n                                                        MaxAbsScaler(copy=True\", \"primary_metric\": 0.09935133, \"best_metric\": 0.09934887}], \"children_metrics\": {\"categories\": [0], \"series\": {\"normalized_mean_absolute_error\": [{\"categories\": [\"0\", \"1\", \"2\", \"3\", \"4\", \"5\", \"6\", \"7\", \"8\", \"9\", \"10\", \"11\", \"12\", \"13\", \"14\", \"15\", \"16\", \"17\", \"18\", \"19\", \"20\", \"21\", \"22\", \"23\", \"24\", \"25\", \"26\", \"27\", \"28\", \"29\", \"30\", \"31\"], \"mode\": \"markers\", \"name\": \"normalized_mean_absolute_error\", \"stepped\": false, \"type\": \"scatter\", \"data\": [0.06675515129322772, 0.07947888904037219, 0.0993705756777598, 0.09814310094517495, 0.1045401262071464, 0.11284815495882831, 0.10454012219526554, 0.10461262922587193, 0.1004855913722489, 0.0836064137541864, 0.10952612016334608, 0.09152197909521649, 0.10593174140971907, 0.10194734857289463, 0.10294128577648003, 0.108090042321306, 0.09178299615759958, 0.10188591696835594, 0.10385284909713424, 0.0945123948468741, 0.10100038665852949, 0.09563780099216453, 0.09108579887222845, 0.12397270024712462, 0.0934058026830047, 0.1021831024028838, 0.08703563499853458, 0.0980538653062275, 0.09815106281655972, 0.1041026468085117, 0.06675515129322772, 0.06657397481726603]}, {\"categories\": [\"0\", \"1\", \"2\", \"3\", \"4\", \"5\", \"6\", \"7\", \"8\", \"9\", \"10\", \"11\", \"12\", \"13\", \"14\", \"15\", \"16\", \"17\", \"18\", \"19\", \"20\", \"21\", \"22\", \"23\", \"24\", \"25\", \"26\", \"27\", \"28\", \"29\", \"30\", \"31\"], \"mode\": \"lines\", \"name\": \"normalized_mean_absolute_error_min\", \"stepped\": true, \"type\": \"scatter\", \"data\": [0.06675515129322772, 0.06675515129322772, 0.06675515129322772, 0.06675515129322772, 0.06675515129322772, 0.06675515129322772, 0.06675515129322772, 0.06675515129322772, 0.06675515129322772, 0.06675515129322772, 0.06675515129322772, 0.06675515129322772, 0.06675515129322772, 0.06675515129322772, 0.06675515129322772, 0.06675515129322772, 0.06675515129322772, 0.06675515129322772, 0.06675515129322772, 0.06675515129322772, 0.06675515129322772, 0.06675515129322772, 0.06675515129322772, 0.06675515129322772, 0.06675515129322772, 0.06675515129322772, 0.06675515129322772, 0.06675515129322772, 0.06675515129322772, 0.06675515129322772, 0.06675515129322772, 0.06657397481726603]}], \"r2_score\": [{\"categories\": [\"0\", \"1\", \"2\", \"3\", \"4\", \"5\", \"6\", \"7\", \"8\", \"9\", \"10\", \"11\", \"12\", \"13\", \"14\", \"15\", \"16\", \"17\", \"18\", \"19\", \"20\", \"21\", \"22\", \"23\", \"24\", \"25\", \"26\", \"27\", \"28\", \"29\", \"30\", \"31\"], \"mode\": \"markers\", \"name\": \"r2_score\", \"stepped\": false, \"type\": \"scatter\", \"data\": [0.8228235321116265, 0.7598811864128759, 0.6347182810827224, 0.6460280384552431, 0.6257344407455461, 0.5882952276524746, 0.6257344618826527, 0.6251738525291254, 0.6349034378390037, 0.7244086551420299, 0.5802524131098141, 0.6828912829221534, 0.5935186624359328, 0.6209830250325672, 0.6154635333212878, 0.6068038327517702, 0.6831421026267981, 0.617980569093748, 0.6131213086260618, 0.6730606352791543, 0.6279720808445466, 0.6581020815006142, 0.6843759924515211, 0.5076717681325487, 0.676574199526405, 0.6359179022783755, 0.7092350525992279, 0.6446621954203225, 0.6613723741297495, 0.6064108641498536, 0.8228235321116265, 0.822814743935361]}, {\"categories\": [\"0\", \"1\", \"2\", \"3\", \"4\", \"5\", \"6\", \"7\", \"8\", \"9\", \"10\", \"11\", \"12\", \"13\", \"14\", \"15\", \"16\", \"17\", \"18\", \"19\", \"20\", \"21\", \"22\", \"23\", \"24\", \"25\", \"26\", \"27\", \"28\", \"29\", \"30\", \"31\"], \"mode\": \"lines\", \"name\": \"r2_score_max\", \"stepped\": true, \"type\": \"scatter\", \"data\": [0.8228235321116265, 0.8228235321116265, 0.8228235321116265, 0.8228235321116265, 0.8228235321116265, 0.8228235321116265, 0.8228235321116265, 0.8228235321116265, 0.8228235321116265, 0.8228235321116265, 0.8228235321116265, 0.8228235321116265, 0.8228235321116265, 0.8228235321116265, 0.8228235321116265, 0.8228235321116265, 0.8228235321116265, 0.8228235321116265, 0.8228235321116265, 0.8228235321116265, 0.8228235321116265, 0.8228235321116265, 0.8228235321116265, 0.8228235321116265, 0.8228235321116265, 0.8228235321116265, 0.8228235321116265, 0.8228235321116265, 0.8228235321116265, 0.8228235321116265, 0.8228235321116265, 0.8228235321116265]}], \"mean_absolute_error\": [{\"categories\": [\"0\", \"1\", \"2\", \"3\", \"4\", \"5\", \"6\", \"7\", \"8\", \"9\", \"10\", \"11\", \"12\", \"13\", \"14\", \"15\", \"16\", \"17\", \"18\", \"19\", \"20\", \"21\", \"22\", \"23\", \"24\", \"25\", \"26\", \"27\", \"28\", \"29\", \"30\", \"31\"], \"mode\": \"markers\", \"name\": \"mean_absolute_error\", \"stepped\": false, \"type\": \"scatter\", \"data\": [32376.38188751803, 38547.42014235859, 48194.92794486486, 47599.60024461174, 50702.170290718415, 54731.58085134165, 50702.16834494818, 50737.334399806336, 48735.71278672346, 40549.27788360791, 53120.38733146317, 44388.34290513819, 51377.10644719657, 49444.66795255104, 49926.72948416437, 52423.886705918056, 44514.93670242811, 49414.87350148657, 50368.8395178083, 45838.70052552363, 48985.38953016012, 46384.52475680178, 44176.79462462854, 60127.00756525593, 45302.00111286265, 49559.00903160345, 42212.45704555927, 47556.32078125095, 47603.461768157096, 50489.99190742179, 32376.38188751803, 32288.510934323658]}, {\"categories\": [\"0\", \"1\", \"2\", \"3\", \"4\", \"5\", \"6\", \"7\", \"8\", \"9\", \"10\", \"11\", \"12\", \"13\", \"14\", \"15\", \"16\", \"17\", \"18\", \"19\", \"20\", \"21\", \"22\", \"23\", \"24\", \"25\", \"26\", \"27\", \"28\", \"29\", \"30\", \"31\"], \"mode\": \"lines\", \"name\": \"mean_absolute_error_min\", \"stepped\": true, \"type\": \"scatter\", \"data\": [32376.38188751803, 32376.38188751803, 32376.38188751803, 32376.38188751803, 32376.38188751803, 32376.38188751803, 32376.38188751803, 32376.38188751803, 32376.38188751803, 32376.38188751803, 32376.38188751803, 32376.38188751803, 32376.38188751803, 32376.38188751803, 32376.38188751803, 32376.38188751803, 32376.38188751803, 32376.38188751803, 32376.38188751803, 32376.38188751803, 32376.38188751803, 32376.38188751803, 32376.38188751803, 32376.38188751803, 32376.38188751803, 32376.38188751803, 32376.38188751803, 32376.38188751803, 32376.38188751803, 32376.38188751803, 32376.38188751803, 32288.510934323658]}], \"explained_variance\": [{\"categories\": [\"0\", \"1\", \"2\", \"3\", \"4\", \"5\", \"6\", \"7\", \"8\", \"9\", \"10\", \"11\", \"12\", \"13\", \"14\", \"15\", \"16\", \"17\", \"18\", \"19\", \"20\", \"21\", \"22\", \"23\", \"24\", \"25\", \"26\", \"27\", \"28\", \"29\", \"30\", \"31\"], \"mode\": \"markers\", \"name\": \"explained_variance\", \"stepped\": false, \"type\": \"scatter\", \"data\": [0.8228777634621539, 0.7598828789650702, 0.634722684757063, 0.6460290090495483, 0.6257548926278014, 0.5882952755903987, 0.6257549137595437, 0.6251942182645045, 0.6349803913213454, 0.7244472152118231, 0.5802579574104676, 0.6829024002107488, 0.5935288560300565, 0.6210430787655681, 0.6154653408007692, 0.6068084528740112, 0.683161018979549, 0.6179805741812336, 0.6131213336811147, 0.6730647126605627, 0.627972543765673, 0.6581520878926408, 0.6843860773903558, 0.5077144856645706, 0.6765742293013182, 0.635918851436248, 0.7092661559617867, 0.6446631163136123, 0.6613783959550299, 0.6064373768984666, 0.8228777634621539, 0.8228198987648818]}, {\"categories\": [\"0\", \"1\", \"2\", \"3\", \"4\", \"5\", \"6\", \"7\", \"8\", \"9\", \"10\", \"11\", \"12\", \"13\", \"14\", \"15\", \"16\", \"17\", \"18\", \"19\", \"20\", \"21\", \"22\", \"23\", \"24\", \"25\", \"26\", \"27\", \"28\", \"29\", \"30\", \"31\"], \"mode\": \"lines\", \"name\": \"explained_variance_max\", \"stepped\": true, \"type\": \"scatter\", \"data\": [0.8228777634621539, 0.8228777634621539, 0.8228777634621539, 0.8228777634621539, 0.8228777634621539, 0.8228777634621539, 0.8228777634621539, 0.8228777634621539, 0.8228777634621539, 0.8228777634621539, 0.8228777634621539, 0.8228777634621539, 0.8228777634621539, 0.8228777634621539, 0.8228777634621539, 0.8228777634621539, 0.8228777634621539, 0.8228777634621539, 0.8228777634621539, 0.8228777634621539, 0.8228777634621539, 0.8228777634621539, 0.8228777634621539, 0.8228777634621539, 0.8228777634621539, 0.8228777634621539, 0.8228777634621539, 0.8228777634621539, 0.8228777634621539, 0.8228777634621539, 0.8228777634621539, 0.8228777634621539]}], \"root_mean_squared_error\": [{\"categories\": [\"0\", \"1\", \"2\", \"3\", \"4\", \"5\", \"6\", \"7\", \"8\", \"9\", \"10\", \"11\", \"12\", \"13\", \"14\", \"15\", \"16\", \"17\", \"18\", \"19\", \"20\", \"21\", \"22\", \"23\", \"24\", \"25\", \"26\", \"27\", \"28\", \"29\", \"30\", \"31\"], \"mode\": \"markers\", \"name\": \"root_mean_squared_error\", \"stepped\": false, \"type\": \"scatter\", \"data\": [48184.39936887613, 56094.01475818256, 69185.86879243978, 68106.39004188901, 70031.48928113609, 73450.77467725055, 70031.48730357894, 70083.91747935339, 69168.33184201109, 60094.7063082405, 74164.74947411686, 64462.555793054285, 72983.34016961156, 70474.62287256529, 70985.91680022293, 71780.76258803545, 64437.0571600207, 70753.21138450407, 71201.77741225978, 65454.12736188393, 69821.82505618037, 66934.7519636452, 64311.47123491269, 80321.31319149207, 65101.46486334611, 69072.16875639546, 61726.89832088721, 68237.6618466386, 66613.86351359427, 71816.62323975621, 48184.39936887613, 48185.59435754796]}, {\"categories\": [\"0\", \"1\", \"2\", \"3\", \"4\", \"5\", \"6\", \"7\", \"8\", \"9\", \"10\", \"11\", \"12\", \"13\", \"14\", \"15\", \"16\", \"17\", \"18\", \"19\", \"20\", \"21\", \"22\", \"23\", \"24\", \"25\", \"26\", \"27\", \"28\", \"29\", \"30\", \"31\"], \"mode\": \"lines\", \"name\": \"root_mean_squared_error_min\", \"stepped\": true, \"type\": \"scatter\", \"data\": [48184.39936887613, 48184.39936887613, 48184.39936887613, 48184.39936887613, 48184.39936887613, 48184.39936887613, 48184.39936887613, 48184.39936887613, 48184.39936887613, 48184.39936887613, 48184.39936887613, 48184.39936887613, 48184.39936887613, 48184.39936887613, 48184.39936887613, 48184.39936887613, 48184.39936887613, 48184.39936887613, 48184.39936887613, 48184.39936887613, 48184.39936887613, 48184.39936887613, 48184.39936887613, 48184.39936887613, 48184.39936887613, 48184.39936887613, 48184.39936887613, 48184.39936887613, 48184.39936887613, 48184.39936887613, 48184.39936887613, 48184.39936887613]}], \"root_mean_squared_log_error\": [{\"categories\": [\"0\", \"1\", \"2\", \"3\", \"4\", \"5\", \"6\", \"7\", \"8\", \"9\", \"10\", \"11\", \"12\", \"13\", \"14\", \"15\", \"16\", \"17\", \"18\", \"19\", \"20\", \"21\", \"22\", \"23\", \"24\", \"25\", \"26\", \"27\", \"28\", \"29\", \"30\", \"31\"], \"mode\": \"markers\", \"name\": \"root_mean_squared_log_error\", \"stepped\": false, \"type\": \"scatter\", \"data\": [0.23883385833995038, 0.2739279441745541, 0.3268590036218873, 0.31509584694499304, NaN, NaN, NaN, NaN, 0.3253150801658377, 0.28404381764034453, 0.3480168178762342, 0.3042884142020519, 0.3435356206481058, 0.32608033018775917, 0.3373271272854141, NaN, 0.3001950435015332, 0.33074382701947563, 0.3348791724846861, 0.31039299094882083, 0.33365671179256273, 0.3121383252403321, 0.29956036981949913, 0.3916897286190995, 0.3085893847714011, 0.3278338419788089, 0.2888168632998831, 0.32059110695614323, 0.3184508455535727, 0.3370983225140631, 0.23883385833995038, 0.23810346742451108]}, {\"categories\": [\"0\", \"1\", \"2\", \"3\", \"4\", \"5\", \"6\", \"7\", \"8\", \"9\", \"10\", \"11\", \"12\", \"13\", \"14\", \"15\", \"16\", \"17\", \"18\", \"19\", \"20\", \"21\", \"22\", \"23\", \"24\", \"25\", \"26\", \"27\", \"28\", \"29\", \"30\", \"31\"], \"mode\": \"lines\", \"name\": \"root_mean_squared_log_error_min\", \"stepped\": true, \"type\": \"scatter\", \"data\": [0.23883385833995038, 0.23883385833995038, 0.23883385833995038, 0.23883385833995038, 0.23883385833995038, 0.23883385833995038, 0.23883385833995038, 0.23883385833995038, 0.23883385833995038, 0.23883385833995038, 0.23883385833995038, 0.23883385833995038, 0.23883385833995038, 0.23883385833995038, 0.23883385833995038, 0.23883385833995038, 0.23883385833995038, 0.23883385833995038, 0.23883385833995038, 0.23883385833995038, 0.23883385833995038, 0.23883385833995038, 0.23883385833995038, 0.23883385833995038, 0.23883385833995038, 0.23883385833995038, 0.23883385833995038, 0.23883385833995038, 0.23883385833995038, 0.23883385833995038, 0.23883385833995038, 0.23810346742451108]}], \"median_absolute_error\": [{\"categories\": [\"0\", \"1\", \"2\", \"3\", \"4\", \"5\", \"6\", \"7\", \"8\", \"9\", \"10\", \"11\", \"12\", \"13\", \"14\", \"15\", \"16\", \"17\", \"18\", \"19\", \"20\", \"21\", \"22\", \"23\", \"24\", \"25\", \"26\", \"27\", \"28\", \"29\", \"30\", \"31\"], \"mode\": \"markers\", \"name\": \"median_absolute_error\", \"stepped\": false, \"type\": \"scatter\", \"data\": [21358.68757477193, 27072.5546875, 33200.0, 32104.326047358838, 38346.44091582915, 43583.19055856798, 38346.43384181289, 38370.40657556665, 32151.66470490716, 26491.427432216908, 38307.86140419435, 29125.973814655168, 36811.390999921336, 33922.92410334863, 34429.624042701325, 39886.495477610355, 29398.68487394959, 34747.06451612903, 35021.1488367289, 32294.99317516722, 34132.07211448891, 31058.59255941154, 29894.55645161291, 46875.53795805941, 30401.153244535526, 35161.24924862459, 28137.903225806454, 32788.58181779778, 34833.02762298486, 34579.00986193295, 21358.68757477193, 21304.24560459274]}, {\"categories\": [\"0\", \"1\", \"2\", \"3\", \"4\", \"5\", \"6\", \"7\", \"8\", \"9\", \"10\", \"11\", \"12\", \"13\", \"14\", \"15\", \"16\", \"17\", \"18\", \"19\", \"20\", \"21\", \"22\", \"23\", \"24\", \"25\", \"26\", \"27\", \"28\", \"29\", \"30\", \"31\"], \"mode\": \"lines\", \"name\": \"median_absolute_error_min\", \"stepped\": true, \"type\": \"scatter\", \"data\": [21358.68757477193, 21358.68757477193, 21358.68757477193, 21358.68757477193, 21358.68757477193, 21358.68757477193, 21358.68757477193, 21358.68757477193, 21358.68757477193, 21358.68757477193, 21358.68757477193, 21358.68757477193, 21358.68757477193, 21358.68757477193, 21358.68757477193, 21358.68757477193, 21358.68757477193, 21358.68757477193, 21358.68757477193, 21358.68757477193, 21358.68757477193, 21358.68757477193, 21358.68757477193, 21358.68757477193, 21358.68757477193, 21358.68757477193, 21358.68757477193, 21358.68757477193, 21358.68757477193, 21358.68757477193, 21358.68757477193, 21304.24560459274]}], \"normalized_root_mean_squared_log_error\": [{\"categories\": [\"0\", \"1\", \"2\", \"3\", \"4\", \"5\", \"6\", \"7\", \"8\", \"9\", \"10\", \"11\", \"12\", \"13\", \"14\", \"15\", \"16\", \"17\", \"18\", \"19\", \"20\", \"21\", \"22\", \"23\", \"24\", \"25\", \"26\", \"27\", \"28\", \"29\", \"30\", \"31\"], \"mode\": \"markers\", \"name\": \"normalized_root_mean_squared_log_error\", \"stepped\": false, \"type\": \"scatter\", \"data\": [0.06811054968772484, 0.07811866785655162, 0.0932135274362181, 0.08985891484948134, NaN, NaN, NaN, NaN, 0.0927732319270377, 0.08100350883812532, 0.09924730492937052, 0.08677685525394825, 0.09796935879313846, 0.09299146563981146, 0.0961988229963938, NaN, 0.08560950934066021, 0.09432139990827293, 0.09550071616913247, 0.0885177561493377, 0.0951520952897861, 0.08901548992464882, 0.0854285133392719, 0.11170192915155909, 0.08800340441957004, 0.09349153147135829, 0.08236468420000827, 0.09142605102790236, 0.09081569208793577, 0.0961335725379529, 0.06811054968772484, 0.06790225708179674]}, {\"categories\": [\"0\", \"1\", \"2\", \"3\", \"4\", \"5\", \"6\", \"7\", \"8\", \"9\", \"10\", \"11\", \"12\", \"13\", \"14\", \"15\", \"16\", \"17\", \"18\", \"19\", \"20\", \"21\", \"22\", \"23\", \"24\", \"25\", \"26\", \"27\", \"28\", \"29\", \"30\", \"31\"], \"mode\": \"lines\", \"name\": \"normalized_root_mean_squared_log_error_min\", \"stepped\": true, \"type\": \"scatter\", \"data\": [0.06811054968772484, 0.06811054968772484, 0.06811054968772484, 0.06811054968772484, 0.06811054968772484, 0.06811054968772484, 0.06811054968772484, 0.06811054968772484, 0.06811054968772484, 0.06811054968772484, 0.06811054968772484, 0.06811054968772484, 0.06811054968772484, 0.06811054968772484, 0.06811054968772484, 0.06811054968772484, 0.06811054968772484, 0.06811054968772484, 0.06811054968772484, 0.06811054968772484, 0.06811054968772484, 0.06811054968772484, 0.06811054968772484, 0.06811054968772484, 0.06811054968772484, 0.06811054968772484, 0.06811054968772484, 0.06811054968772484, 0.06811054968772484, 0.06811054968772484, 0.06811054968772484, 0.06790225708179674]}], \"mean_absolute_percentage_error\": [{\"categories\": [\"0\", \"1\", \"2\", \"3\", \"4\", \"5\", \"6\", \"7\", \"8\", \"9\", \"10\", \"11\", \"12\", \"13\", \"14\", \"15\", \"16\", \"17\", \"18\", \"19\", \"20\", \"21\", \"22\", \"23\", \"24\", \"25\", \"26\", \"27\", \"28\", \"29\", \"30\", \"31\"], \"mode\": \"markers\", \"name\": \"mean_absolute_percentage_error\", \"stepped\": false, \"type\": \"scatter\", \"data\": [18.38221463878435, 21.734626091909842, 26.769507604084236, 26.084541328707246, 29.28550517402797, 34.04079231485214, 29.285503513528695, 29.30793528752576, 27.0617534710189, 22.34172058017404, 29.71005247293063, 24.582709634578446, 28.635867555109417, 27.025649890981917, 28.077465966158336, 30.77169742565784, 24.424777889048844, 27.316439423484983, 27.999450631948427, 25.527507120877125, 27.45337598796802, 25.879839472898656, 24.13816130593227, 36.0952864134521, 25.162530374491055, 28.26933263645117, 23.261445838340265, 26.403024386691186, 27.119798094897675, 28.192155843197998, 18.38221463878435, 18.178599449161798]}, {\"categories\": [\"0\", \"1\", \"2\", \"3\", \"4\", \"5\", \"6\", \"7\", \"8\", \"9\", \"10\", \"11\", \"12\", \"13\", \"14\", \"15\", \"16\", \"17\", \"18\", \"19\", \"20\", \"21\", \"22\", \"23\", \"24\", \"25\", \"26\", \"27\", \"28\", \"29\", \"30\", \"31\"], \"mode\": \"lines\", \"name\": \"mean_absolute_percentage_error_min\", \"stepped\": true, \"type\": \"scatter\", \"data\": [18.38221463878435, 18.38221463878435, 18.38221463878435, 18.38221463878435, 18.38221463878435, 18.38221463878435, 18.38221463878435, 18.38221463878435, 18.38221463878435, 18.38221463878435, 18.38221463878435, 18.38221463878435, 18.38221463878435, 18.38221463878435, 18.38221463878435, 18.38221463878435, 18.38221463878435, 18.38221463878435, 18.38221463878435, 18.38221463878435, 18.38221463878435, 18.38221463878435, 18.38221463878435, 18.38221463878435, 18.38221463878435, 18.38221463878435, 18.38221463878435, 18.38221463878435, 18.38221463878435, 18.38221463878435, 18.38221463878435, 18.178599449161798]}], \"spearman_correlation\": [{\"categories\": [\"0\", \"1\", \"2\", \"3\", \"4\", \"5\", \"6\", \"7\", \"8\", \"9\", \"10\", \"11\", \"12\", \"13\", \"14\", \"15\", \"16\", \"17\", \"18\", \"19\", \"20\", \"21\", \"22\", \"23\", \"24\", \"25\", \"26\", \"27\", \"28\", \"29\", \"30\", \"31\"], \"mode\": \"markers\", \"name\": \"spearman_correlation\", \"stepped\": false, \"type\": \"scatter\", \"data\": [0.9138951035775631, 0.8832324476077044, 0.8164494579462322, 0.8351425613573177, 0.8232946732718781, 0.7983170126744107, 0.8232946732718781, 0.823175869472387, 0.8246619047956928, 0.868645666202762, 0.791089479762657, 0.8454309894165263, 0.7976654272706608, 0.8202057942250064, 0.804331189768071, 0.8131902532238733, 0.8528203014250212, 0.8113998002475016, 0.8050307118493031, 0.8399426539922765, 0.8100102557417729, 0.8371995346709599, 0.8506247842173736, 0.8014849165980678, 0.8425334653365146, 0.8355188744394196, 0.8639885744059326, 0.8246792218258503, 0.8454507495989096, 0.8039258184856506, 0.9138951035775631, 0.9138951035775631]}, {\"categories\": [\"0\", \"1\", \"2\", \"3\", \"4\", \"5\", \"6\", \"7\", \"8\", \"9\", \"10\", \"11\", \"12\", \"13\", \"14\", \"15\", \"16\", \"17\", \"18\", \"19\", \"20\", \"21\", \"22\", \"23\", \"24\", \"25\", \"26\", \"27\", \"28\", \"29\", \"30\", \"31\"], \"mode\": \"lines\", \"name\": \"spearman_correlation_max\", \"stepped\": true, \"type\": \"scatter\", \"data\": [0.9138951035775631, 0.9138951035775631, 0.9138951035775631, 0.9138951035775631, 0.9138951035775631, 0.9138951035775631, 0.9138951035775631, 0.9138951035775631, 0.9138951035775631, 0.9138951035775631, 0.9138951035775631, 0.9138951035775631, 0.9138951035775631, 0.9138951035775631, 0.9138951035775631, 0.9138951035775631, 0.9138951035775631, 0.9138951035775631, 0.9138951035775631, 0.9138951035775631, 0.9138951035775631, 0.9138951035775631, 0.9138951035775631, 0.9138951035775631, 0.9138951035775631, 0.9138951035775631, 0.9138951035775631, 0.9138951035775631, 0.9138951035775631, 0.9138951035775631, 0.9138951035775631, 0.9138951035775631]}], \"normalized_root_mean_squared_error\": [{\"categories\": [\"0\", \"1\", \"2\", \"3\", \"4\", \"5\", \"6\", \"7\", \"8\", \"9\", \"10\", \"11\", \"12\", \"13\", \"14\", \"15\", \"16\", \"17\", \"18\", \"19\", \"20\", \"21\", \"22\", \"23\", \"24\", \"25\", \"26\", \"27\", \"28\", \"29\", \"30\", \"31\"], \"mode\": \"markers\", \"name\": \"normalized_root_mean_squared_error\", \"stepped\": false, \"type\": \"scatter\", \"data\": [0.09934886736317816, 0.11565728545074569, 0.1426506876104424, 0.14042496740609114, 0.1443942278199597, 0.15144427172929298, 0.14439422374253907, 0.14450232675195854, 0.14261452909887193, 0.12390609999183612, 0.15291637864197852, 0.13291193808077964, 0.15048049321366008, 0.14530790156033438, 0.1463621114969071, 0.14800096203321933, 0.13285936379648064, 0.14588230849461253, 0.1468071830884404, 0.13495640711148393, 0.1439619322315792, 0.13800922875296434, 0.13260042481250117, 0.16561027210504714, 0.1342292709377407, 0.14241625551316378, 0.12727143047015727, 0.14069562980490513, 0.13734760581109826, 0.14807490121639955, 0.09934886736317816, 0.09935133124718654]}, {\"categories\": [\"0\", \"1\", \"2\", \"3\", \"4\", \"5\", \"6\", \"7\", \"8\", \"9\", \"10\", \"11\", \"12\", \"13\", \"14\", \"15\", \"16\", \"17\", \"18\", \"19\", \"20\", \"21\", \"22\", \"23\", \"24\", \"25\", \"26\", \"27\", \"28\", \"29\", \"30\", \"31\"], \"mode\": \"lines\", \"name\": \"normalized_root_mean_squared_error_min\", \"stepped\": true, \"type\": \"scatter\", \"data\": [0.09934886736317816, 0.09934886736317816, 0.09934886736317816, 0.09934886736317816, 0.09934886736317816, 0.09934886736317816, 0.09934886736317816, 0.09934886736317816, 0.09934886736317816, 0.09934886736317816, 0.09934886736317816, 0.09934886736317816, 0.09934886736317816, 0.09934886736317816, 0.09934886736317816, 0.09934886736317816, 0.09934886736317816, 0.09934886736317816, 0.09934886736317816, 0.09934886736317816, 0.09934886736317816, 0.09934886736317816, 0.09934886736317816, 0.09934886736317816, 0.09934886736317816, 0.09934886736317816, 0.09934886736317816, 0.09934886736317816, 0.09934886736317816, 0.09934886736317816, 0.09934886736317816, 0.09934886736317816]}], \"normalized_median_absolute_error\": [{\"categories\": [\"0\", \"1\", \"2\", \"3\", \"4\", \"5\", \"6\", \"7\", \"8\", \"9\", \"10\", \"11\", \"12\", \"13\", \"14\", \"15\", \"16\", \"17\", \"18\", \"19\", \"20\", \"21\", \"22\", \"23\", \"24\", \"25\", \"26\", \"27\", \"28\", \"29\", \"30\", \"31\"], \"mode\": \"markers\", \"name\": \"normalized_median_absolute_error\", \"stepped\": false, \"type\": \"scatter\", \"data\": [0.04403834948056282, 0.055819470203215656, 0.06845332596566613, 0.06619421372975542, 0.07906450059139787, 0.08986187800992157, 0.07906448600585748, 0.07911391411904828, 0.06629181880674134, 0.05462127461787149, 0.0789849555346047, 0.060053306614519464, 0.07589946227009649, 0.06994388498057458, 0.07098862281537256, 0.08223985772761835, 0.06061559513970992, 0.07164313655640395, 0.07220825653652747, 0.06658734020718929, 0.07037511621496181, 0.06403807109952442, 0.06163800654762848, 0.09665019517045169, 0.06268253171025176, 0.07249712217397988, 0.05801605606947281, 0.06760504455197665, 0.07182037934479622, 0.07129663354364095, 0.04403834948056282, 0.043926098458548085]}, {\"categories\": [\"0\", \"1\", \"2\", \"3\", \"4\", \"5\", \"6\", \"7\", \"8\", \"9\", \"10\", \"11\", \"12\", \"13\", \"14\", \"15\", \"16\", \"17\", \"18\", \"19\", \"20\", \"21\", \"22\", \"23\", \"24\", \"25\", \"26\", \"27\", \"28\", \"29\", \"30\", \"31\"], \"mode\": \"lines\", \"name\": \"normalized_median_absolute_error_min\", \"stepped\": true, \"type\": \"scatter\", \"data\": [0.04403834948056282, 0.04403834948056282, 0.04403834948056282, 0.04403834948056282, 0.04403834948056282, 0.04403834948056282, 0.04403834948056282, 0.04403834948056282, 0.04403834948056282, 0.04403834948056282, 0.04403834948056282, 0.04403834948056282, 0.04403834948056282, 0.04403834948056282, 0.04403834948056282, 0.04403834948056282, 0.04403834948056282, 0.04403834948056282, 0.04403834948056282, 0.04403834948056282, 0.04403834948056282, 0.04403834948056282, 0.04403834948056282, 0.04403834948056282, 0.04403834948056282, 0.04403834948056282, 0.04403834948056282, 0.04403834948056282, 0.04403834948056282, 0.04403834948056282, 0.04403834948056282, 0.043926098458548085]}]}, \"metricName\": null, \"primaryMetricName\": \"normalized_root_mean_squared_error\", \"showLegend\": false}, \"run_metrics\": [{\"name\": \"experiment_status\", \"run_id\": \"AutoML_87e2c6b2-2888-4320-a418-5c087560a1fb\", \"categories\": [0, 1, 2, 3, 4, 5, 6, 7, 8, 9, 10, 11, 12], \"series\": [{\"data\": [\"DatasetEvaluation\", \"FeaturesGeneration\", \"DatasetFeaturization\", \"DatasetFeaturizationCompleted\", \"ModelSelection\", \"BestRunExplainModel\", \"ModelExplanationDataSetSetup\", \"PickSurrogateModel\", \"EngineeredFeatureExplanations\", \"EngineeredFeatureExplanations\", \"RawFeaturesExplanations\", \"RawFeaturesExplanations\", \"BestRunExplainModel\"]}]}, {\"name\": \"experiment_status_description\", \"run_id\": \"AutoML_87e2c6b2-2888-4320-a418-5c087560a1fb\", \"categories\": [0, 1, 2, 3, 4, 5, 6, 7, 8, 9, 10, 11, 12], \"series\": [{\"data\": [\"Gathering dataset statistics.\", \"Generating features for the dataset.\", \"Beginning to fit featurizers and featurize the dataset.\", \"Completed fit featurizers and featurizing the dataset.\", \"Beginning model selection.\", \"Best run model explanations started\", \"Model explanations data setup completed\", \"Choosing LightGBM as the surrogate model for explanations\", \"Computation of engineered features started\", \"Computation of engineered features completed\", \"Computation of raw features started\", \"Computation of raw features completed\", \"Best run model explanations completed\"]}]}], \"run_logs\": \"\\nRun is completed.\", \"graph\": {}, \"widget_settings\": {\"childWidgetDisplay\": \"popup\", \"send_telemetry\": false, \"log_level\": \"INFO\", \"sdk_version\": \"1.18.0\"}, \"loading\": false}"
          },
          "metadata": {}
        }
      ],
      "execution_count": 40,
      "metadata": {
        "gather": {
          "logged": 1605873748105
        },
        "jupyter": {
          "outputs_hidden": false,
          "source_hidden": false
        },
        "nteract": {
          "transient": {
            "deleting": false
          }
        },
        "id": "R6C_yJLLQfAB"
      }
    },
    {
      "cell_type": "markdown",
      "source": [
        "## Run Details\n",
        "\n",
        "OPTIONAL: Write about the different models trained and their performance. Why do you think some models did better than others?\n",
        "\n",
        "TODO: In the cell below, use the `RunDetails` widget to show the different experiments."
      ],
      "metadata": {
        "id": "tGaWfMX5QfAB"
      }
    },
    {
      "cell_type": "code",
      "source": [
        "automl_run.wait_for_completion()"
      ],
      "outputs": [
        {
          "output_type": "execute_result",
          "execution_count": 41,
          "data": {
            "text/plain": "{'runId': 'AutoML_87e2c6b2-2888-4320-a418-5c087560a1fb',\n 'target': 'notebook126995',\n 'status': 'Completed',\n 'startTimeUtc': '2020-11-20T11:32:08.512937Z',\n 'endTimeUtc': '2020-11-20T12:02:27.743642Z',\n 'properties': {'num_iterations': '1000',\n  'training_type': 'TrainFull',\n  'acquisition_function': 'EI',\n  'primary_metric': 'normalized_root_mean_squared_error',\n  'train_split': '0',\n  'acquisition_parameter': '0',\n  'num_cross_validation': None,\n  'target': 'notebook126995',\n  'AMLSettingsJsonString': '{\"path\":null,\"name\":\"automl_housing\",\"subscription_id\":\"502bce8d-d66b-4661-a423-f21e61d20123\",\"resource_group\":\"aml-quickstarts-126995\",\"workspace_name\":\"quick-starts-ws-126995\",\"region\":\"southcentralus\",\"compute_target\":\"notebook126995\",\"spark_service\":null,\"azure_service\":\"remote\",\"_local_managed_run_id\":null,\"many_models\":false,\"pipeline_fetch_max_batch_size\":1,\"iterations\":1000,\"primary_metric\":\"normalized_root_mean_squared_error\",\"task_type\":\"regression\",\"data_script\":null,\"validation_size\":0.0,\"n_cross_validations\":null,\"y_min\":null,\"y_max\":null,\"num_classes\":null,\"featurization\":\"auto\",\"_ignore_package_version_incompatibilities\":false,\"is_timeseries\":false,\"max_cores_per_iteration\":1,\"max_concurrent_iterations\":1,\"iteration_timeout_minutes\":null,\"mem_in_mb\":null,\"enforce_time_on_windows\":false,\"experiment_timeout_minutes\":30,\"experiment_exit_score\":null,\"whitelist_models\":null,\"blacklist_algos\":[\"TensorFlowDNN\",\"TensorFlowLinearRegressor\"],\"supported_models\":[\"KNN\",\"XGBoostRegressor\",\"TensorFlowDNN\",\"OnlineGradientDescentRegressor\",\"RandomForest\",\"GradientBoosting\",\"ExtremeRandomTrees\",\"ElasticNet\",\"TensorFlowLinearRegressor\",\"LassoLars\",\"SGD\",\"DecisionTree\",\"FastLinearRegressor\",\"LightGBM\"],\"auto_blacklist\":true,\"blacklist_samples_reached\":false,\"exclude_nan_labels\":true,\"verbosity\":20,\"_debug_log\":\"azureml_automl.log\",\"show_warnings\":false,\"model_explainability\":true,\"service_url\":null,\"sdk_url\":null,\"sdk_packages\":null,\"enable_onnx_compatible_models\":false,\"enable_split_onnx_featurizer_estimator_models\":false,\"vm_type\":\"STANDARD_DS3_V2\",\"telemetry_verbosity\":20,\"send_telemetry\":true,\"enable_dnn\":false,\"scenario\":\"SDK-1.13.0\",\"environment_label\":null,\"force_text_dnn\":false,\"enable_feature_sweeping\":true,\"enable_early_stopping\":true,\"early_stopping_n_iters\":10,\"metrics\":null,\"enable_ensembling\":true,\"enable_stack_ensembling\":true,\"ensemble_iterations\":15,\"enable_tf\":false,\"enable_subsampling\":null,\"subsample_seed\":null,\"enable_nimbusml\":false,\"enable_streaming\":false,\"force_streaming\":false,\"track_child_runs\":true,\"allowed_private_models\":[],\"label_column_name\":\"median_house_value\",\"weight_column_name\":null,\"cv_split_column_names\":null,\"enable_local_managed\":false,\"cost_mode\":1,\"lag_length\":0,\"metric_operation\":\"minimize\",\"preprocess\":true}',\n  'DataPrepJsonString': '{\\\\\"training_data\\\\\": \\\\\"{\\\\\\\\\\\\\"blocks\\\\\\\\\\\\\": [{\\\\\\\\\\\\\"id\\\\\\\\\\\\\": \\\\\\\\\\\\\"842f8378-7be7-4944-b558-20e14d92bbf5\\\\\\\\\\\\\", \\\\\\\\\\\\\"type\\\\\\\\\\\\\": \\\\\\\\\\\\\"Microsoft.DPrep.GetDatastoreFilesBlock\\\\\\\\\\\\\", \\\\\\\\\\\\\"arguments\\\\\\\\\\\\\": {\\\\\\\\\\\\\"datastores\\\\\\\\\\\\\": [{\\\\\\\\\\\\\"datastoreName\\\\\\\\\\\\\": \\\\\\\\\\\\\"workspaceblobstore\\\\\\\\\\\\\", \\\\\\\\\\\\\"path\\\\\\\\\\\\\": \\\\\\\\\\\\\"trainset.csv\\\\\\\\\\\\\", \\\\\\\\\\\\\"resourceGroup\\\\\\\\\\\\\": \\\\\\\\\\\\\"aml-quickstarts-126995\\\\\\\\\\\\\", \\\\\\\\\\\\\"subscription\\\\\\\\\\\\\": \\\\\\\\\\\\\"502bce8d-d66b-4661-a423-f21e61d20123\\\\\\\\\\\\\", \\\\\\\\\\\\\"workspaceName\\\\\\\\\\\\\": \\\\\\\\\\\\\"quick-starts-ws-126995\\\\\\\\\\\\\"}]}, \\\\\\\\\\\\\"localData\\\\\\\\\\\\\": {}, \\\\\\\\\\\\\"isEnabled\\\\\\\\\\\\\": true, \\\\\\\\\\\\\"name\\\\\\\\\\\\\": null, \\\\\\\\\\\\\"annotation\\\\\\\\\\\\\": null}, {\\\\\\\\\\\\\"id\\\\\\\\\\\\\": \\\\\\\\\\\\\"a35fa0a0-252a-44a8-b6d4-420a76a6534d\\\\\\\\\\\\\", \\\\\\\\\\\\\"type\\\\\\\\\\\\\": \\\\\\\\\\\\\"Microsoft.DPrep.ParseDelimitedBlock\\\\\\\\\\\\\", \\\\\\\\\\\\\"arguments\\\\\\\\\\\\\": {\\\\\\\\\\\\\"columnHeadersMode\\\\\\\\\\\\\": 3, \\\\\\\\\\\\\"fileEncoding\\\\\\\\\\\\\": 0, \\\\\\\\\\\\\"handleQuotedLineBreaks\\\\\\\\\\\\\": false, \\\\\\\\\\\\\"preview\\\\\\\\\\\\\": false, \\\\\\\\\\\\\"separator\\\\\\\\\\\\\": \\\\\\\\\\\\\",\\\\\\\\\\\\\", \\\\\\\\\\\\\"skipRows\\\\\\\\\\\\\": 0, \\\\\\\\\\\\\"skipRowsMode\\\\\\\\\\\\\": 0}, \\\\\\\\\\\\\"localData\\\\\\\\\\\\\": {}, \\\\\\\\\\\\\"isEnabled\\\\\\\\\\\\\": true, \\\\\\\\\\\\\"name\\\\\\\\\\\\\": null, \\\\\\\\\\\\\"annotation\\\\\\\\\\\\\": null}, {\\\\\\\\\\\\\"id\\\\\\\\\\\\\": \\\\\\\\\\\\\"4a21ed2d-7de1-4b09-b6e0-2df1b63b1ada\\\\\\\\\\\\\", \\\\\\\\\\\\\"type\\\\\\\\\\\\\": \\\\\\\\\\\\\"Microsoft.DPrep.DropColumnsBlock\\\\\\\\\\\\\", \\\\\\\\\\\\\"arguments\\\\\\\\\\\\\": {\\\\\\\\\\\\\"columns\\\\\\\\\\\\\": {\\\\\\\\\\\\\"type\\\\\\\\\\\\\": 0, \\\\\\\\\\\\\"details\\\\\\\\\\\\\": {\\\\\\\\\\\\\"selectedColumns\\\\\\\\\\\\\": [\\\\\\\\\\\\\"Path\\\\\\\\\\\\\"]}}}, \\\\\\\\\\\\\"localData\\\\\\\\\\\\\": {}, \\\\\\\\\\\\\"isEnabled\\\\\\\\\\\\\": true, \\\\\\\\\\\\\"name\\\\\\\\\\\\\": null, \\\\\\\\\\\\\"annotation\\\\\\\\\\\\\": null}, {\\\\\\\\\\\\\"id\\\\\\\\\\\\\": \\\\\\\\\\\\\"7886a7f4-d64e-4f14-8b2a-44e06925f4ca\\\\\\\\\\\\\", \\\\\\\\\\\\\"type\\\\\\\\\\\\\": \\\\\\\\\\\\\"Microsoft.DPrep.SetColumnTypesBlock\\\\\\\\\\\\\", \\\\\\\\\\\\\"arguments\\\\\\\\\\\\\": {\\\\\\\\\\\\\"columnConversion\\\\\\\\\\\\\": [{\\\\\\\\\\\\\"column\\\\\\\\\\\\\": {\\\\\\\\\\\\\"type\\\\\\\\\\\\\": 2, \\\\\\\\\\\\\"details\\\\\\\\\\\\\": {\\\\\\\\\\\\\"selectedColumn\\\\\\\\\\\\\": \\\\\\\\\\\\\"longitude\\\\\\\\\\\\\"}}, \\\\\\\\\\\\\"typeProperty\\\\\\\\\\\\\": 3}, {\\\\\\\\\\\\\"column\\\\\\\\\\\\\": {\\\\\\\\\\\\\"type\\\\\\\\\\\\\": 2, \\\\\\\\\\\\\"details\\\\\\\\\\\\\": {\\\\\\\\\\\\\"selectedColumn\\\\\\\\\\\\\": \\\\\\\\\\\\\"latitude\\\\\\\\\\\\\"}}, \\\\\\\\\\\\\"typeProperty\\\\\\\\\\\\\": 3}, {\\\\\\\\\\\\\"column\\\\\\\\\\\\\": {\\\\\\\\\\\\\"type\\\\\\\\\\\\\": 2, \\\\\\\\\\\\\"details\\\\\\\\\\\\\": {\\\\\\\\\\\\\"selectedColumn\\\\\\\\\\\\\": \\\\\\\\\\\\\"housing_median_age\\\\\\\\\\\\\"}}, \\\\\\\\\\\\\"typeProperty\\\\\\\\\\\\\": 3}, {\\\\\\\\\\\\\"column\\\\\\\\\\\\\": {\\\\\\\\\\\\\"type\\\\\\\\\\\\\": 2, \\\\\\\\\\\\\"details\\\\\\\\\\\\\": {\\\\\\\\\\\\\"selectedColumn\\\\\\\\\\\\\": \\\\\\\\\\\\\"total_rooms\\\\\\\\\\\\\"}}, \\\\\\\\\\\\\"typeProperty\\\\\\\\\\\\\": 3}, {\\\\\\\\\\\\\"column\\\\\\\\\\\\\": {\\\\\\\\\\\\\"type\\\\\\\\\\\\\": 2, \\\\\\\\\\\\\"details\\\\\\\\\\\\\": {\\\\\\\\\\\\\"selectedColumn\\\\\\\\\\\\\": \\\\\\\\\\\\\"total_bedrooms\\\\\\\\\\\\\"}}, \\\\\\\\\\\\\"typeProperty\\\\\\\\\\\\\": 3}, {\\\\\\\\\\\\\"column\\\\\\\\\\\\\": {\\\\\\\\\\\\\"type\\\\\\\\\\\\\": 2, \\\\\\\\\\\\\"details\\\\\\\\\\\\\": {\\\\\\\\\\\\\"selectedColumn\\\\\\\\\\\\\": \\\\\\\\\\\\\"population\\\\\\\\\\\\\"}}, \\\\\\\\\\\\\"typeProperty\\\\\\\\\\\\\": 3}, {\\\\\\\\\\\\\"column\\\\\\\\\\\\\": {\\\\\\\\\\\\\"type\\\\\\\\\\\\\": 2, \\\\\\\\\\\\\"details\\\\\\\\\\\\\": {\\\\\\\\\\\\\"selectedColumn\\\\\\\\\\\\\": \\\\\\\\\\\\\"households\\\\\\\\\\\\\"}}, \\\\\\\\\\\\\"typeProperty\\\\\\\\\\\\\": 3}, {\\\\\\\\\\\\\"column\\\\\\\\\\\\\": {\\\\\\\\\\\\\"type\\\\\\\\\\\\\": 2, \\\\\\\\\\\\\"details\\\\\\\\\\\\\": {\\\\\\\\\\\\\"selectedColumn\\\\\\\\\\\\\": \\\\\\\\\\\\\"median_income\\\\\\\\\\\\\"}}, \\\\\\\\\\\\\"typeProperty\\\\\\\\\\\\\": 3}, {\\\\\\\\\\\\\"column\\\\\\\\\\\\\": {\\\\\\\\\\\\\"type\\\\\\\\\\\\\": 2, \\\\\\\\\\\\\"details\\\\\\\\\\\\\": {\\\\\\\\\\\\\"selectedColumn\\\\\\\\\\\\\": \\\\\\\\\\\\\"median_house_value\\\\\\\\\\\\\"}}, \\\\\\\\\\\\\"typeProperty\\\\\\\\\\\\\": 3}, {\\\\\\\\\\\\\"column\\\\\\\\\\\\\": {\\\\\\\\\\\\\"type\\\\\\\\\\\\\": 2, \\\\\\\\\\\\\"details\\\\\\\\\\\\\": {\\\\\\\\\\\\\"selectedColumn\\\\\\\\\\\\\": \\\\\\\\\\\\\"ocp_<1H OCEAN\\\\\\\\\\\\\"}}, \\\\\\\\\\\\\"typeProperty\\\\\\\\\\\\\": 2}, {\\\\\\\\\\\\\"column\\\\\\\\\\\\\": {\\\\\\\\\\\\\"type\\\\\\\\\\\\\": 2, \\\\\\\\\\\\\"details\\\\\\\\\\\\\": {\\\\\\\\\\\\\"selectedColumn\\\\\\\\\\\\\": \\\\\\\\\\\\\"ocp_INLAND\\\\\\\\\\\\\"}}, \\\\\\\\\\\\\"typeProperty\\\\\\\\\\\\\": 2}, {\\\\\\\\\\\\\"column\\\\\\\\\\\\\": {\\\\\\\\\\\\\"type\\\\\\\\\\\\\": 2, \\\\\\\\\\\\\"details\\\\\\\\\\\\\": {\\\\\\\\\\\\\"selectedColumn\\\\\\\\\\\\\": \\\\\\\\\\\\\"ocp_ISLAND\\\\\\\\\\\\\"}}, \\\\\\\\\\\\\"typeProperty\\\\\\\\\\\\\": 2}, {\\\\\\\\\\\\\"column\\\\\\\\\\\\\": {\\\\\\\\\\\\\"type\\\\\\\\\\\\\": 2, \\\\\\\\\\\\\"details\\\\\\\\\\\\\": {\\\\\\\\\\\\\"selectedColumn\\\\\\\\\\\\\": \\\\\\\\\\\\\"ocp_NEAR BAY\\\\\\\\\\\\\"}}, \\\\\\\\\\\\\"typeProperty\\\\\\\\\\\\\": 2}, {\\\\\\\\\\\\\"column\\\\\\\\\\\\\": {\\\\\\\\\\\\\"type\\\\\\\\\\\\\": 2, \\\\\\\\\\\\\"details\\\\\\\\\\\\\": {\\\\\\\\\\\\\"selectedColumn\\\\\\\\\\\\\": \\\\\\\\\\\\\"ocp_NEAR OCEAN\\\\\\\\\\\\\"}}, \\\\\\\\\\\\\"typeProperty\\\\\\\\\\\\\": 2}]}, \\\\\\\\\\\\\"localData\\\\\\\\\\\\\": {}, \\\\\\\\\\\\\"isEnabled\\\\\\\\\\\\\": true, \\\\\\\\\\\\\"name\\\\\\\\\\\\\": null, \\\\\\\\\\\\\"annotation\\\\\\\\\\\\\": null}], \\\\\\\\\\\\\"inspectors\\\\\\\\\\\\\": [], \\\\\\\\\\\\\"meta\\\\\\\\\\\\\": {\\\\\\\\\\\\\"savedDatasetId\\\\\\\\\\\\\": \\\\\\\\\\\\\"589bc120-9b95-4a4c-81f2-e1070a377892\\\\\\\\\\\\\", \\\\\\\\\\\\\"datasetType\\\\\\\\\\\\\": \\\\\\\\\\\\\"tabular\\\\\\\\\\\\\", \\\\\\\\\\\\\"subscriptionId\\\\\\\\\\\\\": \\\\\\\\\\\\\"502bce8d-d66b-4661-a423-f21e61d20123\\\\\\\\\\\\\", \\\\\\\\\\\\\"workspaceId\\\\\\\\\\\\\": \\\\\\\\\\\\\"b58662cd-032b-4c1e-8c6e-d824ceb8b552\\\\\\\\\\\\\", \\\\\\\\\\\\\"workspaceLocation\\\\\\\\\\\\\": \\\\\\\\\\\\\"southcentralus\\\\\\\\\\\\\"}}\\\\\", \\\\\"validation_data\\\\\": \\\\\"{\\\\\\\\\\\\\"blocks\\\\\\\\\\\\\": [{\\\\\\\\\\\\\"id\\\\\\\\\\\\\": \\\\\\\\\\\\\"a1404c0a-85ef-42b4-87ec-4fc5d85ac3ff\\\\\\\\\\\\\", \\\\\\\\\\\\\"type\\\\\\\\\\\\\": \\\\\\\\\\\\\"Microsoft.DPrep.GetDatastoreFilesBlock\\\\\\\\\\\\\", \\\\\\\\\\\\\"arguments\\\\\\\\\\\\\": {\\\\\\\\\\\\\"datastores\\\\\\\\\\\\\": [{\\\\\\\\\\\\\"datastoreName\\\\\\\\\\\\\": \\\\\\\\\\\\\"workspaceblobstore\\\\\\\\\\\\\", \\\\\\\\\\\\\"path\\\\\\\\\\\\\": \\\\\\\\\\\\\"testset.csv\\\\\\\\\\\\\", \\\\\\\\\\\\\"resourceGroup\\\\\\\\\\\\\": \\\\\\\\\\\\\"aml-quickstarts-126995\\\\\\\\\\\\\", \\\\\\\\\\\\\"subscription\\\\\\\\\\\\\": \\\\\\\\\\\\\"502bce8d-d66b-4661-a423-f21e61d20123\\\\\\\\\\\\\", \\\\\\\\\\\\\"workspaceName\\\\\\\\\\\\\": \\\\\\\\\\\\\"quick-starts-ws-126995\\\\\\\\\\\\\"}]}, \\\\\\\\\\\\\"localData\\\\\\\\\\\\\": {}, \\\\\\\\\\\\\"isEnabled\\\\\\\\\\\\\": true, \\\\\\\\\\\\\"name\\\\\\\\\\\\\": null, \\\\\\\\\\\\\"annotation\\\\\\\\\\\\\": null}, {\\\\\\\\\\\\\"id\\\\\\\\\\\\\": \\\\\\\\\\\\\"e3e1ca0a-30c5-40b4-8fee-a0c4c79fe362\\\\\\\\\\\\\", \\\\\\\\\\\\\"type\\\\\\\\\\\\\": \\\\\\\\\\\\\"Microsoft.DPrep.ParseDelimitedBlock\\\\\\\\\\\\\", \\\\\\\\\\\\\"arguments\\\\\\\\\\\\\": {\\\\\\\\\\\\\"columnHeadersMode\\\\\\\\\\\\\": 3, \\\\\\\\\\\\\"fileEncoding\\\\\\\\\\\\\": 0, \\\\\\\\\\\\\"handleQuotedLineBreaks\\\\\\\\\\\\\": false, \\\\\\\\\\\\\"preview\\\\\\\\\\\\\": false, \\\\\\\\\\\\\"separator\\\\\\\\\\\\\": \\\\\\\\\\\\\",\\\\\\\\\\\\\", \\\\\\\\\\\\\"skipRows\\\\\\\\\\\\\": 0, \\\\\\\\\\\\\"skipRowsMode\\\\\\\\\\\\\": 0}, \\\\\\\\\\\\\"localData\\\\\\\\\\\\\": {}, \\\\\\\\\\\\\"isEnabled\\\\\\\\\\\\\": true, \\\\\\\\\\\\\"name\\\\\\\\\\\\\": null, \\\\\\\\\\\\\"annotation\\\\\\\\\\\\\": null}, {\\\\\\\\\\\\\"id\\\\\\\\\\\\\": \\\\\\\\\\\\\"3fcb188c-dd5d-402e-8933-1f7734c48d42\\\\\\\\\\\\\", \\\\\\\\\\\\\"type\\\\\\\\\\\\\": \\\\\\\\\\\\\"Microsoft.DPrep.DropColumnsBlock\\\\\\\\\\\\\", \\\\\\\\\\\\\"arguments\\\\\\\\\\\\\": {\\\\\\\\\\\\\"columns\\\\\\\\\\\\\": {\\\\\\\\\\\\\"type\\\\\\\\\\\\\": 0, \\\\\\\\\\\\\"details\\\\\\\\\\\\\": {\\\\\\\\\\\\\"selectedColumns\\\\\\\\\\\\\": [\\\\\\\\\\\\\"Path\\\\\\\\\\\\\"]}}}, \\\\\\\\\\\\\"localData\\\\\\\\\\\\\": {}, \\\\\\\\\\\\\"isEnabled\\\\\\\\\\\\\": true, \\\\\\\\\\\\\"name\\\\\\\\\\\\\": null, \\\\\\\\\\\\\"annotation\\\\\\\\\\\\\": null}, {\\\\\\\\\\\\\"id\\\\\\\\\\\\\": \\\\\\\\\\\\\"626e26d1-50b6-43b7-b007-74e1e66bf25c\\\\\\\\\\\\\", \\\\\\\\\\\\\"type\\\\\\\\\\\\\": \\\\\\\\\\\\\"Microsoft.DPrep.SetColumnTypesBlock\\\\\\\\\\\\\", \\\\\\\\\\\\\"arguments\\\\\\\\\\\\\": {\\\\\\\\\\\\\"columnConversion\\\\\\\\\\\\\": [{\\\\\\\\\\\\\"column\\\\\\\\\\\\\": {\\\\\\\\\\\\\"type\\\\\\\\\\\\\": 2, \\\\\\\\\\\\\"details\\\\\\\\\\\\\": {\\\\\\\\\\\\\"selectedColumn\\\\\\\\\\\\\": \\\\\\\\\\\\\"longitude\\\\\\\\\\\\\"}}, \\\\\\\\\\\\\"typeProperty\\\\\\\\\\\\\": 3}, {\\\\\\\\\\\\\"column\\\\\\\\\\\\\": {\\\\\\\\\\\\\"type\\\\\\\\\\\\\": 2, \\\\\\\\\\\\\"details\\\\\\\\\\\\\": {\\\\\\\\\\\\\"selectedColumn\\\\\\\\\\\\\": \\\\\\\\\\\\\"latitude\\\\\\\\\\\\\"}}, \\\\\\\\\\\\\"typeProperty\\\\\\\\\\\\\": 3}, {\\\\\\\\\\\\\"column\\\\\\\\\\\\\": {\\\\\\\\\\\\\"type\\\\\\\\\\\\\": 2, \\\\\\\\\\\\\"details\\\\\\\\\\\\\": {\\\\\\\\\\\\\"selectedColumn\\\\\\\\\\\\\": \\\\\\\\\\\\\"housing_median_age\\\\\\\\\\\\\"}}, \\\\\\\\\\\\\"typeProperty\\\\\\\\\\\\\": 3}, {\\\\\\\\\\\\\"column\\\\\\\\\\\\\": {\\\\\\\\\\\\\"type\\\\\\\\\\\\\": 2, \\\\\\\\\\\\\"details\\\\\\\\\\\\\": {\\\\\\\\\\\\\"selectedColumn\\\\\\\\\\\\\": \\\\\\\\\\\\\"total_rooms\\\\\\\\\\\\\"}}, \\\\\\\\\\\\\"typeProperty\\\\\\\\\\\\\": 3}, {\\\\\\\\\\\\\"column\\\\\\\\\\\\\": {\\\\\\\\\\\\\"type\\\\\\\\\\\\\": 2, \\\\\\\\\\\\\"details\\\\\\\\\\\\\": {\\\\\\\\\\\\\"selectedColumn\\\\\\\\\\\\\": \\\\\\\\\\\\\"total_bedrooms\\\\\\\\\\\\\"}}, \\\\\\\\\\\\\"typeProperty\\\\\\\\\\\\\": 0}, {\\\\\\\\\\\\\"column\\\\\\\\\\\\\": {\\\\\\\\\\\\\"type\\\\\\\\\\\\\": 2, \\\\\\\\\\\\\"details\\\\\\\\\\\\\": {\\\\\\\\\\\\\"selectedColumn\\\\\\\\\\\\\": \\\\\\\\\\\\\"population\\\\\\\\\\\\\"}}, \\\\\\\\\\\\\"typeProperty\\\\\\\\\\\\\": 3}, {\\\\\\\\\\\\\"column\\\\\\\\\\\\\": {\\\\\\\\\\\\\"type\\\\\\\\\\\\\": 2, \\\\\\\\\\\\\"details\\\\\\\\\\\\\": {\\\\\\\\\\\\\"selectedColumn\\\\\\\\\\\\\": \\\\\\\\\\\\\"households\\\\\\\\\\\\\"}}, \\\\\\\\\\\\\"typeProperty\\\\\\\\\\\\\": 3}, {\\\\\\\\\\\\\"column\\\\\\\\\\\\\": {\\\\\\\\\\\\\"type\\\\\\\\\\\\\": 2, \\\\\\\\\\\\\"details\\\\\\\\\\\\\": {\\\\\\\\\\\\\"selectedColumn\\\\\\\\\\\\\": \\\\\\\\\\\\\"median_income\\\\\\\\\\\\\"}}, \\\\\\\\\\\\\"typeProperty\\\\\\\\\\\\\": 3}, {\\\\\\\\\\\\\"column\\\\\\\\\\\\\": {\\\\\\\\\\\\\"type\\\\\\\\\\\\\": 2, \\\\\\\\\\\\\"details\\\\\\\\\\\\\": {\\\\\\\\\\\\\"selectedColumn\\\\\\\\\\\\\": \\\\\\\\\\\\\"median_house_value\\\\\\\\\\\\\"}}, \\\\\\\\\\\\\"typeProperty\\\\\\\\\\\\\": 3}, {\\\\\\\\\\\\\"column\\\\\\\\\\\\\": {\\\\\\\\\\\\\"type\\\\\\\\\\\\\": 2, \\\\\\\\\\\\\"details\\\\\\\\\\\\\": {\\\\\\\\\\\\\"selectedColumn\\\\\\\\\\\\\": \\\\\\\\\\\\\"ocp_<1H OCEAN\\\\\\\\\\\\\"}}, \\\\\\\\\\\\\"typeProperty\\\\\\\\\\\\\": 2}, {\\\\\\\\\\\\\"column\\\\\\\\\\\\\": {\\\\\\\\\\\\\"type\\\\\\\\\\\\\": 2, \\\\\\\\\\\\\"details\\\\\\\\\\\\\": {\\\\\\\\\\\\\"selectedColumn\\\\\\\\\\\\\": \\\\\\\\\\\\\"ocp_INLAND\\\\\\\\\\\\\"}}, \\\\\\\\\\\\\"typeProperty\\\\\\\\\\\\\": 2}, {\\\\\\\\\\\\\"column\\\\\\\\\\\\\": {\\\\\\\\\\\\\"type\\\\\\\\\\\\\": 2, \\\\\\\\\\\\\"details\\\\\\\\\\\\\": {\\\\\\\\\\\\\"selectedColumn\\\\\\\\\\\\\": \\\\\\\\\\\\\"ocp_ISLAND\\\\\\\\\\\\\"}}, \\\\\\\\\\\\\"typeProperty\\\\\\\\\\\\\": 2}, {\\\\\\\\\\\\\"column\\\\\\\\\\\\\": {\\\\\\\\\\\\\"type\\\\\\\\\\\\\": 2, \\\\\\\\\\\\\"details\\\\\\\\\\\\\": {\\\\\\\\\\\\\"selectedColumn\\\\\\\\\\\\\": \\\\\\\\\\\\\"ocp_NEAR BAY\\\\\\\\\\\\\"}}, \\\\\\\\\\\\\"typeProperty\\\\\\\\\\\\\": 2}, {\\\\\\\\\\\\\"column\\\\\\\\\\\\\": {\\\\\\\\\\\\\"type\\\\\\\\\\\\\": 2, \\\\\\\\\\\\\"details\\\\\\\\\\\\\": {\\\\\\\\\\\\\"selectedColumn\\\\\\\\\\\\\": \\\\\\\\\\\\\"ocp_NEAR OCEAN\\\\\\\\\\\\\"}}, \\\\\\\\\\\\\"typeProperty\\\\\\\\\\\\\": 2}]}, \\\\\\\\\\\\\"localData\\\\\\\\\\\\\": {}, \\\\\\\\\\\\\"isEnabled\\\\\\\\\\\\\": true, \\\\\\\\\\\\\"name\\\\\\\\\\\\\": null, \\\\\\\\\\\\\"annotation\\\\\\\\\\\\\": null}], \\\\\\\\\\\\\"inspectors\\\\\\\\\\\\\": [], \\\\\\\\\\\\\"meta\\\\\\\\\\\\\": {\\\\\\\\\\\\\"savedDatasetId\\\\\\\\\\\\\": \\\\\\\\\\\\\"579e6450-5884-4476-9587-d8cf5880012a\\\\\\\\\\\\\", \\\\\\\\\\\\\"datasetType\\\\\\\\\\\\\": \\\\\\\\\\\\\"tabular\\\\\\\\\\\\\", \\\\\\\\\\\\\"subscriptionId\\\\\\\\\\\\\": \\\\\\\\\\\\\"502bce8d-d66b-4661-a423-f21e61d20123\\\\\\\\\\\\\", \\\\\\\\\\\\\"workspaceId\\\\\\\\\\\\\": \\\\\\\\\\\\\"b58662cd-032b-4c1e-8c6e-d824ceb8b552\\\\\\\\\\\\\", \\\\\\\\\\\\\"workspaceLocation\\\\\\\\\\\\\": \\\\\\\\\\\\\"southcentralus\\\\\\\\\\\\\"}}\\\\\", \\\\\"activities\\\\\": 0}',\n  'EnableSubsampling': None,\n  'runTemplate': 'AutoML',\n  'azureml.runsource': 'automl',\n  'display_task_type': 'regression',\n  'dependencies_versions': '{\"azureml-widgets\": \"1.18.0\", \"azureml-train\": \"1.18.0\", \"azureml-train-restclients-hyperdrive\": \"1.18.0\", \"azureml-train-core\": \"1.18.0\", \"azureml-train-automl\": \"1.18.0\", \"azureml-train-automl-runtime\": \"1.18.0\", \"azureml-train-automl-client\": \"1.18.0\", \"azureml-tensorboard\": \"1.18.0\", \"azureml-telemetry\": \"1.18.0\", \"azureml-sdk\": \"1.18.0\", \"azureml-samples\": \"0+unknown\", \"azureml-pipeline\": \"1.18.0\", \"azureml-pipeline-steps\": \"1.18.0\", \"azureml-pipeline-core\": \"1.18.0\", \"azureml-opendatasets\": \"1.18.0\", \"azureml-model-management-sdk\": \"1.0.1b6.post1\", \"azureml-mlflow\": \"1.18.0\", \"azureml-interpret\": \"1.18.0\", \"azureml-explain-model\": \"1.18.0\", \"azureml-defaults\": \"1.18.0\", \"azureml-dataset-runtime\": \"1.18.0\", \"azureml-dataprep\": \"2.4.2\", \"azureml-dataprep-rslex\": \"1.2.2\", \"azureml-dataprep-native\": \"24.0.0\", \"azureml-datadrift\": \"1.18.0\", \"azureml-core\": \"1.18.0\", \"azureml-contrib-services\": \"1.18.0\", \"azureml-contrib-server\": \"1.18.0\", \"azureml-contrib-reinforcementlearning\": \"1.18.0\", \"azureml-contrib-pipeline-steps\": \"1.18.0\", \"azureml-contrib-notebook\": \"1.18.0\", \"azureml-contrib-interpret\": \"1.18.0\", \"azureml-contrib-gbdt\": \"1.18.0\", \"azureml-contrib-fairness\": \"1.18.0\", \"azureml-contrib-dataset\": \"1.18.0\", \"azureml-cli-common\": \"1.18.0\", \"azureml-automl-runtime\": \"1.18.0\", \"azureml-automl-core\": \"1.18.0\", \"azureml-accel-models\": \"1.18.0\"}',\n  '_aml_system_scenario_identification': 'Remote.Parent',\n  'ClientType': 'SDK',\n  'environment_cpu_name': 'AzureML-AutoML',\n  'environment_cpu_version': '44',\n  'environment_gpu_name': 'AzureML-AutoML-GPU',\n  'environment_gpu_version': '32',\n  'root_attribution': 'automl',\n  'attribution': 'AutoML',\n  'Orchestrator': 'AutoML',\n  'CancelUri': 'https://southcentralus.experiments.azureml.net/jasmine/v1.0/subscriptions/502bce8d-d66b-4661-a423-f21e61d20123/resourceGroups/aml-quickstarts-126995/providers/Microsoft.MachineLearningServices/workspaces/quick-starts-ws-126995/experimentids/8f4fc87e-7750-48c3-af08-d32d4ff7589f/cancel/AutoML_87e2c6b2-2888-4320-a418-5c087560a1fb',\n  'ClientSdkVersion': '1.17.0',\n  'snapshotId': '00000000-0000-0000-0000-000000000000',\n  'SetupRunId': 'AutoML_87e2c6b2-2888-4320-a418-5c087560a1fb_setup',\n  'SetupRunContainerId': 'dcid.AutoML_87e2c6b2-2888-4320-a418-5c087560a1fb_setup',\n  'FeaturizationRunJsonPath': 'featurizer_container.json',\n  'FeaturizationRunId': 'AutoML_87e2c6b2-2888-4320-a418-5c087560a1fb_featurize',\n  'ProblemInfoJsonString': '{\"dataset_num_categorical\": 0, \"is_sparse\": false, \"subsampling\": false, \"dataset_classes\": 3675, \"dataset_features\": 13, \"dataset_samples\": 16512, \"single_frequency_class_detected\": false}',\n  'ModelExplainRunId': 'AutoML_87e2c6b2-2888-4320-a418-5c087560a1fb_ModelExplain'},\n 'inputDatasets': [{'dataset': {'id': '589bc120-9b95-4a4c-81f2-e1070a377892'}, 'consumptionDetails': {'type': 'RunInput', 'inputName': 'training_data', 'mechanism': 'Direct'}}, {'dataset': {'id': '579e6450-5884-4476-9587-d8cf5880012a'}, 'consumptionDetails': {'type': 'RunInput', 'inputName': 'validation_data', 'mechanism': 'Direct'}}],\n 'outputDatasets': [],\n 'logFiles': {}}"
          },
          "metadata": {}
        }
      ],
      "execution_count": 41,
      "metadata": {
        "id": "1HkMvvB2Uh1x",
        "gather": {
          "logged": 1605873897730
        }
      }
    },
    {
      "cell_type": "markdown",
      "source": [
        "## Best Model\n",
        "\n",
        "TODO: In the cell below, get the best model from the automl experiments and display all the properties of the model.\n",
        "\n"
      ],
      "metadata": {
        "id": "XMnAGBD7QfAC"
      }
    },
    {
      "cell_type": "code",
      "source": [
        "# Retrieve and save your best automl model.\n",
        "automl_run, fitted_automl_model = automl_run.get_output() \n",
        "print(fitted_automl_model) #To print\n",
        "import joblib  \n",
        "joblib.dump(fitted_automl_model, \"automl_model_housing.joblib\")"
      ],
      "outputs": [
        {
          "output_type": "stream",
          "name": "stdout",
          "text": [
            "RegressionPipeline(pipeline=Pipeline(memory=None,\n",
            "                                     steps=[('datatransformer',\n",
            "                                             DataTransformer(enable_dnn=None,\n",
            "                                                             enable_feature_sweeping=None,\n",
            "                                                             feature_sweeping_config=None,\n",
            "                                                             feature_sweeping_timeout=None,\n",
            "                                                             featurization_config=None,\n",
            "                                                             force_text_dnn=None,\n",
            "                                                             is_cross_validation=None,\n",
            "                                                             is_onnx_compatible=None,\n",
            "                                                             logger=None,\n",
            "                                                             observer=None,\n",
            "                                                             task=None,\n",
            "                                                             working_dir=None)),\n",
            "                                            ('Max...\n",
            "                                                               colsample_bytree=1.0,\n",
            "                                                               importance_type='split',\n",
            "                                                               learning_rate=0.1,\n",
            "                                                               max_depth=-1,\n",
            "                                                               min_child_samples=20,\n",
            "                                                               min_child_weight=0.001,\n",
            "                                                               min_split_gain=0.0,\n",
            "                                                               n_estimators=100,\n",
            "                                                               n_jobs=1,\n",
            "                                                               num_leaves=31,\n",
            "                                                               objective=None,\n",
            "                                                               random_state=None,\n",
            "                                                               reg_alpha=0.0,\n",
            "                                                               reg_lambda=0.0,\n",
            "                                                               silent=True,\n",
            "                                                               subsample=1.0,\n",
            "                                                               subsample_for_bin=200000,\n",
            "                                                               subsample_freq=0,\n",
            "                                                               verbose=-1))],\n",
            "                                     verbose=False),\n",
            "                   stddev=None)\n"
          ]
        },
        {
          "output_type": "execute_result",
          "execution_count": 42,
          "data": {
            "text/plain": "['automl_model_housing.joblib']"
          },
          "metadata": {}
        }
      ],
      "execution_count": 42,
      "metadata": {
        "gather": {
          "logged": 1605873931178
        },
        "jupyter": {
          "outputs_hidden": false,
          "source_hidden": false
        },
        "nteract": {
          "transient": {
            "deleting": false
          }
        },
        "id": "d9QYLrNaQfAC"
      }
    },
    {
      "cell_type": "code",
      "source": [
        "automl_run_metrics = automl_run.get_metrics()\n",
        "automl_run_metrics"
      ],
      "outputs": [
        {
          "output_type": "execute_result",
          "execution_count": 44,
          "data": {
            "text/plain": "{'normalized_mean_absolute_error': 0.06675515129322772,\n 'r2_score': 0.8228235321116265,\n 'mean_absolute_error': 32376.38188751803,\n 'explained_variance': 0.8228777634621539,\n 'root_mean_squared_error': 48184.39936887613,\n 'root_mean_squared_log_error': 0.23883385833995038,\n 'median_absolute_error': 21358.68757477193,\n 'normalized_root_mean_squared_log_error': 0.06811054968772484,\n 'mean_absolute_percentage_error': 18.38221463878435,\n 'spearman_correlation': 0.9138951035775631,\n 'normalized_root_mean_squared_error': 0.09934886736317816,\n 'normalized_median_absolute_error': 0.04403834948056282,\n 'predicted_true': 'aml://artifactId/ExperimentRun/dcid.AutoML_87e2c6b2-2888-4320-a418-5c087560a1fb_0/predicted_true',\n 'residuals': 'aml://artifactId/ExperimentRun/dcid.AutoML_87e2c6b2-2888-4320-a418-5c087560a1fb_0/residuals'}"
          },
          "metadata": {}
        }
      ],
      "execution_count": 44,
      "metadata": {
        "gather": {
          "logged": 1605873952810
        },
        "jupyter": {
          "outputs_hidden": false,
          "source_hidden": false
        },
        "nteract": {
          "transient": {
            "deleting": false
          }
        },
        "id": "JgNUewNBQfAC"
      }
    },
    {
      "cell_type": "code",
      "source": [
        "print('Bets Run ID', automl_run.id)\n",
        "print('\\n MAE', automl_run_metrics['mean_absolute_error'])"
      ],
      "outputs": [
        {
          "output_type": "stream",
          "name": "stdout",
          "text": [
            "Bets Run ID AutoML_87e2c6b2-2888-4320-a418-5c087560a1fb_0\n",
            "\n",
            " MAE 32376.38188751803\n"
          ]
        }
      ],
      "execution_count": 46,
      "metadata": {
        "id": "JkbirWmHUz-g",
        "gather": {
          "logged": 1605873973621
        }
      }
    },
    {
      "cell_type": "code",
      "source": [],
      "outputs": [],
      "execution_count": null,
      "metadata": {
        "gather": {
          "logged": 1598432707604
        },
        "jupyter": {
          "outputs_hidden": false,
          "source_hidden": false
        },
        "nteract": {
          "transient": {
            "deleting": false
          }
        },
        "id": "I9ghw81kQfAC"
      }
    },
    {
      "cell_type": "code",
      "source": [],
      "outputs": [],
      "execution_count": null,
      "metadata": {
        "jupyter": {
          "outputs_hidden": false,
          "source_hidden": false
        },
        "nteract": {
          "transient": {
            "deleting": false
          }
        },
        "id": "DexouMT3QfAD"
      }
    }
  ],
  "metadata": {
    "kernel_info": {
      "name": "python3"
    },
    "kernelspec": {
      "name": "python3",
      "language": "python",
      "display_name": "Python 3"
    },
    "language_info": {
      "name": "python",
      "version": "3.6.9",
      "mimetype": "text/x-python",
      "codemirror_mode": {
        "name": "ipython",
        "version": 3
      },
      "pygments_lexer": "ipython3",
      "nbconvert_exporter": "python",
      "file_extension": ".py"
    },
    "nteract": {
      "version": "nteract-front-end@1.0.0"
    },
    "colab": {
      "name": "automl.ipynb",
      "provenance": [],
      "collapsed_sections": []
    }
  },
  "nbformat": 4,
  "nbformat_minor": 0
}