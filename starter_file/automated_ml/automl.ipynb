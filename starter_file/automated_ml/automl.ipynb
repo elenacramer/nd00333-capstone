{
  "cells": [
    {
      "cell_type": "markdown",
      "source": [
        "# Automated ML\n",
        "\n",
        "TODO: Import Dependencies. In the cell below, import all the dependencies that you will need to complete the project."
      ],
      "metadata": {
        "id": "-UbcJPDLQfAB"
      }
    },
    {
      "cell_type": "code",
      "source": [
        "import logging\n",
        "import os\n",
        "\n",
        "import azureml.core\n",
        "from azureml.core.experiment import Experiment\n",
        "from azureml.core.workspace import Workspace\n",
        "from azureml.train.automl import AutoMLConfig\n",
        "from azureml.core.dataset import Dataset\n",
        "from azureml.data.dataset_factory import TabularDatasetFactory\n",
        "\n",
        "from sklearn.model_selection import train_test_split"
      ],
      "outputs": [],
      "execution_count": 1,
      "metadata": {
        "gather": {
          "logged": 1606198481394
        },
        "jupyter": {
          "outputs_hidden": false,
          "source_hidden": false
        },
        "nteract": {
          "transient": {
            "deleting": false
          }
        },
        "id": "1o73SbzZQfAB"
      }
    },
    {
      "cell_type": "markdown",
      "source": [
        "## Dataset\n",
        "\n",
        "### Overview\n",
        "We wil predict median house valie from kaggle's data set \"Calofornia housing\". Data set was downloaded as a csv and uploaded i.e. registered as data set in the workspace. \n"
      ],
      "metadata": {
        "id": "abcMApzQQfAB"
      }
    },
    {
      "cell_type": "markdown",
      "source": [
        "### Workspace Set Up and Initialize an Experiment"
      ],
      "metadata": {
        "nteract": {
          "transient": {
            "deleting": false
          }
        }
      }
    },
    {
      "cell_type": "code",
      "source": [
        "ws = Workspace.from_config()\n",
        "print(ws.name, ws.resource_group, ws.location, ws.subscription_id, sep = '\\n')"
      ],
      "outputs": [
        {
          "output_type": "stream",
          "name": "stdout",
          "text": [
            "Performing interactive authentication. Please follow the instructions on the terminal.\n",
            "To sign in, use a web browser to open the page https://microsoft.com/devicelogin and enter the code RFXLTBC76 to authenticate.\n",
            "You have logged in. Now let us find all the subscriptions to which you have access...\n",
            "Interactive authentication successfully completed.\n",
            "quick-starts-ws-127655\n",
            "aml-quickstarts-127655\n",
            "southcentralus\n",
            "fb968fd6-afa4-4fb2-8296-1d0120d715b4\n"
          ]
        }
      ],
      "execution_count": 2,
      "metadata": {
        "gather": {
          "logged": 1606198508447
        },
        "jupyter": {
          "outputs_hidden": false,
          "source_hidden": false
        },
        "nteract": {
          "transient": {
            "deleting": false
          }
        },
        "id": "XLTZwG8RQfAB"
      }
    },
    {
      "cell_type": "code",
      "source": [
        "os.listdir(os.curdir), os.getcwd()"
      ],
      "outputs": [
        {
          "output_type": "execute_result",
          "execution_count": 3,
          "data": {
            "text/plain": "(['.ipynb_aml_checkpoints',\n  'automl (2).ipynb',\n  'housing.csv',\n  'raw_data.json',\n  'scoring.py'],\n '/mnt/batch/tasks/shared/LS_root/mounts/clusters/notebook127655/code/Users/odl_user_127655')"
          },
          "metadata": {}
        }
      ],
      "execution_count": 3,
      "metadata": {
        "collapsed": true,
        "jupyter": {
          "source_hidden": false,
          "outputs_hidden": false
        },
        "nteract": {
          "transient": {
            "deleting": false
          }
        },
        "gather": {
          "logged": 1606198519145
        }
      }
    },
    {
      "cell_type": "code",
      "source": [
        "# choose a name for experiment\n",
        "experiment_name = 'automl_housing'\n",
        "project_folder = './automl-housing'\n",
        "os.makedirs(project_folder, exist_ok=True)\n",
        "\n",
        "experiment = Experiment(ws, experiment_name)\n",
        "experiment"
      ],
      "outputs": [
        {
          "output_type": "execute_result",
          "execution_count": 4,
          "data": {
            "text/plain": "Experiment(Name: automl_housing,\nWorkspace: quick-starts-ws-127655)",
            "text/html": "<table style=\"width:100%\"><tr><th>Name</th><th>Workspace</th><th>Report Page</th><th>Docs Page</th></tr><tr><td>automl_housing</td><td>quick-starts-ws-127655</td><td><a href=\"https://ml.azure.com/experiments/automl_housing?wsid=/subscriptions/fb968fd6-afa4-4fb2-8296-1d0120d715b4/resourcegroups/aml-quickstarts-127655/workspaces/quick-starts-ws-127655\" target=\"_blank\" rel=\"noopener\">Link to Azure Machine Learning studio</a></td><td><a href=\"https://docs.microsoft.com/en-us/python/api/azureml-core/azureml.core.experiment.Experiment?view=azure-ml-py\" target=\"_blank\" rel=\"noopener\">Link to Documentation</a></td></tr></table>"
          },
          "metadata": {}
        }
      ],
      "execution_count": 4,
      "metadata": {
        "id": "rXDoY4ohQoUc",
        "gather": {
          "logged": 1606198522939
        }
      }
    },
    {
      "cell_type": "markdown",
      "source": [
        "### Create or Attach a Compute Resource"
      ],
      "metadata": {
        "nteract": {
          "transient": {
            "deleting": false
          }
        }
      }
    },
    {
      "cell_type": "code",
      "source": [
        "from azureml.core.compute import AmlCompute\n",
        "from azureml.core.compute import ComputeTarget\n",
        "from azureml.core.compute_target import ComputeTargetException\n",
        "\n",
        "# NOTE: update the cluster name to match the existing cluster\n",
        "# Choose a name for your CPU cluster\n",
        "amlcompute_cluster_name = \"notebook127655\"\n",
        "\n",
        "# Verify that cluster does not exist already\n",
        "try:\n",
        "    compute_target = ComputeTarget(workspace=ws, name=amlcompute_cluster_name)\n",
        "    print('Found existing cluster, use it.')\n",
        "except ComputeTargetException:\n",
        "    compute_config = AmlCompute.provisioning_configuration(vm_size='STANDARD_D2_V2',# for GPU, use \"STANDARD_NC6\"\n",
        "                                                           #vm_priority = 'lowpriority', # optional\n",
        "                                                           max_nodes=4)\n",
        "    compute_target = ComputeTarget.create(ws, amlcompute_cluster_name, compute_config)\n",
        "\n",
        "compute_target.wait_for_completion(show_output=True)\n",
        "# For a more detailed view of current AmlCompute status, use get_status()."
      ],
      "outputs": [
        {
          "output_type": "stream",
          "name": "stdout",
          "text": [
            "Found existing cluster, use it.\n",
            "\n",
            "Running\n"
          ]
        }
      ],
      "execution_count": 6,
      "metadata": {
        "id": "vphkmAuDREuy",
        "gather": {
          "logged": 1606198553863
        }
      }
    },
    {
      "cell_type": "markdown",
      "source": [
        "### Data set"
      ],
      "metadata": {
        "nteract": {
          "transient": {
            "deleting": false
          }
        }
      }
    },
    {
      "cell_type": "code",
      "source": [
        "import pandas as pd\n",
        "data = pd.read_csv(\"housing.csv\", header=0)"
      ],
      "outputs": [],
      "execution_count": 7,
      "metadata": {
        "id": "AUPACS7KRPvX",
        "gather": {
          "logged": 1606198554261
        }
      }
    },
    {
      "cell_type": "code",
      "source": [
        "def prepare_data(data):    \n",
        "    encoded_column=pd.get_dummies(data['ocean_proximity'], prefix='ocp')\n",
        "    data=data.join(encoded_column)\n",
        "    data=data.drop(\"ocean_proximity\", axis=1)\n",
        "\n",
        "    train, test = train_test_split(data, test_size=0.2, random_state=42)\n",
        "    return train, test\n",
        "\n",
        "train, test = prepare_data(data)\n",
        "type(train), type(test), train.shape, test.shape"
      ],
      "outputs": [
        {
          "output_type": "execute_result",
          "execution_count": 8,
          "data": {
            "text/plain": "(pandas.core.frame.DataFrame,\n pandas.core.frame.DataFrame,\n (16512, 14),\n (4128, 14))"
          },
          "metadata": {}
        }
      ],
      "execution_count": 8,
      "metadata": {
        "id": "bqAQjCSESW7I",
        "gather": {
          "logged": 1606198557399
        }
      }
    },
    {
      "cell_type": "code",
      "source": [
        "columns=train.columns\n",
        "train.to_csv(path_or_buf='trainset.csv', columns=columns, header=True, index=False) \n",
        "test.to_csv(path_or_buf='testset.csv', columns=columns, header=True, index=False)"
      ],
      "outputs": [],
      "execution_count": 9,
      "metadata": {
        "id": "SRLNnxw0S-P7",
        "gather": {
          "logged": 1606198563893
        }
      }
    },
    {
      "cell_type": "code",
      "source": [
        "datastore=ws.get_default_datastore() \n",
        "datastore.upload_files(['trainset.csv'])"
      ],
      "outputs": [
        {
          "output_type": "stream",
          "name": "stdout",
          "text": [
            "Uploading an estimated of 1 files\n",
            "Uploading trainset.csv\n",
            "Uploaded trainset.csv, 1 files out of an estimated total of 1\n",
            "Uploaded 1 files\n"
          ]
        },
        {
          "output_type": "execute_result",
          "execution_count": 10,
          "data": {
            "text/plain": "$AZUREML_DATAREFERENCE_workspaceblobstore"
          },
          "metadata": {}
        }
      ],
      "execution_count": 10,
      "metadata": {
        "id": "VnB10S9ES-aX",
        "gather": {
          "logged": 1606198567737
        }
      }
    },
    {
      "cell_type": "code",
      "source": [
        "train=TabularDatasetFactory.from_delimited_files([(datastore, 'trainset.csv')])\n",
        "\n",
        "datastore.upload_files(['testset.csv'])"
      ],
      "outputs": [
        {
          "output_type": "stream",
          "name": "stdout",
          "text": [
            "Uploading an estimated of 1 files\n",
            "Uploading testset.csv\n",
            "Uploaded testset.csv, 1 files out of an estimated total of 1\n",
            "Uploaded 1 files\n"
          ]
        },
        {
          "output_type": "execute_result",
          "execution_count": 11,
          "data": {
            "text/plain": "$AZUREML_DATAREFERENCE_workspaceblobstore"
          },
          "metadata": {}
        }
      ],
      "execution_count": 11,
      "metadata": {
        "id": "cHzbj8V9TL_q",
        "gather": {
          "logged": 1606198577826
        }
      }
    },
    {
      "cell_type": "code",
      "source": [
        "test=TabularDatasetFactory.from_delimited_files([(datastore, 'testset.csv')])"
      ],
      "outputs": [],
      "execution_count": 12,
      "metadata": {
        "id": "4Z2fiA3BTMJv",
        "gather": {
          "logged": 1606198581674
        }
      }
    },
    {
      "cell_type": "markdown",
      "source": [
        "## AutoML Configuration\n",
        "\n",
        "Since we are trying to predict a numeric value, in particular, \"median_house_values\", we have to define the task as \"regression\". Featurization is set to \"auto\" and we enable early stopping to avoid overfitting. We pass in our train and test sets and choose \"normalized_mean_absolute_error\" as the primary metric."
      ],
      "metadata": {
        "id": "bq6zzU7MQfAB"
      }
    },
    {
      "cell_type": "code",
      "source": [
        "azureml.train.automl.utilities.get_primary_metrics(\"regression\")"
      ],
      "outputs": [
        {
          "output_type": "execute_result",
          "execution_count": 13,
          "data": {
            "text/plain": "['normalized_root_mean_squared_error',\n 'normalized_mean_absolute_error',\n 'r2_score',\n 'spearman_correlation']"
          },
          "metadata": {}
        }
      ],
      "execution_count": 13,
      "metadata": {
        "collapsed": true,
        "jupyter": {
          "source_hidden": false,
          "outputs_hidden": false
        },
        "nteract": {
          "transient": {
            "deleting": false
          }
        },
        "gather": {
          "logged": 1606198585800
        }
      }
    },
    {
      "cell_type": "code",
      "source": [
        "# TODO: Put your automl settings here\n",
        "# TODO: Put your automl config here\n",
        "\n",
        "automl_setting={\n",
        "    \"featurization\": \"auto\",\n",
        "    \"experiment_timeout_minutes\": 30,\n",
        "    \"enable_early_stopping\": True,\n",
        "    \"verbosity\": logging.INFO,\n",
        "    \"compute_target\": compute_target\n",
        "}\n",
        "\n",
        "task=\"regression\" \n",
        "automl_config = AutoMLConfig( \n",
        "    task=task, \n",
        "    primary_metric='normalized_root_mean_squared_error', \n",
        "    training_data=train, \n",
        "    validation_data = test, \n",
        "    label_column_name='median_house_value', \n",
        "    **automl_setting\n",
        ")"
      ],
      "outputs": [],
      "execution_count": 14,
      "metadata": {
        "gather": {
          "logged": 1606198591814
        },
        "jupyter": {
          "outputs_hidden": false,
          "source_hidden": false
        },
        "nteract": {
          "transient": {
            "deleting": false
          }
        },
        "id": "Tq7z42nVQfAB"
      }
    },
    {
      "cell_type": "markdown",
      "source": [
        "## Submit Run & Run Details\r\n",
        "\r\n",
        "OPTIONAL: Write about the different models trained and their performance. Why do you think some models did better than others?\r\n",
        "\r\n",
        "TODO: In the cell below, use the `RunDetails` widget to show the different experiments."
      ],
      "metadata": {
        "nteract": {
          "transient": {
            "deleting": false
          }
        }
      }
    },
    {
      "cell_type": "code",
      "source": [
        "# TODO: Submit your experiment\n",
        "from azureml.widgets import RunDetails\n",
        "\n",
        "automl_run = experiment.submit(automl_config, show_output=True)\n",
        "\n",
        "RunDetails(automl_run).show()"
      ],
      "outputs": [
        {
          "output_type": "stream",
          "name": "stdout",
          "text": [
            "Running on remote.\n",
            "Running on remote compute: notebook127655\n",
            "Parent Run ID: AutoML_ab9d4fbb-757d-4bd6-bd50-644a4fe1ed05\n",
            "\n",
            "Current status: FeaturesGeneration. Generating features for the dataset.\n",
            "Current status: DatasetFeaturizationCompleted. Completed fit featurizers and featurizing the dataset.\n",
            "Current status: ModelSelection. Beginning model selection.\n",
            "\n",
            "****************************************************************************************************\n",
            "DATA GUARDRAILS: \n",
            "\n",
            "TYPE:         Missing feature values imputation\n",
            "STATUS:       PASSED\n",
            "DESCRIPTION:  No feature missing values were detected in the training data.\n",
            "              Learn more about missing value imputation: https://aka.ms/AutomatedMLFeaturization\n",
            "\n",
            "****************************************************************************************************\n",
            "\n",
            "TYPE:         High cardinality feature detection\n",
            "STATUS:       PASSED\n",
            "DESCRIPTION:  Your inputs were analyzed, and no high cardinality features were detected.\n",
            "              Learn more about high cardinality feature handling: https://aka.ms/AutomatedMLFeaturization\n",
            "\n",
            "****************************************************************************************************\n",
            "\n",
            "****************************************************************************************************\n",
            "ITERATION: The iteration being evaluated.\n",
            "PIPELINE: A summary description of the pipeline being evaluated.\n",
            "DURATION: Time taken for the current iteration.\n",
            "METRIC: The result of computing score on the fitted pipeline.\n",
            "BEST: The best observed score thus far.\n",
            "****************************************************************************************************\n",
            "\n",
            " ITERATION   PIPELINE                                       DURATION      METRIC      BEST\n",
            "         0   MaxAbsScaler LightGBM                          0:00:33       0.0993    0.0993\n",
            "         1   MaxAbsScaler XGBoostRegressor                  0:00:32       0.1157    0.0993\n",
            "         2   MaxAbsScaler DecisionTree                      0:00:30       0.1425    0.0993\n",
            "         3   MinMaxScaler DecisionTree                      0:00:24       0.1397    0.0993\n",
            "         4   StandardScalerWrapper LassoLars                0:00:32       0.1444    0.0993\n",
            "         5   RobustScaler ElasticNet                        0:00:28       0.1514    0.0993\n",
            "         6   StandardScalerWrapper LassoLars                0:00:28       0.1444    0.0993\n",
            "         7   RobustScaler ElasticNet                        0:00:31       0.1445    0.0993\n",
            "         8   RobustScaler DecisionTree                      0:00:32       0.1396    0.0993\n",
            "         9   MinMaxScaler DecisionTree                      0:00:36       0.1253    0.0993\n",
            "        10   RobustScaler DecisionTree                      0:00:29       0.1528    0.0993\n",
            "        11   MinMaxScaler DecisionTree                      0:00:29       0.1366    0.0993\n",
            "        12   StandardScalerWrapper DecisionTree             0:00:26       0.1459    0.0993\n",
            "        13   StandardScalerWrapper DecisionTree             0:00:31       0.1449    0.0993\n",
            "        14   RobustScaler DecisionTree                      0:00:26       0.1434    0.0993\n",
            "        15   RobustScaler ElasticNet                        0:00:30       0.1480    0.0993\n",
            "        16   StandardScalerWrapper DecisionTree             0:00:27       0.1333    0.0993\n",
            "        17   MinMaxScaler DecisionTree                      0:00:32       0.1417    0.0993\n",
            "        18   MinMaxScaler DecisionTree                      0:00:31       0.1536    0.0993\n",
            "        19   RobustScaler DecisionTree                      0:00:26       0.1359    0.0993\n",
            "        20   RobustScaler DecisionTree                      0:00:26       0.1478    0.0993\n",
            "        21   StandardScalerWrapper DecisionTree             0:00:34       0.1360    0.0993\n",
            "        22   StandardScalerWrapper DecisionTree             0:00:34       0.1275    0.0993\n",
            "        23   MinMaxScaler DecisionTree                      0:00:30       0.1365    0.0993\n",
            "        24   StandardScalerWrapper ExtremeRandomTrees       0:00:27       0.1707    0.0993\n",
            "        25   MinMaxScaler LightGBM                          0:00:33       0.1424    0.0993\n",
            "        26   MinMaxScaler DecisionTree                      0:00:31       0.1296    0.0993\n",
            "        27   MinMaxScaler DecisionTree                      0:00:24       0.1419    0.0993\n",
            "        28   StandardScalerWrapper RandomForest             0:00:30       0.1365    0.0993\n",
            "        29   StandardScalerWrapper DecisionTree             0:00:32       0.1480    0.0993\n",
            "        30    VotingEnsemble                                0:00:29       0.0993    0.0993\n",
            "        31    StackEnsemble                                 0:00:39       0.0994    0.0993\n"
          ]
        },
        {
          "output_type": "display_data",
          "data": {
            "text/plain": "_AutoMLWidget(widget_settings={'childWidgetDisplay': 'popup', 'send_telemetry': False, 'log_level': 'INFO', 's…",
            "application/vnd.jupyter.widget-view+json": {
              "version_major": 2,
              "version_minor": 0,
              "model_id": "af5d682a58864fff84f2bee11ceea5cf"
            }
          },
          "metadata": {}
        },
        {
          "output_type": "display_data",
          "data": {
            "application/aml.mini.widget.v1": "{\"status\": \"Completed\", \"workbench_run_details_uri\": \"https://ml.azure.com/experiments/automl_housing/runs/AutoML_ab9d4fbb-757d-4bd6-bd50-644a4fe1ed05?wsid=/subscriptions/fb968fd6-afa4-4fb2-8296-1d0120d715b4/resourcegroups/aml-quickstarts-127655/workspaces/quick-starts-ws-127655\", \"run_id\": \"AutoML_ab9d4fbb-757d-4bd6-bd50-644a4fe1ed05\", \"run_properties\": {\"run_id\": \"AutoML_ab9d4fbb-757d-4bd6-bd50-644a4fe1ed05\", \"created_utc\": \"2020-11-24T06:16:49.471663Z\", \"properties\": {\"num_iterations\": \"1000\", \"training_type\": \"TrainFull\", \"acquisition_function\": \"EI\", \"primary_metric\": \"normalized_root_mean_squared_error\", \"train_split\": \"0\", \"acquisition_parameter\": \"0\", \"num_cross_validation\": null, \"target\": \"notebook127655\", \"AMLSettingsJsonString\": \"{\\\"path\\\":null,\\\"name\\\":\\\"automl_housing\\\",\\\"subscription_id\\\":\\\"fb968fd6-afa4-4fb2-8296-1d0120d715b4\\\",\\\"resource_group\\\":\\\"aml-quickstarts-127655\\\",\\\"workspace_name\\\":\\\"quick-starts-ws-127655\\\",\\\"region\\\":\\\"southcentralus\\\",\\\"compute_target\\\":\\\"notebook127655\\\",\\\"spark_service\\\":null,\\\"azure_service\\\":\\\"remote\\\",\\\"_local_managed_run_id\\\":null,\\\"many_models\\\":false,\\\"pipeline_fetch_max_batch_size\\\":1,\\\"iterations\\\":1000,\\\"primary_metric\\\":\\\"normalized_root_mean_squared_error\\\",\\\"task_type\\\":\\\"regression\\\",\\\"data_script\\\":null,\\\"validation_size\\\":0.0,\\\"n_cross_validations\\\":null,\\\"y_min\\\":null,\\\"y_max\\\":null,\\\"num_classes\\\":null,\\\"featurization\\\":\\\"auto\\\",\\\"_ignore_package_version_incompatibilities\\\":false,\\\"is_timeseries\\\":false,\\\"max_cores_per_iteration\\\":1,\\\"max_concurrent_iterations\\\":1,\\\"iteration_timeout_minutes\\\":null,\\\"mem_in_mb\\\":null,\\\"enforce_time_on_windows\\\":false,\\\"experiment_timeout_minutes\\\":30,\\\"experiment_exit_score\\\":null,\\\"whitelist_models\\\":null,\\\"blacklist_algos\\\":[\\\"TensorFlowDNN\\\",\\\"TensorFlowLinearRegressor\\\"],\\\"supported_models\\\":[\\\"FastLinearRegressor\\\",\\\"KNN\\\",\\\"RandomForest\\\",\\\"ElasticNet\\\",\\\"XGBoostRegressor\\\",\\\"DecisionTree\\\",\\\"GradientBoosting\\\",\\\"LassoLars\\\",\\\"LightGBM\\\",\\\"OnlineGradientDescentRegressor\\\",\\\"ExtremeRandomTrees\\\",\\\"TensorFlowLinearRegressor\\\",\\\"TensorFlowDNN\\\",\\\"SGD\\\"],\\\"auto_blacklist\\\":true,\\\"blacklist_samples_reached\\\":false,\\\"exclude_nan_labels\\\":true,\\\"verbosity\\\":20,\\\"_debug_log\\\":\\\"azureml_automl.log\\\",\\\"show_warnings\\\":false,\\\"model_explainability\\\":true,\\\"service_url\\\":null,\\\"sdk_url\\\":null,\\\"sdk_packages\\\":null,\\\"enable_onnx_compatible_models\\\":false,\\\"enable_split_onnx_featurizer_estimator_models\\\":false,\\\"vm_type\\\":\\\"STANDARD_DS3_V2\\\",\\\"telemetry_verbosity\\\":20,\\\"send_telemetry\\\":true,\\\"enable_dnn\\\":false,\\\"scenario\\\":\\\"SDK-1.13.0\\\",\\\"environment_label\\\":null,\\\"force_text_dnn\\\":false,\\\"enable_feature_sweeping\\\":true,\\\"enable_early_stopping\\\":true,\\\"early_stopping_n_iters\\\":10,\\\"metrics\\\":null,\\\"enable_ensembling\\\":true,\\\"enable_stack_ensembling\\\":true,\\\"ensemble_iterations\\\":15,\\\"enable_tf\\\":false,\\\"enable_subsampling\\\":null,\\\"subsample_seed\\\":null,\\\"enable_nimbusml\\\":false,\\\"enable_streaming\\\":false,\\\"force_streaming\\\":false,\\\"track_child_runs\\\":true,\\\"allowed_private_models\\\":[],\\\"label_column_name\\\":\\\"median_house_value\\\",\\\"weight_column_name\\\":null,\\\"cv_split_column_names\\\":null,\\\"enable_local_managed\\\":false,\\\"cost_mode\\\":1,\\\"lag_length\\\":0,\\\"metric_operation\\\":\\\"minimize\\\",\\\"preprocess\\\":true}\", \"DataPrepJsonString\": \"{\\\\\\\"training_data\\\\\\\": \\\\\\\"{\\\\\\\\\\\\\\\"blocks\\\\\\\\\\\\\\\": [{\\\\\\\\\\\\\\\"id\\\\\\\\\\\\\\\": \\\\\\\\\\\\\\\"ad68fa4c-6179-4e2d-8088-1c8d9020a962\\\\\\\\\\\\\\\", \\\\\\\\\\\\\\\"type\\\\\\\\\\\\\\\": \\\\\\\\\\\\\\\"Microsoft.DPrep.GetDatastoreFilesBlock\\\\\\\\\\\\\\\", \\\\\\\\\\\\\\\"arguments\\\\\\\\\\\\\\\": {\\\\\\\\\\\\\\\"datastores\\\\\\\\\\\\\\\": [{\\\\\\\\\\\\\\\"datastoreName\\\\\\\\\\\\\\\": \\\\\\\\\\\\\\\"workspaceblobstore\\\\\\\\\\\\\\\", \\\\\\\\\\\\\\\"path\\\\\\\\\\\\\\\": \\\\\\\\\\\\\\\"trainset.csv\\\\\\\\\\\\\\\", \\\\\\\\\\\\\\\"resourceGroup\\\\\\\\\\\\\\\": \\\\\\\\\\\\\\\"aml-quickstarts-127655\\\\\\\\\\\\\\\", \\\\\\\\\\\\\\\"subscription\\\\\\\\\\\\\\\": \\\\\\\\\\\\\\\"fb968fd6-afa4-4fb2-8296-1d0120d715b4\\\\\\\\\\\\\\\", \\\\\\\\\\\\\\\"workspaceName\\\\\\\\\\\\\\\": \\\\\\\\\\\\\\\"quick-starts-ws-127655\\\\\\\\\\\\\\\"}]}, \\\\\\\\\\\\\\\"localData\\\\\\\\\\\\\\\": {}, \\\\\\\\\\\\\\\"isEnabled\\\\\\\\\\\\\\\": true, \\\\\\\\\\\\\\\"name\\\\\\\\\\\\\\\": null, \\\\\\\\\\\\\\\"annotation\\\\\\\\\\\\\\\": null}, {\\\\\\\\\\\\\\\"id\\\\\\\\\\\\\\\": \\\\\\\\\\\\\\\"e0b2b123-28c5-4fc6-9ca6-808ad0c728f2\\\\\\\\\\\\\\\", \\\\\\\\\\\\\\\"type\\\\\\\\\\\\\\\": \\\\\\\\\\\\\\\"Microsoft.DPrep.ParseDelimitedBlock\\\\\\\\\\\\\\\", \\\\\\\\\\\\\\\"arguments\\\\\\\\\\\\\\\": {\\\\\\\\\\\\\\\"columnHeadersMode\\\\\\\\\\\\\\\": 3, \\\\\\\\\\\\\\\"fileEncoding\\\\\\\\\\\\\\\": 0, \\\\\\\\\\\\\\\"handleQuotedLineBreaks\\\\\\\\\\\\\\\": false, \\\\\\\\\\\\\\\"preview\\\\\\\\\\\\\\\": false, \\\\\\\\\\\\\\\"separator\\\\\\\\\\\\\\\": \\\\\\\\\\\\\\\",\\\\\\\\\\\\\\\", \\\\\\\\\\\\\\\"skipRows\\\\\\\\\\\\\\\": 0, \\\\\\\\\\\\\\\"skipRowsMode\\\\\\\\\\\\\\\": 0}, \\\\\\\\\\\\\\\"localData\\\\\\\\\\\\\\\": {}, \\\\\\\\\\\\\\\"isEnabled\\\\\\\\\\\\\\\": true, \\\\\\\\\\\\\\\"name\\\\\\\\\\\\\\\": null, \\\\\\\\\\\\\\\"annotation\\\\\\\\\\\\\\\": null}, {\\\\\\\\\\\\\\\"id\\\\\\\\\\\\\\\": \\\\\\\\\\\\\\\"2d9ae195-4be3-4649-ad9d-3bd7980ec30f\\\\\\\\\\\\\\\", \\\\\\\\\\\\\\\"type\\\\\\\\\\\\\\\": \\\\\\\\\\\\\\\"Microsoft.DPrep.DropColumnsBlock\\\\\\\\\\\\\\\", \\\\\\\\\\\\\\\"arguments\\\\\\\\\\\\\\\": {\\\\\\\\\\\\\\\"columns\\\\\\\\\\\\\\\": {\\\\\\\\\\\\\\\"type\\\\\\\\\\\\\\\": 0, \\\\\\\\\\\\\\\"details\\\\\\\\\\\\\\\": {\\\\\\\\\\\\\\\"selectedColumns\\\\\\\\\\\\\\\": [\\\\\\\\\\\\\\\"Path\\\\\\\\\\\\\\\"]}}}, \\\\\\\\\\\\\\\"localData\\\\\\\\\\\\\\\": {}, \\\\\\\\\\\\\\\"isEnabled\\\\\\\\\\\\\\\": true, \\\\\\\\\\\\\\\"name\\\\\\\\\\\\\\\": null, \\\\\\\\\\\\\\\"annotation\\\\\\\\\\\\\\\": null}, {\\\\\\\\\\\\\\\"id\\\\\\\\\\\\\\\": \\\\\\\\\\\\\\\"0595e091-17eb-4be3-a38b-ca73b34af940\\\\\\\\\\\\\\\", \\\\\\\\\\\\\\\"type\\\\\\\\\\\\\\\": \\\\\\\\\\\\\\\"Microsoft.DPrep.SetColumnTypesBlock\\\\\\\\\\\\\\\", \\\\\\\\\\\\\\\"arguments\\\\\\\\\\\\\\\": {\\\\\\\\\\\\\\\"columnConversion\\\\\\\\\\\\\\\": [{\\\\\\\\\\\\\\\"column\\\\\\\\\\\\\\\": {\\\\\\\\\\\\\\\"type\\\\\\\\\\\\\\\": 2, \\\\\\\\\\\\\\\"details\\\\\\\\\\\\\\\": {\\\\\\\\\\\\\\\"selectedColumn\\\\\\\\\\\\\\\": \\\\\\\\\\\\\\\"longitude\\\\\\\\\\\\\\\"}}, \\\\\\\\\\\\\\\"typeProperty\\\\\\\\\\\\\\\": 3}, {\\\\\\\\\\\\\\\"column\\\\\\\\\\\\\\\": {\\\\\\\\\\\\\\\"type\\\\\\\\\\\\\\\": 2, \\\\\\\\\\\\\\\"details\\\\\\\\\\\\\\\": {\\\\\\\\\\\\\\\"selectedColumn\\\\\\\\\\\\\\\": \\\\\\\\\\\\\\\"latitude\\\\\\\\\\\\\\\"}}, \\\\\\\\\\\\\\\"typeProperty\\\\\\\\\\\\\\\": 3}, {\\\\\\\\\\\\\\\"column\\\\\\\\\\\\\\\": {\\\\\\\\\\\\\\\"type\\\\\\\\\\\\\\\": 2, \\\\\\\\\\\\\\\"details\\\\\\\\\\\\\\\": {\\\\\\\\\\\\\\\"selectedColumn\\\\\\\\\\\\\\\": \\\\\\\\\\\\\\\"housing_median_age\\\\\\\\\\\\\\\"}}, \\\\\\\\\\\\\\\"typeProperty\\\\\\\\\\\\\\\": 3}, {\\\\\\\\\\\\\\\"column\\\\\\\\\\\\\\\": {\\\\\\\\\\\\\\\"type\\\\\\\\\\\\\\\": 2, \\\\\\\\\\\\\\\"details\\\\\\\\\\\\\\\": {\\\\\\\\\\\\\\\"selectedColumn\\\\\\\\\\\\\\\": \\\\\\\\\\\\\\\"total_rooms\\\\\\\\\\\\\\\"}}, \\\\\\\\\\\\\\\"typeProperty\\\\\\\\\\\\\\\": 3}, {\\\\\\\\\\\\\\\"column\\\\\\\\\\\\\\\": {\\\\\\\\\\\\\\\"type\\\\\\\\\\\\\\\": 2, \\\\\\\\\\\\\\\"details\\\\\\\\\\\\\\\": {\\\\\\\\\\\\\\\"selectedColumn\\\\\\\\\\\\\\\": \\\\\\\\\\\\\\\"total_bedrooms\\\\\\\\\\\\\\\"}}, \\\\\\\\\\\\\\\"typeProperty\\\\\\\\\\\\\\\": 3}, {\\\\\\\\\\\\\\\"column\\\\\\\\\\\\\\\": {\\\\\\\\\\\\\\\"type\\\\\\\\\\\\\\\": 2, \\\\\\\\\\\\\\\"details\\\\\\\\\\\\\\\": {\\\\\\\\\\\\\\\"selectedColumn\\\\\\\\\\\\\\\": \\\\\\\\\\\\\\\"population\\\\\\\\\\\\\\\"}}, \\\\\\\\\\\\\\\"typeProperty\\\\\\\\\\\\\\\": 3}, {\\\\\\\\\\\\\\\"column\\\\\\\\\\\\\\\": {\\\\\\\\\\\\\\\"type\\\\\\\\\\\\\\\": 2, \\\\\\\\\\\\\\\"details\\\\\\\\\\\\\\\": {\\\\\\\\\\\\\\\"selectedColumn\\\\\\\\\\\\\\\": \\\\\\\\\\\\\\\"households\\\\\\\\\\\\\\\"}}, \\\\\\\\\\\\\\\"typeProperty\\\\\\\\\\\\\\\": 3}, {\\\\\\\\\\\\\\\"column\\\\\\\\\\\\\\\": {\\\\\\\\\\\\\\\"type\\\\\\\\\\\\\\\": 2, \\\\\\\\\\\\\\\"details\\\\\\\\\\\\\\\": {\\\\\\\\\\\\\\\"selectedColumn\\\\\\\\\\\\\\\": \\\\\\\\\\\\\\\"median_income\\\\\\\\\\\\\\\"}}, \\\\\\\\\\\\\\\"typeProperty\\\\\\\\\\\\\\\": 3}, {\\\\\\\\\\\\\\\"column\\\\\\\\\\\\\\\": {\\\\\\\\\\\\\\\"type\\\\\\\\\\\\\\\": 2, \\\\\\\\\\\\\\\"details\\\\\\\\\\\\\\\": {\\\\\\\\\\\\\\\"selectedColumn\\\\\\\\\\\\\\\": \\\\\\\\\\\\\\\"median_house_value\\\\\\\\\\\\\\\"}}, \\\\\\\\\\\\\\\"typeProperty\\\\\\\\\\\\\\\": 3}, {\\\\\\\\\\\\\\\"column\\\\\\\\\\\\\\\": {\\\\\\\\\\\\\\\"type\\\\\\\\\\\\\\\": 2, \\\\\\\\\\\\\\\"details\\\\\\\\\\\\\\\": {\\\\\\\\\\\\\\\"selectedColumn\\\\\\\\\\\\\\\": \\\\\\\\\\\\\\\"ocp_<1H OCEAN\\\\\\\\\\\\\\\"}}, \\\\\\\\\\\\\\\"typeProperty\\\\\\\\\\\\\\\": 2}, {\\\\\\\\\\\\\\\"column\\\\\\\\\\\\\\\": {\\\\\\\\\\\\\\\"type\\\\\\\\\\\\\\\": 2, \\\\\\\\\\\\\\\"details\\\\\\\\\\\\\\\": {\\\\\\\\\\\\\\\"selectedColumn\\\\\\\\\\\\\\\": \\\\\\\\\\\\\\\"ocp_INLAND\\\\\\\\\\\\\\\"}}, \\\\\\\\\\\\\\\"typeProperty\\\\\\\\\\\\\\\": 2}, {\\\\\\\\\\\\\\\"column\\\\\\\\\\\\\\\": {\\\\\\\\\\\\\\\"type\\\\\\\\\\\\\\\": 2, \\\\\\\\\\\\\\\"details\\\\\\\\\\\\\\\": {\\\\\\\\\\\\\\\"selectedColumn\\\\\\\\\\\\\\\": \\\\\\\\\\\\\\\"ocp_ISLAND\\\\\\\\\\\\\\\"}}, \\\\\\\\\\\\\\\"typeProperty\\\\\\\\\\\\\\\": 2}, {\\\\\\\\\\\\\\\"column\\\\\\\\\\\\\\\": {\\\\\\\\\\\\\\\"type\\\\\\\\\\\\\\\": 2, \\\\\\\\\\\\\\\"details\\\\\\\\\\\\\\\": {\\\\\\\\\\\\\\\"selectedColumn\\\\\\\\\\\\\\\": \\\\\\\\\\\\\\\"ocp_NEAR BAY\\\\\\\\\\\\\\\"}}, \\\\\\\\\\\\\\\"typeProperty\\\\\\\\\\\\\\\": 2}, {\\\\\\\\\\\\\\\"column\\\\\\\\\\\\\\\": {\\\\\\\\\\\\\\\"type\\\\\\\\\\\\\\\": 2, \\\\\\\\\\\\\\\"details\\\\\\\\\\\\\\\": {\\\\\\\\\\\\\\\"selectedColumn\\\\\\\\\\\\\\\": \\\\\\\\\\\\\\\"ocp_NEAR OCEAN\\\\\\\\\\\\\\\"}}, \\\\\\\\\\\\\\\"typeProperty\\\\\\\\\\\\\\\": 2}]}, \\\\\\\\\\\\\\\"localData\\\\\\\\\\\\\\\": {}, \\\\\\\\\\\\\\\"isEnabled\\\\\\\\\\\\\\\": true, \\\\\\\\\\\\\\\"name\\\\\\\\\\\\\\\": null, \\\\\\\\\\\\\\\"annotation\\\\\\\\\\\\\\\": null}], \\\\\\\\\\\\\\\"inspectors\\\\\\\\\\\\\\\": [], \\\\\\\\\\\\\\\"meta\\\\\\\\\\\\\\\": {\\\\\\\\\\\\\\\"savedDatasetId\\\\\\\\\\\\\\\": \\\\\\\\\\\\\\\"bac9b40d-f3d4-46f1-97c6-305561a98b67\\\\\\\\\\\\\\\", \\\\\\\\\\\\\\\"datasetType\\\\\\\\\\\\\\\": \\\\\\\\\\\\\\\"tabular\\\\\\\\\\\\\\\", \\\\\\\\\\\\\\\"subscriptionId\\\\\\\\\\\\\\\": \\\\\\\\\\\\\\\"fb968fd6-afa4-4fb2-8296-1d0120d715b4\\\\\\\\\\\\\\\", \\\\\\\\\\\\\\\"workspaceId\\\\\\\\\\\\\\\": \\\\\\\\\\\\\\\"87db0648-5721-45db-aab0-1b36a45128d2\\\\\\\\\\\\\\\", \\\\\\\\\\\\\\\"workspaceLocation\\\\\\\\\\\\\\\": \\\\\\\\\\\\\\\"southcentralus\\\\\\\\\\\\\\\"}}\\\\\\\", \\\\\\\"validation_data\\\\\\\": \\\\\\\"{\\\\\\\\\\\\\\\"blocks\\\\\\\\\\\\\\\": [{\\\\\\\\\\\\\\\"id\\\\\\\\\\\\\\\": \\\\\\\\\\\\\\\"b4aac5c8-a78c-49a4-b70c-0da4d35a0f05\\\\\\\\\\\\\\\", \\\\\\\\\\\\\\\"type\\\\\\\\\\\\\\\": \\\\\\\\\\\\\\\"Microsoft.DPrep.GetDatastoreFilesBlock\\\\\\\\\\\\\\\", \\\\\\\\\\\\\\\"arguments\\\\\\\\\\\\\\\": {\\\\\\\\\\\\\\\"datastores\\\\\\\\\\\\\\\": [{\\\\\\\\\\\\\\\"datastoreName\\\\\\\\\\\\\\\": \\\\\\\\\\\\\\\"workspaceblobstore\\\\\\\\\\\\\\\", \\\\\\\\\\\\\\\"path\\\\\\\\\\\\\\\": \\\\\\\\\\\\\\\"testset.csv\\\\\\\\\\\\\\\", \\\\\\\\\\\\\\\"resourceGroup\\\\\\\\\\\\\\\": \\\\\\\\\\\\\\\"aml-quickstarts-127655\\\\\\\\\\\\\\\", \\\\\\\\\\\\\\\"subscription\\\\\\\\\\\\\\\": \\\\\\\\\\\\\\\"fb968fd6-afa4-4fb2-8296-1d0120d715b4\\\\\\\\\\\\\\\", \\\\\\\\\\\\\\\"workspaceName\\\\\\\\\\\\\\\": \\\\\\\\\\\\\\\"quick-starts-ws-127655\\\\\\\\\\\\\\\"}]}, \\\\\\\\\\\\\\\"localData\\\\\\\\\\\\\\\": {}, \\\\\\\\\\\\\\\"isEnabled\\\\\\\\\\\\\\\": true, \\\\\\\\\\\\\\\"name\\\\\\\\\\\\\\\": null, \\\\\\\\\\\\\\\"annotation\\\\\\\\\\\\\\\": null}, {\\\\\\\\\\\\\\\"id\\\\\\\\\\\\\\\": \\\\\\\\\\\\\\\"d6a9ebea-ac3d-4b25-bc2d-56f0ec4f5e34\\\\\\\\\\\\\\\", \\\\\\\\\\\\\\\"type\\\\\\\\\\\\\\\": \\\\\\\\\\\\\\\"Microsoft.DPrep.ParseDelimitedBlock\\\\\\\\\\\\\\\", \\\\\\\\\\\\\\\"arguments\\\\\\\\\\\\\\\": {\\\\\\\\\\\\\\\"columnHeadersMode\\\\\\\\\\\\\\\": 3, \\\\\\\\\\\\\\\"fileEncoding\\\\\\\\\\\\\\\": 0, \\\\\\\\\\\\\\\"handleQuotedLineBreaks\\\\\\\\\\\\\\\": false, \\\\\\\\\\\\\\\"preview\\\\\\\\\\\\\\\": false, \\\\\\\\\\\\\\\"separator\\\\\\\\\\\\\\\": \\\\\\\\\\\\\\\",\\\\\\\\\\\\\\\", \\\\\\\\\\\\\\\"skipRows\\\\\\\\\\\\\\\": 0, \\\\\\\\\\\\\\\"skipRowsMode\\\\\\\\\\\\\\\": 0}, \\\\\\\\\\\\\\\"localData\\\\\\\\\\\\\\\": {}, \\\\\\\\\\\\\\\"isEnabled\\\\\\\\\\\\\\\": true, \\\\\\\\\\\\\\\"name\\\\\\\\\\\\\\\": null, \\\\\\\\\\\\\\\"annotation\\\\\\\\\\\\\\\": null}, {\\\\\\\\\\\\\\\"id\\\\\\\\\\\\\\\": \\\\\\\\\\\\\\\"75a55a14-e4c0-400a-ba6c-0f78ac8334b1\\\\\\\\\\\\\\\", \\\\\\\\\\\\\\\"type\\\\\\\\\\\\\\\": \\\\\\\\\\\\\\\"Microsoft.DPrep.DropColumnsBlock\\\\\\\\\\\\\\\", \\\\\\\\\\\\\\\"arguments\\\\\\\\\\\\\\\": {\\\\\\\\\\\\\\\"columns\\\\\\\\\\\\\\\": {\\\\\\\\\\\\\\\"type\\\\\\\\\\\\\\\": 0, \\\\\\\\\\\\\\\"details\\\\\\\\\\\\\\\": {\\\\\\\\\\\\\\\"selectedColumns\\\\\\\\\\\\\\\": [\\\\\\\\\\\\\\\"Path\\\\\\\\\\\\\\\"]}}}, \\\\\\\\\\\\\\\"localData\\\\\\\\\\\\\\\": {}, \\\\\\\\\\\\\\\"isEnabled\\\\\\\\\\\\\\\": true, \\\\\\\\\\\\\\\"name\\\\\\\\\\\\\\\": null, \\\\\\\\\\\\\\\"annotation\\\\\\\\\\\\\\\": null}, {\\\\\\\\\\\\\\\"id\\\\\\\\\\\\\\\": \\\\\\\\\\\\\\\"3e9c2ae0-3387-4777-9fae-75fc34fc5731\\\\\\\\\\\\\\\", \\\\\\\\\\\\\\\"type\\\\\\\\\\\\\\\": \\\\\\\\\\\\\\\"Microsoft.DPrep.SetColumnTypesBlock\\\\\\\\\\\\\\\", \\\\\\\\\\\\\\\"arguments\\\\\\\\\\\\\\\": {\\\\\\\\\\\\\\\"columnConversion\\\\\\\\\\\\\\\": [{\\\\\\\\\\\\\\\"column\\\\\\\\\\\\\\\": {\\\\\\\\\\\\\\\"type\\\\\\\\\\\\\\\": 2, \\\\\\\\\\\\\\\"details\\\\\\\\\\\\\\\": {\\\\\\\\\\\\\\\"selectedColumn\\\\\\\\\\\\\\\": \\\\\\\\\\\\\\\"longitude\\\\\\\\\\\\\\\"}}, \\\\\\\\\\\\\\\"typeProperty\\\\\\\\\\\\\\\": 3}, {\\\\\\\\\\\\\\\"column\\\\\\\\\\\\\\\": {\\\\\\\\\\\\\\\"type\\\\\\\\\\\\\\\": 2, \\\\\\\\\\\\\\\"details\\\\\\\\\\\\\\\": {\\\\\\\\\\\\\\\"selectedColumn\\\\\\\\\\\\\\\": \\\\\\\\\\\\\\\"latitude\\\\\\\\\\\\\\\"}}, \\\\\\\\\\\\\\\"typeProperty\\\\\\\\\\\\\\\": 3}, {\\\\\\\\\\\\\\\"column\\\\\\\\\\\\\\\": {\\\\\\\\\\\\\\\"type\\\\\\\\\\\\\\\": 2, \\\\\\\\\\\\\\\"details\\\\\\\\\\\\\\\": {\\\\\\\\\\\\\\\"selectedColumn\\\\\\\\\\\\\\\": \\\\\\\\\\\\\\\"housing_median_age\\\\\\\\\\\\\\\"}}, \\\\\\\\\\\\\\\"typeProperty\\\\\\\\\\\\\\\": 3}, {\\\\\\\\\\\\\\\"column\\\\\\\\\\\\\\\": {\\\\\\\\\\\\\\\"type\\\\\\\\\\\\\\\": 2, \\\\\\\\\\\\\\\"details\\\\\\\\\\\\\\\": {\\\\\\\\\\\\\\\"selectedColumn\\\\\\\\\\\\\\\": \\\\\\\\\\\\\\\"total_rooms\\\\\\\\\\\\\\\"}}, \\\\\\\\\\\\\\\"typeProperty\\\\\\\\\\\\\\\": 3}, {\\\\\\\\\\\\\\\"column\\\\\\\\\\\\\\\": {\\\\\\\\\\\\\\\"type\\\\\\\\\\\\\\\": 2, \\\\\\\\\\\\\\\"details\\\\\\\\\\\\\\\": {\\\\\\\\\\\\\\\"selectedColumn\\\\\\\\\\\\\\\": \\\\\\\\\\\\\\\"total_bedrooms\\\\\\\\\\\\\\\"}}, \\\\\\\\\\\\\\\"typeProperty\\\\\\\\\\\\\\\": 0}, {\\\\\\\\\\\\\\\"column\\\\\\\\\\\\\\\": {\\\\\\\\\\\\\\\"type\\\\\\\\\\\\\\\": 2, \\\\\\\\\\\\\\\"details\\\\\\\\\\\\\\\": {\\\\\\\\\\\\\\\"selectedColumn\\\\\\\\\\\\\\\": \\\\\\\\\\\\\\\"population\\\\\\\\\\\\\\\"}}, \\\\\\\\\\\\\\\"typeProperty\\\\\\\\\\\\\\\": 3}, {\\\\\\\\\\\\\\\"column\\\\\\\\\\\\\\\": {\\\\\\\\\\\\\\\"type\\\\\\\\\\\\\\\": 2, \\\\\\\\\\\\\\\"details\\\\\\\\\\\\\\\": {\\\\\\\\\\\\\\\"selectedColumn\\\\\\\\\\\\\\\": \\\\\\\\\\\\\\\"households\\\\\\\\\\\\\\\"}}, \\\\\\\\\\\\\\\"typeProperty\\\\\\\\\\\\\\\": 3}, {\\\\\\\\\\\\\\\"column\\\\\\\\\\\\\\\": {\\\\\\\\\\\\\\\"type\\\\\\\\\\\\\\\": 2, \\\\\\\\\\\\\\\"details\\\\\\\\\\\\\\\": {\\\\\\\\\\\\\\\"selectedColumn\\\\\\\\\\\\\\\": \\\\\\\\\\\\\\\"median_income\\\\\\\\\\\\\\\"}}, \\\\\\\\\\\\\\\"typeProperty\\\\\\\\\\\\\\\": 3}, {\\\\\\\\\\\\\\\"column\\\\\\\\\\\\\\\": {\\\\\\\\\\\\\\\"type\\\\\\\\\\\\\\\": 2, \\\\\\\\\\\\\\\"details\\\\\\\\\\\\\\\": {\\\\\\\\\\\\\\\"selectedColumn\\\\\\\\\\\\\\\": \\\\\\\\\\\\\\\"median_house_value\\\\\\\\\\\\\\\"}}, \\\\\\\\\\\\\\\"typeProperty\\\\\\\\\\\\\\\": 3}, {\\\\\\\\\\\\\\\"column\\\\\\\\\\\\\\\": {\\\\\\\\\\\\\\\"type\\\\\\\\\\\\\\\": 2, \\\\\\\\\\\\\\\"details\\\\\\\\\\\\\\\": {\\\\\\\\\\\\\\\"selectedColumn\\\\\\\\\\\\\\\": \\\\\\\\\\\\\\\"ocp_<1H OCEAN\\\\\\\\\\\\\\\"}}, \\\\\\\\\\\\\\\"typeProperty\\\\\\\\\\\\\\\": 2}, {\\\\\\\\\\\\\\\"column\\\\\\\\\\\\\\\": {\\\\\\\\\\\\\\\"type\\\\\\\\\\\\\\\": 2, \\\\\\\\\\\\\\\"details\\\\\\\\\\\\\\\": {\\\\\\\\\\\\\\\"selectedColumn\\\\\\\\\\\\\\\": \\\\\\\\\\\\\\\"ocp_INLAND\\\\\\\\\\\\\\\"}}, \\\\\\\\\\\\\\\"typeProperty\\\\\\\\\\\\\\\": 2}, {\\\\\\\\\\\\\\\"column\\\\\\\\\\\\\\\": {\\\\\\\\\\\\\\\"type\\\\\\\\\\\\\\\": 2, \\\\\\\\\\\\\\\"details\\\\\\\\\\\\\\\": {\\\\\\\\\\\\\\\"selectedColumn\\\\\\\\\\\\\\\": \\\\\\\\\\\\\\\"ocp_ISLAND\\\\\\\\\\\\\\\"}}, \\\\\\\\\\\\\\\"typeProperty\\\\\\\\\\\\\\\": 2}, {\\\\\\\\\\\\\\\"column\\\\\\\\\\\\\\\": {\\\\\\\\\\\\\\\"type\\\\\\\\\\\\\\\": 2, \\\\\\\\\\\\\\\"details\\\\\\\\\\\\\\\": {\\\\\\\\\\\\\\\"selectedColumn\\\\\\\\\\\\\\\": \\\\\\\\\\\\\\\"ocp_NEAR BAY\\\\\\\\\\\\\\\"}}, \\\\\\\\\\\\\\\"typeProperty\\\\\\\\\\\\\\\": 2}, {\\\\\\\\\\\\\\\"column\\\\\\\\\\\\\\\": {\\\\\\\\\\\\\\\"type\\\\\\\\\\\\\\\": 2, \\\\\\\\\\\\\\\"details\\\\\\\\\\\\\\\": {\\\\\\\\\\\\\\\"selectedColumn\\\\\\\\\\\\\\\": \\\\\\\\\\\\\\\"ocp_NEAR OCEAN\\\\\\\\\\\\\\\"}}, \\\\\\\\\\\\\\\"typeProperty\\\\\\\\\\\\\\\": 2}]}, \\\\\\\\\\\\\\\"localData\\\\\\\\\\\\\\\": {}, \\\\\\\\\\\\\\\"isEnabled\\\\\\\\\\\\\\\": true, \\\\\\\\\\\\\\\"name\\\\\\\\\\\\\\\": null, \\\\\\\\\\\\\\\"annotation\\\\\\\\\\\\\\\": null}], \\\\\\\\\\\\\\\"inspectors\\\\\\\\\\\\\\\": [], \\\\\\\\\\\\\\\"meta\\\\\\\\\\\\\\\": {\\\\\\\\\\\\\\\"savedDatasetId\\\\\\\\\\\\\\\": \\\\\\\\\\\\\\\"27b9bc9c-e951-4ba6-9880-7891e4a9a5b9\\\\\\\\\\\\\\\", \\\\\\\\\\\\\\\"datasetType\\\\\\\\\\\\\\\": \\\\\\\\\\\\\\\"tabular\\\\\\\\\\\\\\\", \\\\\\\\\\\\\\\"subscriptionId\\\\\\\\\\\\\\\": \\\\\\\\\\\\\\\"fb968fd6-afa4-4fb2-8296-1d0120d715b4\\\\\\\\\\\\\\\", \\\\\\\\\\\\\\\"workspaceId\\\\\\\\\\\\\\\": \\\\\\\\\\\\\\\"87db0648-5721-45db-aab0-1b36a45128d2\\\\\\\\\\\\\\\", \\\\\\\\\\\\\\\"workspaceLocation\\\\\\\\\\\\\\\": \\\\\\\\\\\\\\\"southcentralus\\\\\\\\\\\\\\\"}}\\\\\\\", \\\\\\\"activities\\\\\\\": 0}\", \"EnableSubsampling\": null, \"runTemplate\": \"AutoML\", \"azureml.runsource\": \"automl\", \"display_task_type\": \"regression\", \"dependencies_versions\": \"{\\\"azureml-widgets\\\": \\\"1.18.0\\\", \\\"azureml-train\\\": \\\"1.18.0\\\", \\\"azureml-train-restclients-hyperdrive\\\": \\\"1.18.0\\\", \\\"azureml-train-core\\\": \\\"1.18.0\\\", \\\"azureml-train-automl\\\": \\\"1.18.0\\\", \\\"azureml-train-automl-runtime\\\": \\\"1.18.0\\\", \\\"azureml-train-automl-client\\\": \\\"1.18.0\\\", \\\"azureml-tensorboard\\\": \\\"1.18.0\\\", \\\"azureml-telemetry\\\": \\\"1.18.0\\\", \\\"azureml-sdk\\\": \\\"1.18.0\\\", \\\"azureml-samples\\\": \\\"0+unknown\\\", \\\"azureml-pipeline\\\": \\\"1.18.0\\\", \\\"azureml-pipeline-steps\\\": \\\"1.18.0\\\", \\\"azureml-pipeline-core\\\": \\\"1.18.0\\\", \\\"azureml-opendatasets\\\": \\\"1.18.0\\\", \\\"azureml-model-management-sdk\\\": \\\"1.0.1b6.post1\\\", \\\"azureml-mlflow\\\": \\\"1.18.0\\\", \\\"azureml-interpret\\\": \\\"1.18.0\\\", \\\"azureml-explain-model\\\": \\\"1.18.0\\\", \\\"azureml-defaults\\\": \\\"1.18.0\\\", \\\"azureml-dataset-runtime\\\": \\\"1.18.0\\\", \\\"azureml-dataprep\\\": \\\"2.4.2\\\", \\\"azureml-dataprep-rslex\\\": \\\"1.2.2\\\", \\\"azureml-dataprep-native\\\": \\\"24.0.0\\\", \\\"azureml-datadrift\\\": \\\"1.18.0\\\", \\\"azureml-core\\\": \\\"1.18.0\\\", \\\"azureml-contrib-services\\\": \\\"1.18.0\\\", \\\"azureml-contrib-server\\\": \\\"1.18.0\\\", \\\"azureml-contrib-reinforcementlearning\\\": \\\"1.18.0\\\", \\\"azureml-contrib-pipeline-steps\\\": \\\"1.18.0\\\", \\\"azureml-contrib-notebook\\\": \\\"1.18.0\\\", \\\"azureml-contrib-interpret\\\": \\\"1.18.0\\\", \\\"azureml-contrib-gbdt\\\": \\\"1.18.0\\\", \\\"azureml-contrib-fairness\\\": \\\"1.18.0\\\", \\\"azureml-contrib-dataset\\\": \\\"1.18.0\\\", \\\"azureml-cli-common\\\": \\\"1.18.0\\\", \\\"azureml-automl-runtime\\\": \\\"1.18.0\\\", \\\"azureml-automl-core\\\": \\\"1.18.0\\\", \\\"azureml-accel-models\\\": \\\"1.18.0\\\"}\", \"_aml_system_scenario_identification\": \"Remote.Parent\", \"ClientType\": \"SDK\", \"environment_cpu_name\": \"AzureML-AutoML\", \"environment_cpu_version\": \"44\", \"environment_gpu_name\": \"AzureML-AutoML-GPU\", \"environment_gpu_version\": \"32\", \"root_attribution\": \"automl\", \"attribution\": \"AutoML\", \"Orchestrator\": \"AutoML\", \"CancelUri\": \"https://southcentralus.experiments.azureml.net/jasmine/v1.0/subscriptions/fb968fd6-afa4-4fb2-8296-1d0120d715b4/resourceGroups/aml-quickstarts-127655/providers/Microsoft.MachineLearningServices/workspaces/quick-starts-ws-127655/experimentids/961d42d0-7242-44bd-939e-5cb4662f91aa/cancel/AutoML_ab9d4fbb-757d-4bd6-bd50-644a4fe1ed05\", \"ClientSdkVersion\": \"1.17.0\", \"snapshotId\": \"00000000-0000-0000-0000-000000000000\", \"SetupRunId\": \"AutoML_ab9d4fbb-757d-4bd6-bd50-644a4fe1ed05_setup\", \"SetupRunContainerId\": \"dcid.AutoML_ab9d4fbb-757d-4bd6-bd50-644a4fe1ed05_setup\", \"FeaturizationRunJsonPath\": \"featurizer_container.json\", \"FeaturizationRunId\": \"AutoML_ab9d4fbb-757d-4bd6-bd50-644a4fe1ed05_featurize\", \"ProblemInfoJsonString\": \"{\\\"dataset_num_categorical\\\": 0, \\\"is_sparse\\\": false, \\\"subsampling\\\": false, \\\"dataset_classes\\\": 3675, \\\"dataset_features\\\": 13, \\\"dataset_samples\\\": 16512, \\\"single_frequency_class_detected\\\": false}\", \"ModelExplainRunId\": \"AutoML_ab9d4fbb-757d-4bd6-bd50-644a4fe1ed05_ModelExplain\"}, \"tags\": {\"model_explain_run\": \"best_run\", \"_aml_system_azureml.automlComponent\": \"AutoML\", \"pipeline_id\": \"<faf12f74cf9bbd358ca5525682c5030d36f7be7c>;<4bc4ec47eb8df2d5d68b361cd60120e65196f757>;<73e33c7ea15f39b8e0d74491cc5f15c0665289c1>;<d4c9c848830510df97cf8a3254411b6d2ac7782a>;<3406e9e192a0ce11c900f9ea741be7144dad2792>;<994ac9230f8a2cdd51464d09b7bb29a296787f03>;<1f5c0f633aa8d68d70ab2e97222afbf32aa4ac67>;<a420420d1d035a7a090fb1dca3298e66f57d6f02>;<0dcd72a2a6694c43a5151d2bba1d69d16125f375>;<986c62191b8b7091bc208bc025e9c503279fc386>;<e980fc30c223fa910fdfba5a88ac8305ae2d8a07>;<0a7ee6d660a81ba37cbc1fc311bac22edfe07b71>;<e8a5ec1d708e6e5c9f758e3aa8e072f1d096d973>;<b602a28066d8b70641f78794b007da3913cb6ef6>;<681f50489ce2609840e6528b015027c3be5da0cc>;<f5d32fa6abe90877630e93b35f3c66e09eeff9c2>;<de747adb2e9b29fd1ce14621a60fda03ef609397>;<f9c8d9e2d0f281511e0611416293045d0565b21b>;<de8413ff179abcbbc80488259fb64be777e81d9c>;<26a4b12b2f649fe1c2d47f00eaebbdc12f0ffdb6>;<60fc2d711f8cea4e6bb477a7d71a0f687f15ea69>;<5cb4ea350f34b02859534a5b69591f562d697b41>;<3289f00260aa7b81d787a6aa3aff812745f716eb>;<fa31128ec7bdaa124598aa72862183c17d546d7f>;<46473486f6488cf628b4641452daf0168ad148c7>;<a4bbab68227b8ab31c9adc7cc80caac1686ad968>;<6fbf36d59156bb82b596088ab13df5839ca45946>;<01596fd8f4917fc14ffe0f2b0f54ecac52270855>;<39c4ccb780374fbe2a16a7f8bc93c517fcf56b75>;<31154dd7a5b4ca7c6542a592728d2d0c8a7d51de>;<__AutoML_Ensemble__>;<__AutoML_Stack_Ensemble__>;\", \"score\": \"<0.09934886736317816>;<0.11565728545074569>;<0.142472204943847>;<0.13967173617901113>;<0.14439422781995878>;<0.15144427172929298>;<0.14439422374253907>;<0.14450232675195854>;<0.1396209508230354>;<0.1253380684792337>;<0.15281051361930298>;<0.13664719617610102>;<0.14593925367779273>;<0.14490141243354218>;<0.1434059396654402>;<0.14800096203321933>;<0.13328329017241314>;<0.141746245924368>;<0.15359641615578445>;<0.13593000403247493>;<0.14777682997227762>;<0.13601827438823227>;<0.12749919111923746>;<0.13647112120091656>;<0.17074086453880485>;<0.14241625551316378>;<0.12958274405559883>;<0.1418827201611832>;<0.136518027436023>;<0.1479702148430679>;<0.09934886736317816>;<0.09939023636352726>;\", \"predicted_cost\": \"<0>;<0>;<0.5>;<0.061841999999999994>;<0.0575698800268579>;<0.05600543871102068>;<0.05891464715923044>;<0.08222540833097575>;<0.08278987421196726>;<0.1370593515399869>;<0.061457248800929426>;<0.0888955306819321>;<0.05958909778397598>;<0.033869553301616756>;<0.07110720393157072>;<0.23187555517631836>;<0.06865913932358732>;<0.05244054786480629>;<0.028475221190934066>;<0.10034467310202305>;<0.017027603536347875>;<0.03181639265035533>;<0.024807439756382867>;<0.07792846990040452>;<0.018168141797935793>;<0.0667006787964801>;<0.06255261852920038>;<0.051851959385537966>;<0.058820129413208154>;<0.05330395918844812>;<0>;<0>;\", \"fit_time\": \"<0.37298>;<1.068935>;<0.061842>;<0.055119>;<0.044916000000000005>;<0.115319>;<0.04618>;<1.248767>;<0.06684799999999999>;<0.091458>;<0.048716999999999996>;<0.057193999999999995>;<0.025227>;<0.028145>;<0.019636999999999998>;<0.062108>;<0.064689>;<0.033832>;<0.022421>;<0.053284000000000005>;<0.043052>;<0.060479>;<0.062806>;<0.077343>;<0.052417000000000005>;<0.157115>;<0.09736500000000001>;<0.060041000000000004>;<0.55732>;<0.059553999999999996>;<6>;<12>;\", \"training_percent\": \"<100>;<100>;<100>;<100>;<100>;<100>;<100>;<100>;<100>;<100>;<100>;<100>;<100>;<100>;<100>;<100>;<100>;<100>;<100>;<100>;<100>;<100>;<100>;<100>;<100>;<100>;<100>;<100>;<100>;<100>;<100>;<100>;\", \"iteration\": \"<0>;<1>;<2>;<3>;<4>;<5>;<6>;<7>;<8>;<9>;<10>;<11>;<12>;<13>;<14>;<15>;<16>;<17>;<18>;<19>;<20>;<21>;<22>;<23>;<24>;<25>;<26>;<27>;<28>;<29>;<30>;<31>;\", \"run_preprocessor\": \"<MaxAbsScaler>;<MaxAbsScaler>;<MaxAbsScaler>;<MinMaxScaler>;<StandardScalerWrapper>;<RobustScaler>;<StandardScalerWrapper>;<RobustScaler>;<RobustScaler>;<MinMaxScaler>;<RobustScaler>;<MinMaxScaler>;<StandardScalerWrapper>;<StandardScalerWrapper>;<RobustScaler>;<RobustScaler>;<StandardScalerWrapper>;<MinMaxScaler>;<MinMaxScaler>;<RobustScaler>;<RobustScaler>;<StandardScalerWrapper>;<StandardScalerWrapper>;<MinMaxScaler>;<StandardScalerWrapper>;<MinMaxScaler>;<MinMaxScaler>;<MinMaxScaler>;<StandardScalerWrapper>;<StandardScalerWrapper>;<>;<>;\", \"run_algorithm\": \"<LightGBM>;<XGBoostRegressor>;<DecisionTree>;<DecisionTree>;<LassoLars>;<ElasticNet>;<LassoLars>;<ElasticNet>;<DecisionTree>;<DecisionTree>;<DecisionTree>;<DecisionTree>;<DecisionTree>;<DecisionTree>;<DecisionTree>;<ElasticNet>;<DecisionTree>;<DecisionTree>;<DecisionTree>;<DecisionTree>;<DecisionTree>;<DecisionTree>;<DecisionTree>;<DecisionTree>;<ExtremeRandomTrees>;<LightGBM>;<DecisionTree>;<DecisionTree>;<RandomForest>;<DecisionTree>;<VotingEnsemble>;<StackEnsemble>;\", \"dynamic_whitelisting_iterations\": \"<25>;\", \"automl_best_child_run_id\": \"AutoML_ab9d4fbb-757d-4bd6-bd50-644a4fe1ed05_0\", \"model_explain_best_run_child_id\": \"AutoML_ab9d4fbb-757d-4bd6-bd50-644a4fe1ed05_0\"}, \"end_time_utc\": \"2020-11-24T06:48:54.757383Z\", \"status\": \"Completed\", \"log_files\": {}, \"log_groups\": [], \"run_duration\": \"0:32:05\"}, \"child_runs\": [{\"run_id\": \"AutoML_ab9d4fbb-757d-4bd6-bd50-644a4fe1ed05_0\", \"run_number\": 5, \"metric\": null, \"status\": \"Completed\", \"run_type\": \"azureml.scriptrun\", \"training_percent\": \"100\", \"start_time\": \"2020-11-24T06:22:17.484328Z\", \"end_time\": \"2020-11-24T06:22:50.524602Z\", \"created_time\": \"2020-11-24T06:22:00.235843Z\", \"created_time_dt\": \"2020-11-24T06:22:00.235843Z\", \"duration\": \"0:00:50\", \"iteration\": \"0\", \"goal\": \"normalized_root_mean_squared_error_min\", \"run_name\": \"MaxAbsScaler, LightGBM\", \"run_properties\": \"copy=True\", \"primary_metric\": 0.09934887, \"best_metric\": 0.09934887}, {\"run_id\": \"AutoML_ab9d4fbb-757d-4bd6-bd50-644a4fe1ed05_1\", \"run_number\": 6, \"metric\": null, \"status\": \"Completed\", \"run_type\": \"azureml.scriptrun\", \"training_percent\": \"100\", \"start_time\": \"2020-11-24T06:23:08.065342Z\", \"end_time\": \"2020-11-24T06:23:39.913431Z\", \"created_time\": \"2020-11-24T06:22:56.146199Z\", \"created_time_dt\": \"2020-11-24T06:22:56.146199Z\", \"duration\": \"0:00:43\", \"iteration\": \"1\", \"goal\": \"normalized_root_mean_squared_error_min\", \"run_name\": \"MaxAbsScaler, XGBoostRegressor\", \"run_properties\": \"copy=True\", \"primary_metric\": 0.11565729, \"best_metric\": 0.09934887}, {\"run_id\": \"AutoML_ab9d4fbb-757d-4bd6-bd50-644a4fe1ed05_2\", \"run_number\": 7, \"metric\": null, \"status\": \"Completed\", \"run_type\": \"azureml.scriptrun\", \"training_percent\": \"100\", \"start_time\": \"2020-11-24T06:24:01.714112Z\", \"end_time\": \"2020-11-24T06:24:31.521095Z\", \"created_time\": \"2020-11-24T06:23:48.136111Z\", \"created_time_dt\": \"2020-11-24T06:23:48.136111Z\", \"duration\": \"0:00:43\", \"iteration\": \"2\", \"goal\": \"normalized_root_mean_squared_error_min\", \"run_name\": \"MaxAbsScaler, DecisionTree\", \"run_properties\": \"copy=True\", \"primary_metric\": 0.1424722, \"best_metric\": 0.09934887}, {\"run_id\": \"AutoML_ab9d4fbb-757d-4bd6-bd50-644a4fe1ed05_3\", \"run_number\": 8, \"metric\": null, \"status\": \"Completed\", \"run_type\": \"azureml.scriptrun\", \"training_percent\": \"100\", \"start_time\": \"2020-11-24T06:24:51.246842Z\", \"end_time\": \"2020-11-24T06:25:15.067231Z\", \"created_time\": \"2020-11-24T06:24:37.853967Z\", \"created_time_dt\": \"2020-11-24T06:24:37.853967Z\", \"duration\": \"0:00:37\", \"iteration\": \"3\", \"goal\": \"normalized_root_mean_squared_error_min\", \"run_name\": \"MinMaxScaler, DecisionTree\", \"run_properties\": \"copy=True, feature_range=(0, 1\", \"primary_metric\": 0.13967174, \"best_metric\": 0.09934887}, {\"run_id\": \"AutoML_ab9d4fbb-757d-4bd6-bd50-644a4fe1ed05_4\", \"run_number\": 9, \"metric\": null, \"status\": \"Completed\", \"run_type\": \"azureml.scriptrun\", \"training_percent\": \"100\", \"start_time\": \"2020-11-24T06:25:37.003658Z\", \"end_time\": \"2020-11-24T06:26:08.522094Z\", \"created_time\": \"2020-11-24T06:25:24.980752Z\", \"created_time_dt\": \"2020-11-24T06:25:24.980752Z\", \"duration\": \"0:00:43\", \"iteration\": \"4\", \"goal\": \"normalized_root_mean_squared_error_min\", \"run_name\": \"StandardScalerWrapper, LassoLars\", \"run_properties\": \"<azureml.automl.runtime.shared.model_wrappers.StandardScalerWrapper object at 0x7f8d1c4b5a20\", \"primary_metric\": 0.14439423, \"best_metric\": 0.09934887}, {\"run_id\": \"AutoML_ab9d4fbb-757d-4bd6-bd50-644a4fe1ed05_5\", \"run_number\": 10, \"metric\": null, \"status\": \"Completed\", \"run_type\": \"azureml.scriptrun\", \"training_percent\": \"100\", \"start_time\": \"2020-11-24T06:26:28.040425Z\", \"end_time\": \"2020-11-24T06:26:55.551256Z\", \"created_time\": \"2020-11-24T06:26:11.324265Z\", \"created_time_dt\": \"2020-11-24T06:26:11.324265Z\", \"duration\": \"0:00:44\", \"iteration\": \"5\", \"goal\": \"normalized_root_mean_squared_error_min\", \"run_name\": \"RobustScaler, ElasticNet\", \"run_properties\": \"copy=True, quantile_range=[25, 75], with_centering=True,\\n             with_scaling=False\", \"primary_metric\": 0.15144427, \"best_metric\": 0.09934887}, {\"run_id\": \"AutoML_ab9d4fbb-757d-4bd6-bd50-644a4fe1ed05_6\", \"run_number\": 11, \"metric\": null, \"status\": \"Completed\", \"run_type\": \"azureml.scriptrun\", \"training_percent\": \"100\", \"start_time\": \"2020-11-24T06:27:14.350732Z\", \"end_time\": \"2020-11-24T06:27:42.615711Z\", \"created_time\": \"2020-11-24T06:26:59.296795Z\", \"created_time_dt\": \"2020-11-24T06:26:59.296795Z\", \"duration\": \"0:00:43\", \"iteration\": \"6\", \"goal\": \"normalized_root_mean_squared_error_min\", \"run_name\": \"StandardScalerWrapper, LassoLars\", \"run_properties\": \"<azureml.automl.runtime.shared.model_wrappers.StandardScalerWrapper object at 0x7f2a4b4220f0\", \"primary_metric\": 0.14439422, \"best_metric\": 0.09934887}, {\"run_id\": \"AutoML_ab9d4fbb-757d-4bd6-bd50-644a4fe1ed05_7\", \"run_number\": 12, \"metric\": null, \"status\": \"Completed\", \"run_type\": \"azureml.scriptrun\", \"training_percent\": \"100\", \"start_time\": \"2020-11-24T06:27:59.125161Z\", \"end_time\": \"2020-11-24T06:28:30.205959Z\", \"created_time\": \"2020-11-24T06:27:46.584653Z\", \"created_time_dt\": \"2020-11-24T06:27:46.584653Z\", \"duration\": \"0:00:43\", \"iteration\": \"7\", \"goal\": \"normalized_root_mean_squared_error_min\", \"run_name\": \"RobustScaler, ElasticNet\", \"run_properties\": \"copy=True, quantile_range=[25, 75], with_centering=True,\\n             with_scaling=False\", \"primary_metric\": 0.14450233, \"best_metric\": 0.09934887}, {\"run_id\": \"AutoML_ab9d4fbb-757d-4bd6-bd50-644a4fe1ed05_8\", \"run_number\": 13, \"metric\": null, \"status\": \"Completed\", \"run_type\": \"azureml.scriptrun\", \"training_percent\": \"100\", \"start_time\": \"2020-11-24T06:28:46.844143Z\", \"end_time\": \"2020-11-24T06:29:18.67638Z\", \"created_time\": \"2020-11-24T06:28:33.614283Z\", \"created_time_dt\": \"2020-11-24T06:28:33.614283Z\", \"duration\": \"0:00:45\", \"iteration\": \"8\", \"goal\": \"normalized_root_mean_squared_error_min\", \"run_name\": \"RobustScaler, DecisionTree\", \"run_properties\": \"copy=True, quantile_range=[25, 75], with_centering=True,\\n             with_scaling=False\", \"primary_metric\": 0.13962095, \"best_metric\": 0.09934887}, {\"run_id\": \"AutoML_ab9d4fbb-757d-4bd6-bd50-644a4fe1ed05_9\", \"run_number\": 14, \"metric\": null, \"status\": \"Completed\", \"run_type\": \"azureml.scriptrun\", \"training_percent\": \"100\", \"start_time\": \"2020-11-24T06:29:44.633727Z\", \"end_time\": \"2020-11-24T06:30:20.209687Z\", \"created_time\": \"2020-11-24T06:29:30.664493Z\", \"created_time_dt\": \"2020-11-24T06:29:30.664493Z\", \"duration\": \"0:00:49\", \"iteration\": \"9\", \"goal\": \"normalized_root_mean_squared_error_min\", \"run_name\": \"MinMaxScaler, DecisionTree\", \"run_properties\": \"copy=True, feature_range=(0, 1\", \"primary_metric\": 0.12533807, \"best_metric\": 0.09934887}, {\"run_id\": \"AutoML_ab9d4fbb-757d-4bd6-bd50-644a4fe1ed05_10\", \"run_number\": 15, \"metric\": null, \"status\": \"Completed\", \"run_type\": \"azureml.scriptrun\", \"training_percent\": \"100\", \"start_time\": \"2020-11-24T06:30:38.673128Z\", \"end_time\": \"2020-11-24T06:31:07.481271Z\", \"created_time\": \"2020-11-24T06:30:26.63828Z\", \"created_time_dt\": \"2020-11-24T06:30:26.63828Z\", \"duration\": \"0:00:40\", \"iteration\": \"10\", \"goal\": \"normalized_root_mean_squared_error_min\", \"run_name\": \"RobustScaler, DecisionTree\", \"run_properties\": \"copy=True, quantile_range=[10, 90], with_centering=False,\\n             with_scaling=False\", \"primary_metric\": 0.15281051, \"best_metric\": 0.09934887}, {\"run_id\": \"AutoML_ab9d4fbb-757d-4bd6-bd50-644a4fe1ed05_11\", \"run_number\": 16, \"metric\": null, \"status\": \"Completed\", \"run_type\": \"azureml.scriptrun\", \"training_percent\": \"100\", \"start_time\": \"2020-11-24T06:31:24.414722Z\", \"end_time\": \"2020-11-24T06:31:53.7999Z\", \"created_time\": \"2020-11-24T06:31:12.851311Z\", \"created_time_dt\": \"2020-11-24T06:31:12.851311Z\", \"duration\": \"0:00:40\", \"iteration\": \"11\", \"goal\": \"normalized_root_mean_squared_error_min\", \"run_name\": \"MinMaxScaler, DecisionTree\", \"run_properties\": \"copy=True, feature_range=(0, 1\", \"primary_metric\": 0.1366472, \"best_metric\": 0.09934887}, {\"run_id\": \"AutoML_ab9d4fbb-757d-4bd6-bd50-644a4fe1ed05_12\", \"run_number\": 17, \"metric\": null, \"status\": \"Completed\", \"run_type\": \"azureml.scriptrun\", \"training_percent\": \"100\", \"start_time\": \"2020-11-24T06:32:10.088702Z\", \"end_time\": \"2020-11-24T06:32:35.907546Z\", \"created_time\": \"2020-11-24T06:31:58.484393Z\", \"created_time_dt\": \"2020-11-24T06:31:58.484393Z\", \"duration\": \"0:00:37\", \"iteration\": \"12\", \"goal\": \"normalized_root_mean_squared_error_min\", \"run_name\": \"StandardScalerWrapper, DecisionTree\", \"run_properties\": \"<azureml.automl.runtime.shared.model_wrappers.StandardScalerWrapper object at 0x7effbe725588\", \"primary_metric\": 0.14593925, \"best_metric\": 0.09934887}, {\"run_id\": \"AutoML_ab9d4fbb-757d-4bd6-bd50-644a4fe1ed05_13\", \"run_number\": 18, \"metric\": null, \"status\": \"Completed\", \"run_type\": \"azureml.scriptrun\", \"training_percent\": \"100\", \"start_time\": \"2020-11-24T06:32:51.974608Z\", \"end_time\": \"2020-11-24T06:33:22.903148Z\", \"created_time\": \"2020-11-24T06:32:39.075228Z\", \"created_time_dt\": \"2020-11-24T06:32:39.075228Z\", \"duration\": \"0:00:43\", \"iteration\": \"13\", \"goal\": \"normalized_root_mean_squared_error_min\", \"run_name\": \"StandardScalerWrapper, DecisionTree\", \"run_properties\": \"<azureml.automl.runtime.shared.model_wrappers.StandardScalerWrapper object at 0x7fcc94147320\", \"primary_metric\": 0.14490141, \"best_metric\": 0.09934887}, {\"run_id\": \"AutoML_ab9d4fbb-757d-4bd6-bd50-644a4fe1ed05_14\", \"run_number\": 19, \"metric\": null, \"status\": \"Completed\", \"run_type\": \"azureml.scriptrun\", \"training_percent\": \"100\", \"start_time\": \"2020-11-24T06:33:38.643281Z\", \"end_time\": \"2020-11-24T06:34:04.802015Z\", \"created_time\": \"2020-11-24T06:33:25.262887Z\", \"created_time_dt\": \"2020-11-24T06:33:25.262887Z\", \"duration\": \"0:00:39\", \"iteration\": \"14\", \"goal\": \"normalized_root_mean_squared_error_min\", \"run_name\": \"RobustScaler, DecisionTree\", \"run_properties\": \"copy=True, quantile_range=[10, 90], with_centering=False,\\n             with_scaling=False\", \"primary_metric\": 0.14340594, \"best_metric\": 0.09934887}, {\"run_id\": \"AutoML_ab9d4fbb-757d-4bd6-bd50-644a4fe1ed05_15\", \"run_number\": 20, \"metric\": null, \"status\": \"Completed\", \"run_type\": \"azureml.scriptrun\", \"training_percent\": \"100\", \"start_time\": \"2020-11-24T06:34:22.888377Z\", \"end_time\": \"2020-11-24T06:34:53.286795Z\", \"created_time\": \"2020-11-24T06:34:10.485684Z\", \"created_time_dt\": \"2020-11-24T06:34:10.485684Z\", \"duration\": \"0:00:42\", \"iteration\": \"15\", \"goal\": \"normalized_root_mean_squared_error_min\", \"run_name\": \"RobustScaler, ElasticNet\", \"run_properties\": \"copy=True, quantile_range=[25, 75], with_centering=True,\\n             with_scaling=True\", \"primary_metric\": 0.14800096, \"best_metric\": 0.09934887}, {\"run_id\": \"AutoML_ab9d4fbb-757d-4bd6-bd50-644a4fe1ed05_16\", \"run_number\": 21, \"metric\": null, \"status\": \"Completed\", \"run_type\": \"azureml.scriptrun\", \"training_percent\": \"100\", \"start_time\": \"2020-11-24T06:35:07.233046Z\", \"end_time\": \"2020-11-24T06:35:33.986454Z\", \"created_time\": \"2020-11-24T06:34:56.757843Z\", \"created_time_dt\": \"2020-11-24T06:34:56.757843Z\", \"duration\": \"0:00:37\", \"iteration\": \"16\", \"goal\": \"normalized_root_mean_squared_error_min\", \"run_name\": \"StandardScalerWrapper, DecisionTree\", \"run_properties\": \"<azureml.automl.runtime.shared.model_wrappers.StandardScalerWrapper object at 0x7f19209a1278\", \"primary_metric\": 0.13328329, \"best_metric\": 0.09934887}, {\"run_id\": \"AutoML_ab9d4fbb-757d-4bd6-bd50-644a4fe1ed05_17\", \"run_number\": 22, \"metric\": null, \"status\": \"Completed\", \"run_type\": \"azureml.scriptrun\", \"training_percent\": \"100\", \"start_time\": \"2020-11-24T06:36:04.304703Z\", \"end_time\": \"2020-11-24T06:36:35.98443Z\", \"created_time\": \"2020-11-24T06:35:47.842655Z\", \"created_time_dt\": \"2020-11-24T06:35:47.842655Z\", \"duration\": \"0:00:48\", \"iteration\": \"17\", \"goal\": \"normalized_root_mean_squared_error_min\", \"run_name\": \"MinMaxScaler, DecisionTree\", \"run_properties\": \"copy=True, feature_range=(0, 1\", \"primary_metric\": 0.14174625, \"best_metric\": 0.09934887}, {\"run_id\": \"AutoML_ab9d4fbb-757d-4bd6-bd50-644a4fe1ed05_18\", \"run_number\": 23, \"metric\": null, \"status\": \"Completed\", \"run_type\": \"azureml.scriptrun\", \"training_percent\": \"100\", \"start_time\": \"2020-11-24T06:37:01.833651Z\", \"end_time\": \"2020-11-24T06:37:32.535688Z\", \"created_time\": \"2020-11-24T06:36:46.637951Z\", \"created_time_dt\": \"2020-11-24T06:36:46.637951Z\", \"duration\": \"0:00:45\", \"iteration\": \"18\", \"goal\": \"normalized_root_mean_squared_error_min\", \"run_name\": \"MinMaxScaler, DecisionTree\", \"run_properties\": \"copy=True, feature_range=(0, 1\", \"primary_metric\": 0.15359642, \"best_metric\": 0.09934887}, {\"run_id\": \"AutoML_ab9d4fbb-757d-4bd6-bd50-644a4fe1ed05_19\", \"run_number\": 24, \"metric\": null, \"status\": \"Completed\", \"run_type\": \"azureml.scriptrun\", \"training_percent\": \"100\", \"start_time\": \"2020-11-24T06:37:57.029657Z\", \"end_time\": \"2020-11-24T06:38:23.416384Z\", \"created_time\": \"2020-11-24T06:37:45.37178Z\", \"created_time_dt\": \"2020-11-24T06:37:45.37178Z\", \"duration\": \"0:00:38\", \"iteration\": \"19\", \"goal\": \"normalized_root_mean_squared_error_min\", \"run_name\": \"RobustScaler, DecisionTree\", \"run_properties\": \"copy=True, quantile_range=[25, 75], with_centering=False,\\n             with_scaling=False\", \"primary_metric\": 0.13593, \"best_metric\": 0.09934887}, {\"run_id\": \"AutoML_ab9d4fbb-757d-4bd6-bd50-644a4fe1ed05_20\", \"run_number\": 25, \"metric\": null, \"status\": \"Completed\", \"run_type\": \"azureml.scriptrun\", \"training_percent\": \"100\", \"start_time\": \"2020-11-24T06:38:45.873853Z\", \"end_time\": \"2020-11-24T06:39:11.763771Z\", \"created_time\": \"2020-11-24T06:38:31.736199Z\", \"created_time_dt\": \"2020-11-24T06:38:31.736199Z\", \"duration\": \"0:00:40\", \"iteration\": \"20\", \"goal\": \"normalized_root_mean_squared_error_min\", \"run_name\": \"RobustScaler, DecisionTree\", \"run_properties\": \"copy=True, quantile_range=[25, 75], with_centering=False,\\n             with_scaling=False\", \"primary_metric\": 0.14777683, \"best_metric\": 0.09934887}, {\"run_id\": \"AutoML_ab9d4fbb-757d-4bd6-bd50-644a4fe1ed05_21\", \"run_number\": 26, \"metric\": null, \"status\": \"Completed\", \"run_type\": \"azureml.scriptrun\", \"training_percent\": \"100\", \"start_time\": \"2020-11-24T06:39:32.69369Z\", \"end_time\": \"2020-11-24T06:40:06.933943Z\", \"created_time\": \"2020-11-24T06:39:17.464024Z\", \"created_time_dt\": \"2020-11-24T06:39:17.464024Z\", \"duration\": \"0:00:49\", \"iteration\": \"21\", \"goal\": \"normalized_root_mean_squared_error_min\", \"run_name\": \"StandardScalerWrapper, DecisionTree\", \"run_properties\": \"<azureml.automl.runtime.shared.model_wrappers.StandardScalerWrapper object at 0x7fa9673e00b8\", \"primary_metric\": 0.13601827, \"best_metric\": 0.09934887}, {\"run_id\": \"AutoML_ab9d4fbb-757d-4bd6-bd50-644a4fe1ed05_22\", \"run_number\": 27, \"metric\": null, \"status\": \"Completed\", \"run_type\": \"azureml.scriptrun\", \"training_percent\": \"100\", \"start_time\": \"2020-11-24T06:40:30.78494Z\", \"end_time\": \"2020-11-24T06:41:05.099375Z\", \"created_time\": \"2020-11-24T06:40:16.429716Z\", \"created_time_dt\": \"2020-11-24T06:40:16.429716Z\", \"duration\": \"0:00:48\", \"iteration\": \"22\", \"goal\": \"normalized_root_mean_squared_error_min\", \"run_name\": \"StandardScalerWrapper, DecisionTree\", \"run_properties\": \"<azureml.automl.runtime.shared.model_wrappers.StandardScalerWrapper object at 0x7fc6b4072588\", \"primary_metric\": 0.12749919, \"best_metric\": 0.09934887}, {\"run_id\": \"AutoML_ab9d4fbb-757d-4bd6-bd50-644a4fe1ed05_23\", \"run_number\": 28, \"metric\": null, \"status\": \"Completed\", \"run_type\": \"azureml.scriptrun\", \"training_percent\": \"100\", \"start_time\": \"2020-11-24T06:41:21.456931Z\", \"end_time\": \"2020-11-24T06:41:51.129319Z\", \"created_time\": \"2020-11-24T06:41:08.178402Z\", \"created_time_dt\": \"2020-11-24T06:41:08.178402Z\", \"duration\": \"0:00:42\", \"iteration\": \"23\", \"goal\": \"normalized_root_mean_squared_error_min\", \"run_name\": \"MinMaxScaler, DecisionTree\", \"run_properties\": \"copy=True, feature_range=(0, 1\", \"primary_metric\": 0.13647112, \"best_metric\": 0.09934887}, {\"run_id\": \"AutoML_ab9d4fbb-757d-4bd6-bd50-644a4fe1ed05_24\", \"run_number\": 29, \"metric\": null, \"status\": \"Completed\", \"run_type\": \"azureml.scriptrun\", \"training_percent\": \"100\", \"start_time\": \"2020-11-24T06:42:10.825338Z\", \"end_time\": \"2020-11-24T06:42:37.603212Z\", \"created_time\": \"2020-11-24T06:41:55.128817Z\", \"created_time_dt\": \"2020-11-24T06:41:55.128817Z\", \"duration\": \"0:00:42\", \"iteration\": \"24\", \"goal\": \"normalized_root_mean_squared_error_min\", \"run_name\": \"StandardScalerWrapper, ExtremeRandomTrees\", \"run_properties\": \"<azureml.automl.runtime.shared.model_wrappers.StandardScalerWrapper object at 0x7ffb486d4860\", \"primary_metric\": 0.17074086, \"best_metric\": 0.09934887}, {\"run_id\": \"AutoML_ab9d4fbb-757d-4bd6-bd50-644a4fe1ed05_25\", \"run_number\": 30, \"metric\": null, \"status\": \"Completed\", \"run_type\": \"azureml.scriptrun\", \"training_percent\": \"100\", \"start_time\": \"2020-11-24T06:42:58.299543Z\", \"end_time\": \"2020-11-24T06:43:30.989998Z\", \"created_time\": \"2020-11-24T06:42:44.683627Z\", \"created_time_dt\": \"2020-11-24T06:42:44.683627Z\", \"duration\": \"0:00:46\", \"iteration\": \"25\", \"goal\": \"normalized_root_mean_squared_error_min\", \"run_name\": \"MinMaxScaler, LightGBM\", \"run_properties\": \"copy=True, feature_range=(0, 1\", \"primary_metric\": 0.14241626, \"best_metric\": 0.09934887}, {\"run_id\": \"AutoML_ab9d4fbb-757d-4bd6-bd50-644a4fe1ed05_26\", \"run_number\": 31, \"metric\": null, \"status\": \"Completed\", \"run_type\": \"azureml.scriptrun\", \"training_percent\": \"100\", \"start_time\": \"2020-11-24T06:43:59.505282Z\", \"end_time\": \"2020-11-24T06:44:30.463737Z\", \"created_time\": \"2020-11-24T06:43:47.548758Z\", \"created_time_dt\": \"2020-11-24T06:43:47.548758Z\", \"duration\": \"0:00:42\", \"iteration\": \"26\", \"goal\": \"normalized_root_mean_squared_error_min\", \"run_name\": \"MinMaxScaler, DecisionTree\", \"run_properties\": \"copy=True, feature_range=(0, 1\", \"primary_metric\": 0.12958274, \"best_metric\": 0.09934887}, {\"run_id\": \"AutoML_ab9d4fbb-757d-4bd6-bd50-644a4fe1ed05_27\", \"run_number\": 32, \"metric\": null, \"status\": \"Completed\", \"run_type\": \"azureml.scriptrun\", \"training_percent\": \"100\", \"start_time\": \"2020-11-24T06:44:46.241049Z\", \"end_time\": \"2020-11-24T06:45:10.259674Z\", \"created_time\": \"2020-11-24T06:44:33.656741Z\", \"created_time_dt\": \"2020-11-24T06:44:33.656741Z\", \"duration\": \"0:00:36\", \"iteration\": \"27\", \"goal\": \"normalized_root_mean_squared_error_min\", \"run_name\": \"MinMaxScaler, DecisionTree\", \"run_properties\": \"copy=True, feature_range=(0, 1\", \"primary_metric\": 0.14188272, \"best_metric\": 0.09934887}, {\"run_id\": \"AutoML_ab9d4fbb-757d-4bd6-bd50-644a4fe1ed05_28\", \"run_number\": 33, \"metric\": null, \"status\": \"Completed\", \"run_type\": \"azureml.scriptrun\", \"training_percent\": \"100\", \"start_time\": \"2020-11-24T06:45:35.247454Z\", \"end_time\": \"2020-11-24T06:46:05.299177Z\", \"created_time\": \"2020-11-24T06:45:19.135363Z\", \"created_time_dt\": \"2020-11-24T06:45:19.135363Z\", \"duration\": \"0:00:46\", \"iteration\": \"28\", \"goal\": \"normalized_root_mean_squared_error_min\", \"run_name\": \"StandardScalerWrapper, RandomForest\", \"run_properties\": \"<azureml.automl.runtime.shared.model_wrappers.StandardScalerWrapper object at 0x7fd0951db400\", \"primary_metric\": 0.13651803, \"best_metric\": 0.09934887}, {\"run_id\": \"AutoML_ab9d4fbb-757d-4bd6-bd50-644a4fe1ed05_29\", \"run_number\": 34, \"metric\": null, \"status\": \"Completed\", \"run_type\": \"azureml.scriptrun\", \"training_percent\": \"100\", \"start_time\": \"2020-11-24T06:46:27.516642Z\", \"end_time\": \"2020-11-24T06:46:59.153761Z\", \"created_time\": \"2020-11-24T06:46:16.378115Z\", \"created_time_dt\": \"2020-11-24T06:46:16.378115Z\", \"duration\": \"0:00:42\", \"iteration\": \"29\", \"goal\": \"normalized_root_mean_squared_error_min\", \"run_name\": \"StandardScalerWrapper, DecisionTree\", \"run_properties\": \"<azureml.automl.runtime.shared.model_wrappers.StandardScalerWrapper object at 0x7f7d9a85fe10\", \"primary_metric\": 0.14797021, \"best_metric\": 0.09934887}, {\"run_id\": \"AutoML_ab9d4fbb-757d-4bd6-bd50-644a4fe1ed05_30\", \"run_number\": 35, \"metric\": null, \"status\": \"Completed\", \"run_type\": \"azureml.scriptrun\", \"training_percent\": \"100\", \"start_time\": \"2020-11-24T06:47:21.537765Z\", \"end_time\": \"2020-11-24T06:47:50.60624Z\", \"created_time\": \"2020-11-24T06:47:06.678503Z\", \"created_time_dt\": \"2020-11-24T06:47:06.678503Z\", \"duration\": \"0:00:43\", \"iteration\": \"30\", \"goal\": \"normalized_root_mean_squared_error_min\", \"run_name\": \"VotingEnsemble\", \"run_properties\": \"estimators=[('0',\\n                                          Pipeline(memory=None,\\n                                                   steps=[('maxabsscaler',\\n                                                           MaxAbsScaler(copy=True\", \"primary_metric\": 0.09934887, \"best_metric\": 0.09934887}, {\"run_id\": \"AutoML_ab9d4fbb-757d-4bd6-bd50-644a4fe1ed05_31\", \"run_number\": 36, \"metric\": null, \"status\": \"Completed\", \"run_type\": \"azureml.scriptrun\", \"training_percent\": \"100\", \"start_time\": \"2020-11-24T06:48:09.220115Z\", \"end_time\": \"2020-11-24T06:48:48.359222Z\", \"created_time\": \"2020-11-24T06:47:57.257288Z\", \"created_time_dt\": \"2020-11-24T06:47:57.257288Z\", \"duration\": \"0:00:51\", \"iteration\": \"31\", \"goal\": \"normalized_root_mean_squared_error_min\", \"run_name\": \"StackEnsemble\", \"run_properties\": \"base_learners=[('0',\\n                                       Pipeline(memory=None,\\n                                                steps=[('maxabsscaler',\\n                                                        MaxAbsScaler(copy=True\", \"primary_metric\": 0.09939024, \"best_metric\": 0.09934887}], \"children_metrics\": {\"categories\": [0], \"series\": {\"spearman_correlation\": [{\"categories\": [\"0\", \"1\", \"2\", \"3\", \"4\", \"5\", \"6\", \"7\", \"8\", \"9\", \"10\", \"11\", \"12\", \"13\", \"14\", \"15\", \"16\", \"17\", \"18\", \"19\", \"20\", \"21\", \"22\", \"23\", \"24\", \"25\", \"26\", \"27\", \"28\", \"29\", \"30\", \"31\"], \"mode\": \"markers\", \"name\": \"spearman_correlation\", \"stepped\": false, \"type\": \"scatter\", \"data\": [0.9138951035775631, 0.8832324476077044, 0.820323040636371, 0.8347580513115495, 0.8232946732718781, 0.7983170126744107, 0.8232946732718781, 0.823175869472387, 0.825177626208247, 0.8630311027300976, 0.7926268399106222, 0.8456773756023599, 0.8067890835755636, 0.8116274460684203, 0.8230095301537975, 0.8131902532238733, 0.8472759504898858, 0.8225674577394152, 0.7900814762795085, 0.8379736396182446, 0.8014262137814738, 0.8430684689515746, 0.8587483989043941, 0.8339227529245995, 0.7949030400941746, 0.8355188744394196, 0.8536902841862273, 0.8251139317367355, 0.8480464922316004, 0.8029776073590111, 0.9138951035775631, 0.9138951035775631]}, {\"categories\": [\"0\", \"1\", \"2\", \"3\", \"4\", \"5\", \"6\", \"7\", \"8\", \"9\", \"10\", \"11\", \"12\", \"13\", \"14\", \"15\", \"16\", \"17\", \"18\", \"19\", \"20\", \"21\", \"22\", \"23\", \"24\", \"25\", \"26\", \"27\", \"28\", \"29\", \"30\", \"31\"], \"mode\": \"lines\", \"name\": \"spearman_correlation_max\", \"stepped\": true, \"type\": \"scatter\", \"data\": [0.9138951035775631, 0.9138951035775631, 0.9138951035775631, 0.9138951035775631, 0.9138951035775631, 0.9138951035775631, 0.9138951035775631, 0.9138951035775631, 0.9138951035775631, 0.9138951035775631, 0.9138951035775631, 0.9138951035775631, 0.9138951035775631, 0.9138951035775631, 0.9138951035775631, 0.9138951035775631, 0.9138951035775631, 0.9138951035775631, 0.9138951035775631, 0.9138951035775631, 0.9138951035775631, 0.9138951035775631, 0.9138951035775631, 0.9138951035775631, 0.9138951035775631, 0.9138951035775631, 0.9138951035775631, 0.9138951035775631, 0.9138951035775631, 0.9138951035775631, 0.9138951035775631, 0.9138951035775631]}], \"normalized_root_mean_squared_error\": [{\"categories\": [\"0\", \"1\", \"2\", \"3\", \"4\", \"5\", \"6\", \"7\", \"8\", \"9\", \"10\", \"11\", \"12\", \"13\", \"14\", \"15\", \"16\", \"17\", \"18\", \"19\", \"20\", \"21\", \"22\", \"23\", \"24\", \"25\", \"26\", \"27\", \"28\", \"29\", \"30\", \"31\"], \"mode\": \"markers\", \"name\": \"normalized_root_mean_squared_error\", \"stepped\": false, \"type\": \"scatter\", \"data\": [0.09934886736317816, 0.11565728545074569, 0.142472204943847, 0.13967173617901113, 0.14439422781995878, 0.15144427172929298, 0.14439422374253907, 0.14450232675195854, 0.1396209508230354, 0.1253380684792337, 0.15281051361930298, 0.13664719617610102, 0.14593925367779273, 0.14490141243354218, 0.1434059396654402, 0.14800096203321933, 0.13328329017241314, 0.141746245924368, 0.15359641615578445, 0.13593000403247493, 0.14777682997227762, 0.13601827438823227, 0.12749919111923746, 0.13647112120091656, 0.17074086453880485, 0.14241625551316378, 0.12958274405559883, 0.1418827201611832, 0.136518027436023, 0.1479702148430679, 0.09934886736317816, 0.09939023636352726]}, {\"categories\": [\"0\", \"1\", \"2\", \"3\", \"4\", \"5\", \"6\", \"7\", \"8\", \"9\", \"10\", \"11\", \"12\", \"13\", \"14\", \"15\", \"16\", \"17\", \"18\", \"19\", \"20\", \"21\", \"22\", \"23\", \"24\", \"25\", \"26\", \"27\", \"28\", \"29\", \"30\", \"31\"], \"mode\": \"lines\", \"name\": \"normalized_root_mean_squared_error_min\", \"stepped\": true, \"type\": \"scatter\", \"data\": [0.09934886736317816, 0.09934886736317816, 0.09934886736317816, 0.09934886736317816, 0.09934886736317816, 0.09934886736317816, 0.09934886736317816, 0.09934886736317816, 0.09934886736317816, 0.09934886736317816, 0.09934886736317816, 0.09934886736317816, 0.09934886736317816, 0.09934886736317816, 0.09934886736317816, 0.09934886736317816, 0.09934886736317816, 0.09934886736317816, 0.09934886736317816, 0.09934886736317816, 0.09934886736317816, 0.09934886736317816, 0.09934886736317816, 0.09934886736317816, 0.09934886736317816, 0.09934886736317816, 0.09934886736317816, 0.09934886736317816, 0.09934886736317816, 0.09934886736317816, 0.09934886736317816, 0.09934886736317816]}], \"r2_score\": [{\"categories\": [\"0\", \"1\", \"2\", \"3\", \"4\", \"5\", \"6\", \"7\", \"8\", \"9\", \"10\", \"11\", \"12\", \"13\", \"14\", \"15\", \"16\", \"17\", \"18\", \"19\", \"20\", \"21\", \"22\", \"23\", \"24\", \"25\", \"26\", \"27\", \"28\", \"29\", \"30\", \"31\"], \"mode\": \"markers\", \"name\": \"r2_score\", \"stepped\": false, \"type\": \"scatter\", \"data\": [0.8228235321116265, 0.7598811864128759, 0.6356317806230067, 0.6498152233919489, 0.6257344407455507, 0.5882952276524747, 0.6257344618826527, 0.6251738525291254, 0.6500698350378005, 0.718001892039051, 0.5808334000037814, 0.664817258384348, 0.6176822681884894, 0.6231006082127097, 0.6308401353183641, 0.6068038327517702, 0.6811168224085837, 0.6393355554223962, 0.5765107758819821, 0.6683264351794427, 0.6079938403823457, 0.6678955303219721, 0.7081934351718409, 0.6656804926339835, 0.47669467831263035, 0.6359179022783755, 0.6985782799783864, 0.6386407207924079, 0.6654506364675821, 0.6069671887373027, 0.8228235321116265, 0.8226759483577928]}, {\"categories\": [\"0\", \"1\", \"2\", \"3\", \"4\", \"5\", \"6\", \"7\", \"8\", \"9\", \"10\", \"11\", \"12\", \"13\", \"14\", \"15\", \"16\", \"17\", \"18\", \"19\", \"20\", \"21\", \"22\", \"23\", \"24\", \"25\", \"26\", \"27\", \"28\", \"29\", \"30\", \"31\"], \"mode\": \"lines\", \"name\": \"r2_score_max\", \"stepped\": true, \"type\": \"scatter\", \"data\": [0.8228235321116265, 0.8228235321116265, 0.8228235321116265, 0.8228235321116265, 0.8228235321116265, 0.8228235321116265, 0.8228235321116265, 0.8228235321116265, 0.8228235321116265, 0.8228235321116265, 0.8228235321116265, 0.8228235321116265, 0.8228235321116265, 0.8228235321116265, 0.8228235321116265, 0.8228235321116265, 0.8228235321116265, 0.8228235321116265, 0.8228235321116265, 0.8228235321116265, 0.8228235321116265, 0.8228235321116265, 0.8228235321116265, 0.8228235321116265, 0.8228235321116265, 0.8228235321116265, 0.8228235321116265, 0.8228235321116265, 0.8228235321116265, 0.8228235321116265, 0.8228235321116265, 0.8228235321116265]}], \"median_absolute_error\": [{\"categories\": [\"0\", \"1\", \"2\", \"3\", \"4\", \"5\", \"6\", \"7\", \"8\", \"9\", \"10\", \"11\", \"12\", \"13\", \"14\", \"15\", \"16\", \"17\", \"18\", \"19\", \"20\", \"21\", \"22\", \"23\", \"24\", \"25\", \"26\", \"27\", \"28\", \"29\", \"30\", \"31\"], \"mode\": \"markers\", \"name\": \"median_absolute_error\", \"stepped\": false, \"type\": \"scatter\", \"data\": [21358.68757477193, 27072.5546875, 32402.971655328794, 32887.70147627416, 38346.44091583474, 43583.19055856794, 38346.43384181312, 38370.40657556664, 33770.557169637184, 26863.663003663, 38321.947389085195, 31721.41350309155, 38070.050011510146, 33686.34089339961, 33470.109007458406, 39886.495477610355, 30225.854465075157, 33565.04910504004, 38513.7350285656, 31097.023498173876, 34675.3016094706, 31009.352141769952, 28610.830395612997, 30899.175221075886, 49829.135176945056, 35161.24924862459, 30456.920753375976, 32841.21745199065, 34034.61796190924, 34579.00986193295, 21358.68757477193, 21359.12761743857]}, {\"categories\": [\"0\", \"1\", \"2\", \"3\", \"4\", \"5\", \"6\", \"7\", \"8\", \"9\", \"10\", \"11\", \"12\", \"13\", \"14\", \"15\", \"16\", \"17\", \"18\", \"19\", \"20\", \"21\", \"22\", \"23\", \"24\", \"25\", \"26\", \"27\", \"28\", \"29\", \"30\", \"31\"], \"mode\": \"lines\", \"name\": \"median_absolute_error_min\", \"stepped\": true, \"type\": \"scatter\", \"data\": [21358.68757477193, 21358.68757477193, 21358.68757477193, 21358.68757477193, 21358.68757477193, 21358.68757477193, 21358.68757477193, 21358.68757477193, 21358.68757477193, 21358.68757477193, 21358.68757477193, 21358.68757477193, 21358.68757477193, 21358.68757477193, 21358.68757477193, 21358.68757477193, 21358.68757477193, 21358.68757477193, 21358.68757477193, 21358.68757477193, 21358.68757477193, 21358.68757477193, 21358.68757477193, 21358.68757477193, 21358.68757477193, 21358.68757477193, 21358.68757477193, 21358.68757477193, 21358.68757477193, 21358.68757477193, 21358.68757477193, 21358.68757477193]}], \"root_mean_squared_error\": [{\"categories\": [\"0\", \"1\", \"2\", \"3\", \"4\", \"5\", \"6\", \"7\", \"8\", \"9\", \"10\", \"11\", \"12\", \"13\", \"14\", \"15\", \"16\", \"17\", \"18\", \"19\", \"20\", \"21\", \"22\", \"23\", \"24\", \"25\", \"26\", \"27\", \"28\", \"29\", \"30\", \"31\"], \"mode\": \"markers\", \"name\": \"root_mean_squared_error\", \"stepped\": false, \"type\": \"scatter\", \"data\": [48184.39936887613, 56094.01475818256, 69099.30434217567, 67741.07139029275, 70031.48928113565, 73450.77467725055, 70031.48730357894, 70083.91747935339, 67716.44039107382, 60789.213888565304, 74113.40472638918, 66274.16343980134, 70780.82991223683, 70277.47483309283, 69552.16754961784, 71780.76258803545, 64642.66230020072, 68747.21276581033, 74494.56902838778, 65926.32381575841, 71672.05809021459, 65969.13511484143, 61837.36269121241, 66188.76672468694, 82809.66078304943, 69072.16875639546, 62847.89003245354, 68813.40304361418, 66211.51634252603, 71765.85013931763, 48184.39936887613, 48204.463416783445]}, {\"categories\": [\"0\", \"1\", \"2\", \"3\", \"4\", \"5\", \"6\", \"7\", \"8\", \"9\", \"10\", \"11\", \"12\", \"13\", \"14\", \"15\", \"16\", \"17\", \"18\", \"19\", \"20\", \"21\", \"22\", \"23\", \"24\", \"25\", \"26\", \"27\", \"28\", \"29\", \"30\", \"31\"], \"mode\": \"lines\", \"name\": \"root_mean_squared_error_min\", \"stepped\": true, \"type\": \"scatter\", \"data\": [48184.39936887613, 48184.39936887613, 48184.39936887613, 48184.39936887613, 48184.39936887613, 48184.39936887613, 48184.39936887613, 48184.39936887613, 48184.39936887613, 48184.39936887613, 48184.39936887613, 48184.39936887613, 48184.39936887613, 48184.39936887613, 48184.39936887613, 48184.39936887613, 48184.39936887613, 48184.39936887613, 48184.39936887613, 48184.39936887613, 48184.39936887613, 48184.39936887613, 48184.39936887613, 48184.39936887613, 48184.39936887613, 48184.39936887613, 48184.39936887613, 48184.39936887613, 48184.39936887613, 48184.39936887613, 48184.39936887613, 48184.39936887613]}], \"normalized_root_mean_squared_log_error\": [{\"categories\": [\"0\", \"1\", \"2\", \"3\", \"4\", \"5\", \"6\", \"7\", \"8\", \"9\", \"10\", \"11\", \"12\", \"13\", \"14\", \"15\", \"16\", \"17\", \"18\", \"19\", \"20\", \"21\", \"22\", \"23\", \"24\", \"25\", \"26\", \"27\", \"28\", \"29\", \"30\", \"31\"], \"mode\": \"markers\", \"name\": \"normalized_root_mean_squared_log_error\", \"stepped\": false, \"type\": \"scatter\", \"data\": [0.06811054968772484, 0.07811866785655162, 0.09232141463981813, 0.089926479444263, NaN, NaN, NaN, NaN, 0.09147700750615669, 0.08259497848311331, 0.09892233344740971, 0.0874177671609605, 0.09685726396567294, 0.0940325520188335, 0.09292082719880897, NaN, 0.08661307743394407, 0.09200995519836323, 0.10035444465076761, 0.0884943071120156, 0.09593108257396664, 0.08748242441226581, 0.08374849158010253, 0.08915523965040469, 0.11543656097015677, 0.09349153147135829, 0.08447732151645962, 0.09174184955973803, 0.09007555190733722, 0.0962065022282726, 0.06811054968772484, 0.06806609136279543]}, {\"categories\": [\"0\", \"1\", \"2\", \"3\", \"4\", \"5\", \"6\", \"7\", \"8\", \"9\", \"10\", \"11\", \"12\", \"13\", \"14\", \"15\", \"16\", \"17\", \"18\", \"19\", \"20\", \"21\", \"22\", \"23\", \"24\", \"25\", \"26\", \"27\", \"28\", \"29\", \"30\", \"31\"], \"mode\": \"lines\", \"name\": \"normalized_root_mean_squared_log_error_min\", \"stepped\": true, \"type\": \"scatter\", \"data\": [0.06811054968772484, 0.06811054968772484, 0.06811054968772484, 0.06811054968772484, 0.06811054968772484, 0.06811054968772484, 0.06811054968772484, 0.06811054968772484, 0.06811054968772484, 0.06811054968772484, 0.06811054968772484, 0.06811054968772484, 0.06811054968772484, 0.06811054968772484, 0.06811054968772484, 0.06811054968772484, 0.06811054968772484, 0.06811054968772484, 0.06811054968772484, 0.06811054968772484, 0.06811054968772484, 0.06811054968772484, 0.06811054968772484, 0.06811054968772484, 0.06811054968772484, 0.06811054968772484, 0.06811054968772484, 0.06811054968772484, 0.06811054968772484, 0.06811054968772484, 0.06811054968772484, 0.06806609136279543]}], \"normalized_mean_absolute_error\": [{\"categories\": [\"0\", \"1\", \"2\", \"3\", \"4\", \"5\", \"6\", \"7\", \"8\", \"9\", \"10\", \"11\", \"12\", \"13\", \"14\", \"15\", \"16\", \"17\", \"18\", \"19\", \"20\", \"21\", \"22\", \"23\", \"24\", \"25\", \"26\", \"27\", \"28\", \"29\", \"30\", \"31\"], \"mode\": \"markers\", \"name\": \"normalized_mean_absolute_error\", \"stepped\": false, \"type\": \"scatter\", \"data\": [0.06675515129322772, 0.07947888904037219, 0.09909159675536709, 0.09739241413899133, 0.10454012620714628, 0.1128481549588283, 0.10454012219526554, 0.10461262922587193, 0.09829561196394346, 0.08383852002070476, 0.10920939207216196, 0.09453344044128725, 0.10505828760466886, 0.10157634404620446, 0.10043280068510888, 0.108090042321306, 0.09203988870816995, 0.09916636126469598, 0.10993831164521518, 0.09460687087755172, 0.10405037882489221, 0.0948044064140204, 0.08778945612381676, 0.09478138390348674, 0.12918825924668173, 0.1021831024028838, 0.0899182503119699, 0.09959668965634152, 0.09744911172554228, 0.10469420815464195, 0.06675515129322772, 0.06684322317224768]}, {\"categories\": [\"0\", \"1\", \"2\", \"3\", \"4\", \"5\", \"6\", \"7\", \"8\", \"9\", \"10\", \"11\", \"12\", \"13\", \"14\", \"15\", \"16\", \"17\", \"18\", \"19\", \"20\", \"21\", \"22\", \"23\", \"24\", \"25\", \"26\", \"27\", \"28\", \"29\", \"30\", \"31\"], \"mode\": \"lines\", \"name\": \"normalized_mean_absolute_error_min\", \"stepped\": true, \"type\": \"scatter\", \"data\": [0.06675515129322772, 0.06675515129322772, 0.06675515129322772, 0.06675515129322772, 0.06675515129322772, 0.06675515129322772, 0.06675515129322772, 0.06675515129322772, 0.06675515129322772, 0.06675515129322772, 0.06675515129322772, 0.06675515129322772, 0.06675515129322772, 0.06675515129322772, 0.06675515129322772, 0.06675515129322772, 0.06675515129322772, 0.06675515129322772, 0.06675515129322772, 0.06675515129322772, 0.06675515129322772, 0.06675515129322772, 0.06675515129322772, 0.06675515129322772, 0.06675515129322772, 0.06675515129322772, 0.06675515129322772, 0.06675515129322772, 0.06675515129322772, 0.06675515129322772, 0.06675515129322772, 0.06675515129322772]}], \"mean_absolute_percentage_error\": [{\"categories\": [\"0\", \"1\", \"2\", \"3\", \"4\", \"5\", \"6\", \"7\", \"8\", \"9\", \"10\", \"11\", \"12\", \"13\", \"14\", \"15\", \"16\", \"17\", \"18\", \"19\", \"20\", \"21\", \"22\", \"23\", \"24\", \"25\", \"26\", \"27\", \"28\", \"29\", \"30\", \"31\"], \"mode\": \"markers\", \"name\": \"mean_absolute_percentage_error\", \"stepped\": false, \"type\": \"scatter\", \"data\": [18.38221463878435, 21.734626091909842, 26.650942220697225, 26.14925377753692, 29.285505174028064, 34.04079231485214, 29.285503513528692, 29.30793528752576, 26.592430675546694, 22.569938875754215, 29.496140177854706, 25.04239634786049, 28.89024885033527, 27.233854766943715, 26.933451478772625, 30.77169742565784, 24.76521313536384, 26.563182426497598, 29.98440100121792, 25.485957873729152, 28.20241477560967, 25.093046982403397, 23.752910360548146, 25.577707333394137, 37.821555141372635, 28.26933263645117, 24.202062045795554, 26.69006557701913, 26.91921791007809, 28.26823077125896, 18.38221463878435, 18.339578280324936]}, {\"categories\": [\"0\", \"1\", \"2\", \"3\", \"4\", \"5\", \"6\", \"7\", \"8\", \"9\", \"10\", \"11\", \"12\", \"13\", \"14\", \"15\", \"16\", \"17\", \"18\", \"19\", \"20\", \"21\", \"22\", \"23\", \"24\", \"25\", \"26\", \"27\", \"28\", \"29\", \"30\", \"31\"], \"mode\": \"lines\", \"name\": \"mean_absolute_percentage_error_min\", \"stepped\": true, \"type\": \"scatter\", \"data\": [18.38221463878435, 18.38221463878435, 18.38221463878435, 18.38221463878435, 18.38221463878435, 18.38221463878435, 18.38221463878435, 18.38221463878435, 18.38221463878435, 18.38221463878435, 18.38221463878435, 18.38221463878435, 18.38221463878435, 18.38221463878435, 18.38221463878435, 18.38221463878435, 18.38221463878435, 18.38221463878435, 18.38221463878435, 18.38221463878435, 18.38221463878435, 18.38221463878435, 18.38221463878435, 18.38221463878435, 18.38221463878435, 18.38221463878435, 18.38221463878435, 18.38221463878435, 18.38221463878435, 18.38221463878435, 18.38221463878435, 18.339578280324936]}], \"mean_absolute_error\": [{\"categories\": [\"0\", \"1\", \"2\", \"3\", \"4\", \"5\", \"6\", \"7\", \"8\", \"9\", \"10\", \"11\", \"12\", \"13\", \"14\", \"15\", \"16\", \"17\", \"18\", \"19\", \"20\", \"21\", \"22\", \"23\", \"24\", \"25\", \"26\", \"27\", \"28\", \"29\", \"30\", \"31\"], \"mode\": \"markers\", \"name\": \"mean_absolute_error\", \"stepped\": false, \"type\": \"scatter\", \"data\": [32376.38188751803, 38547.42014235859, 48059.62260954655, 47235.51564223907, 50702.170290718364, 54731.58085134164, 50702.16834494818, 50737.334399806336, 47673.5683937365, 40661.84988708185, 52966.773573782695, 45848.9076809052, 50953.4796048396, 49264.73001509725, 48710.109197879174, 52423.886705918056, 44639.53010323984, 48095.88354610008, 53320.30102455265, 45884.52158935434, 50464.64183083037, 45980.32671961272, 42578.061798963376, 45969.160755958874, 62656.56411115913, 49559.00903160345, 43610.531237806026, 48304.59367670495, 47263.014085111456, 50776.900343417656, 32376.38188751803, 32419.096924986472]}, {\"categories\": [\"0\", \"1\", \"2\", \"3\", \"4\", \"5\", \"6\", \"7\", \"8\", \"9\", \"10\", \"11\", \"12\", \"13\", \"14\", \"15\", \"16\", \"17\", \"18\", \"19\", \"20\", \"21\", \"22\", \"23\", \"24\", \"25\", \"26\", \"27\", \"28\", \"29\", \"30\", \"31\"], \"mode\": \"lines\", \"name\": \"mean_absolute_error_min\", \"stepped\": true, \"type\": \"scatter\", \"data\": [32376.38188751803, 32376.38188751803, 32376.38188751803, 32376.38188751803, 32376.38188751803, 32376.38188751803, 32376.38188751803, 32376.38188751803, 32376.38188751803, 32376.38188751803, 32376.38188751803, 32376.38188751803, 32376.38188751803, 32376.38188751803, 32376.38188751803, 32376.38188751803, 32376.38188751803, 32376.38188751803, 32376.38188751803, 32376.38188751803, 32376.38188751803, 32376.38188751803, 32376.38188751803, 32376.38188751803, 32376.38188751803, 32376.38188751803, 32376.38188751803, 32376.38188751803, 32376.38188751803, 32376.38188751803, 32376.38188751803, 32376.38188751803]}], \"root_mean_squared_log_error\": [{\"categories\": [\"0\", \"1\", \"2\", \"3\", \"4\", \"5\", \"6\", \"7\", \"8\", \"9\", \"10\", \"11\", \"12\", \"13\", \"14\", \"15\", \"16\", \"17\", \"18\", \"19\", \"20\", \"21\", \"22\", \"23\", \"24\", \"25\", \"26\", \"27\", \"28\", \"29\", \"30\", \"31\"], \"mode\": \"markers\", \"name\": \"root_mean_squared_log_error\", \"stepped\": false, \"type\": \"scatter\", \"data\": [0.23883385833995038, 0.2739279441745541, 0.32373075488192676, 0.3153327663786617, NaN, NaN, NaN, NaN, 0.3207697890012111, 0.28962440445818805, 0.3468772852598774, 0.30653581147471465, 0.33963599129991745, 0.3297309640162483, 0.32583263212205427, NaN, 0.3037141171388004, 0.3226386030719629, 0.35189907183828584, 0.31031076544801856, 0.33638827892176076, 0.3067625361285267, 0.2936692695321408, 0.3126283663038274, 0.40478544625468305, 0.3278338419788089, 0.29622495681659083, 0.3216984740551053, 0.3158554981976162, 0.33735405498732085, 0.23883385833995038, 0.23867796247173456]}, {\"categories\": [\"0\", \"1\", \"2\", \"3\", \"4\", \"5\", \"6\", \"7\", \"8\", \"9\", \"10\", \"11\", \"12\", \"13\", \"14\", \"15\", \"16\", \"17\", \"18\", \"19\", \"20\", \"21\", \"22\", \"23\", \"24\", \"25\", \"26\", \"27\", \"28\", \"29\", \"30\", \"31\"], \"mode\": \"lines\", \"name\": \"root_mean_squared_log_error_min\", \"stepped\": true, \"type\": \"scatter\", \"data\": [0.23883385833995038, 0.23883385833995038, 0.23883385833995038, 0.23883385833995038, 0.23883385833995038, 0.23883385833995038, 0.23883385833995038, 0.23883385833995038, 0.23883385833995038, 0.23883385833995038, 0.23883385833995038, 0.23883385833995038, 0.23883385833995038, 0.23883385833995038, 0.23883385833995038, 0.23883385833995038, 0.23883385833995038, 0.23883385833995038, 0.23883385833995038, 0.23883385833995038, 0.23883385833995038, 0.23883385833995038, 0.23883385833995038, 0.23883385833995038, 0.23883385833995038, 0.23883385833995038, 0.23883385833995038, 0.23883385833995038, 0.23883385833995038, 0.23883385833995038, 0.23883385833995038, 0.23867796247173456]}], \"explained_variance\": [{\"categories\": [\"0\", \"1\", \"2\", \"3\", \"4\", \"5\", \"6\", \"7\", \"8\", \"9\", \"10\", \"11\", \"12\", \"13\", \"14\", \"15\", \"16\", \"17\", \"18\", \"19\", \"20\", \"21\", \"22\", \"23\", \"24\", \"25\", \"26\", \"27\", \"28\", \"29\", \"30\", \"31\"], \"mode\": \"markers\", \"name\": \"explained_variance\", \"stepped\": false, \"type\": \"scatter\", \"data\": [0.8228777634621539, 0.7598828789650702, 0.6356878892319323, 0.6498240962377305, 0.6257548926278058, 0.5882952755903988, 0.6257549137595437, 0.6251942182645045, 0.6500719825617284, 0.7180177395180242, 0.5808677873563048, 0.66484377672206, 0.6176914832207585, 0.6231016393253606, 0.6308411771845095, 0.6068084528740112, 0.6811765151749188, 0.6393553960752769, 0.5765253548425968, 0.6683454444417753, 0.6079955153121385, 0.6679222955622597, 0.708215154205643, 0.6657365021274755, 0.47670995646558034, 0.635918851436248, 0.6986559667189167, 0.6386432941444629, 0.6654575491188615, 0.6070098007933282, 0.8228777634621539, 0.8227814152061328]}, {\"categories\": [\"0\", \"1\", \"2\", \"3\", \"4\", \"5\", \"6\", \"7\", \"8\", \"9\", \"10\", \"11\", \"12\", \"13\", \"14\", \"15\", \"16\", \"17\", \"18\", \"19\", \"20\", \"21\", \"22\", \"23\", \"24\", \"25\", \"26\", \"27\", \"28\", \"29\", \"30\", \"31\"], \"mode\": \"lines\", \"name\": \"explained_variance_max\", \"stepped\": true, \"type\": \"scatter\", \"data\": [0.8228777634621539, 0.8228777634621539, 0.8228777634621539, 0.8228777634621539, 0.8228777634621539, 0.8228777634621539, 0.8228777634621539, 0.8228777634621539, 0.8228777634621539, 0.8228777634621539, 0.8228777634621539, 0.8228777634621539, 0.8228777634621539, 0.8228777634621539, 0.8228777634621539, 0.8228777634621539, 0.8228777634621539, 0.8228777634621539, 0.8228777634621539, 0.8228777634621539, 0.8228777634621539, 0.8228777634621539, 0.8228777634621539, 0.8228777634621539, 0.8228777634621539, 0.8228777634621539, 0.8228777634621539, 0.8228777634621539, 0.8228777634621539, 0.8228777634621539, 0.8228777634621539, 0.8228777634621539]}], \"normalized_median_absolute_error\": [{\"categories\": [\"0\", \"1\", \"2\", \"3\", \"4\", \"5\", \"6\", \"7\", \"8\", \"9\", \"10\", \"11\", \"12\", \"13\", \"14\", \"15\", \"16\", \"17\", \"18\", \"19\", \"20\", \"21\", \"22\", \"23\", \"24\", \"25\", \"26\", \"27\", \"28\", \"29\", \"30\", \"31\"], \"mode\": \"markers\", \"name\": \"normalized_median_absolute_error\", \"stepped\": false, \"type\": \"scatter\", \"data\": [0.04403834948056282, 0.055819470203215656, 0.06680997533067656, 0.06780941413906368, 0.0790645005914094, 0.08986187800992149, 0.07906448600585796, 0.07911391411904825, 0.06962972764985956, 0.05538876747655268, 0.07901399868265532, 0.06540470658490388, 0.07849462478816613, 0.06945608655922988, 0.06901024945764843, 0.08223985772761835, 0.06232109241833056, 0.06920600142894263, 0.07940943548390646, 0.06411730982176131, 0.07149517241056863, 0.06393654488387666, 0.058991159615038695, 0.06370937691200425, 0.10274006123056205, 0.07249712217397988, 0.06279751579040081, 0.06771357118525417, 0.07017418064649061, 0.07129663354364095, 0.04403834948056282, 0.04403925678128868]}, {\"categories\": [\"0\", \"1\", \"2\", \"3\", \"4\", \"5\", \"6\", \"7\", \"8\", \"9\", \"10\", \"11\", \"12\", \"13\", \"14\", \"15\", \"16\", \"17\", \"18\", \"19\", \"20\", \"21\", \"22\", \"23\", \"24\", \"25\", \"26\", \"27\", \"28\", \"29\", \"30\", \"31\"], \"mode\": \"lines\", \"name\": \"normalized_median_absolute_error_min\", \"stepped\": true, \"type\": \"scatter\", \"data\": [0.04403834948056282, 0.04403834948056282, 0.04403834948056282, 0.04403834948056282, 0.04403834948056282, 0.04403834948056282, 0.04403834948056282, 0.04403834948056282, 0.04403834948056282, 0.04403834948056282, 0.04403834948056282, 0.04403834948056282, 0.04403834948056282, 0.04403834948056282, 0.04403834948056282, 0.04403834948056282, 0.04403834948056282, 0.04403834948056282, 0.04403834948056282, 0.04403834948056282, 0.04403834948056282, 0.04403834948056282, 0.04403834948056282, 0.04403834948056282, 0.04403834948056282, 0.04403834948056282, 0.04403834948056282, 0.04403834948056282, 0.04403834948056282, 0.04403834948056282, 0.04403834948056282, 0.04403834948056282]}]}, \"metricName\": null, \"primaryMetricName\": \"normalized_root_mean_squared_error\", \"showLegend\": false}, \"run_metrics\": [{\"name\": \"experiment_status\", \"run_id\": \"AutoML_ab9d4fbb-757d-4bd6-bd50-644a4fe1ed05\", \"categories\": [0, 1, 2, 3, 4, 5, 6, 7, 8, 9, 10, 11, 12], \"series\": [{\"data\": [\"DatasetEvaluation\", \"FeaturesGeneration\", \"DatasetFeaturization\", \"DatasetFeaturizationCompleted\", \"ModelSelection\", \"BestRunExplainModel\", \"ModelExplanationDataSetSetup\", \"PickSurrogateModel\", \"EngineeredFeatureExplanations\", \"EngineeredFeatureExplanations\", \"RawFeaturesExplanations\", \"RawFeaturesExplanations\", \"BestRunExplainModel\"]}]}, {\"name\": \"experiment_status_description\", \"run_id\": \"AutoML_ab9d4fbb-757d-4bd6-bd50-644a4fe1ed05\", \"categories\": [0, 1, 2, 3, 4, 5, 6, 7, 8, 9, 10, 11, 12], \"series\": [{\"data\": [\"Gathering dataset statistics.\", \"Generating features for the dataset.\", \"Beginning to fit featurizers and featurize the dataset.\", \"Completed fit featurizers and featurizing the dataset.\", \"Beginning model selection.\", \"Best run model explanations started\", \"Model explanations data setup completed\", \"Choosing LightGBM as the surrogate model for explanations\", \"Computation of engineered features started\", \"Computation of engineered features completed\", \"Computation of raw features started\", \"Computation of raw features completed\", \"Best run model explanations completed\"]}]}, {\"name\": \"spearman_correlation\", \"run_id\": \"AutoML_ab9d4fbb-757d-4bd6-bd50-644a4fe1ed05\", \"categories\": [0], \"series\": [{\"data\": [0.9138951035775631]}]}, {\"name\": \"normalized_root_mean_squared_error\", \"run_id\": \"AutoML_ab9d4fbb-757d-4bd6-bd50-644a4fe1ed05\", \"categories\": [0], \"series\": [{\"data\": [0.09934886736317816]}]}, {\"name\": \"r2_score\", \"run_id\": \"AutoML_ab9d4fbb-757d-4bd6-bd50-644a4fe1ed05\", \"categories\": [0], \"series\": [{\"data\": [0.8228235321116265]}]}, {\"name\": \"median_absolute_error\", \"run_id\": \"AutoML_ab9d4fbb-757d-4bd6-bd50-644a4fe1ed05\", \"categories\": [0], \"series\": [{\"data\": [21358.68757477193]}]}, {\"name\": \"root_mean_squared_error\", \"run_id\": \"AutoML_ab9d4fbb-757d-4bd6-bd50-644a4fe1ed05\", \"categories\": [0], \"series\": [{\"data\": [48184.39936887613]}]}, {\"name\": \"normalized_root_mean_squared_log_error\", \"run_id\": \"AutoML_ab9d4fbb-757d-4bd6-bd50-644a4fe1ed05\", \"categories\": [0], \"series\": [{\"data\": [0.06811054968772484]}]}, {\"name\": \"normalized_mean_absolute_error\", \"run_id\": \"AutoML_ab9d4fbb-757d-4bd6-bd50-644a4fe1ed05\", \"categories\": [0], \"series\": [{\"data\": [0.06675515129322772]}]}, {\"name\": \"mean_absolute_percentage_error\", \"run_id\": \"AutoML_ab9d4fbb-757d-4bd6-bd50-644a4fe1ed05\", \"categories\": [0], \"series\": [{\"data\": [18.38221463878435]}]}, {\"name\": \"mean_absolute_error\", \"run_id\": \"AutoML_ab9d4fbb-757d-4bd6-bd50-644a4fe1ed05\", \"categories\": [0], \"series\": [{\"data\": [32376.38188751803]}]}, {\"name\": \"root_mean_squared_log_error\", \"run_id\": \"AutoML_ab9d4fbb-757d-4bd6-bd50-644a4fe1ed05\", \"categories\": [0], \"series\": [{\"data\": [0.23883385833995038]}]}, {\"name\": \"explained_variance\", \"run_id\": \"AutoML_ab9d4fbb-757d-4bd6-bd50-644a4fe1ed05\", \"categories\": [0], \"series\": [{\"data\": [0.8228777634621539]}]}, {\"name\": \"normalized_median_absolute_error\", \"run_id\": \"AutoML_ab9d4fbb-757d-4bd6-bd50-644a4fe1ed05\", \"categories\": [0], \"series\": [{\"data\": [0.04403834948056282]}]}], \"run_logs\": \"\\nRun is completed.\", \"graph\": {}, \"widget_settings\": {\"childWidgetDisplay\": \"popup\", \"send_telemetry\": false, \"log_level\": \"INFO\", \"sdk_version\": \"1.18.0\"}, \"loading\": false}"
          },
          "metadata": {}
        }
      ],
      "execution_count": 15,
      "metadata": {
        "gather": {
          "logged": 1606200546908
        },
        "jupyter": {
          "outputs_hidden": false,
          "source_hidden": false
        },
        "nteract": {
          "transient": {
            "deleting": false
          }
        },
        "id": "R6C_yJLLQfAB"
      }
    },
    {
      "cell_type": "code",
      "source": [
        "automl_run.wait_for_completion()"
      ],
      "outputs": [
        {
          "output_type": "execute_result",
          "execution_count": 16,
          "data": {
            "text/plain": "{'runId': 'AutoML_ab9d4fbb-757d-4bd6-bd50-644a4fe1ed05',\n 'target': 'notebook127655',\n 'status': 'Completed',\n 'startTimeUtc': '2020-11-24T06:17:20.070534Z',\n 'endTimeUtc': '2020-11-24T06:48:54.757383Z',\n 'properties': {'num_iterations': '1000',\n  'training_type': 'TrainFull',\n  'acquisition_function': 'EI',\n  'primary_metric': 'normalized_root_mean_squared_error',\n  'train_split': '0',\n  'acquisition_parameter': '0',\n  'num_cross_validation': None,\n  'target': 'notebook127655',\n  'AMLSettingsJsonString': '{\"path\":null,\"name\":\"automl_housing\",\"subscription_id\":\"fb968fd6-afa4-4fb2-8296-1d0120d715b4\",\"resource_group\":\"aml-quickstarts-127655\",\"workspace_name\":\"quick-starts-ws-127655\",\"region\":\"southcentralus\",\"compute_target\":\"notebook127655\",\"spark_service\":null,\"azure_service\":\"remote\",\"_local_managed_run_id\":null,\"many_models\":false,\"pipeline_fetch_max_batch_size\":1,\"iterations\":1000,\"primary_metric\":\"normalized_root_mean_squared_error\",\"task_type\":\"regression\",\"data_script\":null,\"validation_size\":0.0,\"n_cross_validations\":null,\"y_min\":null,\"y_max\":null,\"num_classes\":null,\"featurization\":\"auto\",\"_ignore_package_version_incompatibilities\":false,\"is_timeseries\":false,\"max_cores_per_iteration\":1,\"max_concurrent_iterations\":1,\"iteration_timeout_minutes\":null,\"mem_in_mb\":null,\"enforce_time_on_windows\":false,\"experiment_timeout_minutes\":30,\"experiment_exit_score\":null,\"whitelist_models\":null,\"blacklist_algos\":[\"TensorFlowDNN\",\"TensorFlowLinearRegressor\"],\"supported_models\":[\"FastLinearRegressor\",\"KNN\",\"RandomForest\",\"ElasticNet\",\"XGBoostRegressor\",\"DecisionTree\",\"GradientBoosting\",\"LassoLars\",\"LightGBM\",\"OnlineGradientDescentRegressor\",\"ExtremeRandomTrees\",\"TensorFlowLinearRegressor\",\"TensorFlowDNN\",\"SGD\"],\"auto_blacklist\":true,\"blacklist_samples_reached\":false,\"exclude_nan_labels\":true,\"verbosity\":20,\"_debug_log\":\"azureml_automl.log\",\"show_warnings\":false,\"model_explainability\":true,\"service_url\":null,\"sdk_url\":null,\"sdk_packages\":null,\"enable_onnx_compatible_models\":false,\"enable_split_onnx_featurizer_estimator_models\":false,\"vm_type\":\"STANDARD_DS3_V2\",\"telemetry_verbosity\":20,\"send_telemetry\":true,\"enable_dnn\":false,\"scenario\":\"SDK-1.13.0\",\"environment_label\":null,\"force_text_dnn\":false,\"enable_feature_sweeping\":true,\"enable_early_stopping\":true,\"early_stopping_n_iters\":10,\"metrics\":null,\"enable_ensembling\":true,\"enable_stack_ensembling\":true,\"ensemble_iterations\":15,\"enable_tf\":false,\"enable_subsampling\":null,\"subsample_seed\":null,\"enable_nimbusml\":false,\"enable_streaming\":false,\"force_streaming\":false,\"track_child_runs\":true,\"allowed_private_models\":[],\"label_column_name\":\"median_house_value\",\"weight_column_name\":null,\"cv_split_column_names\":null,\"enable_local_managed\":false,\"cost_mode\":1,\"lag_length\":0,\"metric_operation\":\"minimize\",\"preprocess\":true}',\n  'DataPrepJsonString': '{\\\\\"training_data\\\\\": \\\\\"{\\\\\\\\\\\\\"blocks\\\\\\\\\\\\\": [{\\\\\\\\\\\\\"id\\\\\\\\\\\\\": \\\\\\\\\\\\\"ad68fa4c-6179-4e2d-8088-1c8d9020a962\\\\\\\\\\\\\", \\\\\\\\\\\\\"type\\\\\\\\\\\\\": \\\\\\\\\\\\\"Microsoft.DPrep.GetDatastoreFilesBlock\\\\\\\\\\\\\", \\\\\\\\\\\\\"arguments\\\\\\\\\\\\\": {\\\\\\\\\\\\\"datastores\\\\\\\\\\\\\": [{\\\\\\\\\\\\\"datastoreName\\\\\\\\\\\\\": \\\\\\\\\\\\\"workspaceblobstore\\\\\\\\\\\\\", \\\\\\\\\\\\\"path\\\\\\\\\\\\\": \\\\\\\\\\\\\"trainset.csv\\\\\\\\\\\\\", \\\\\\\\\\\\\"resourceGroup\\\\\\\\\\\\\": \\\\\\\\\\\\\"aml-quickstarts-127655\\\\\\\\\\\\\", \\\\\\\\\\\\\"subscription\\\\\\\\\\\\\": \\\\\\\\\\\\\"fb968fd6-afa4-4fb2-8296-1d0120d715b4\\\\\\\\\\\\\", \\\\\\\\\\\\\"workspaceName\\\\\\\\\\\\\": \\\\\\\\\\\\\"quick-starts-ws-127655\\\\\\\\\\\\\"}]}, \\\\\\\\\\\\\"localData\\\\\\\\\\\\\": {}, \\\\\\\\\\\\\"isEnabled\\\\\\\\\\\\\": true, \\\\\\\\\\\\\"name\\\\\\\\\\\\\": null, \\\\\\\\\\\\\"annotation\\\\\\\\\\\\\": null}, {\\\\\\\\\\\\\"id\\\\\\\\\\\\\": \\\\\\\\\\\\\"e0b2b123-28c5-4fc6-9ca6-808ad0c728f2\\\\\\\\\\\\\", \\\\\\\\\\\\\"type\\\\\\\\\\\\\": \\\\\\\\\\\\\"Microsoft.DPrep.ParseDelimitedBlock\\\\\\\\\\\\\", \\\\\\\\\\\\\"arguments\\\\\\\\\\\\\": {\\\\\\\\\\\\\"columnHeadersMode\\\\\\\\\\\\\": 3, \\\\\\\\\\\\\"fileEncoding\\\\\\\\\\\\\": 0, \\\\\\\\\\\\\"handleQuotedLineBreaks\\\\\\\\\\\\\": false, \\\\\\\\\\\\\"preview\\\\\\\\\\\\\": false, \\\\\\\\\\\\\"separator\\\\\\\\\\\\\": \\\\\\\\\\\\\",\\\\\\\\\\\\\", \\\\\\\\\\\\\"skipRows\\\\\\\\\\\\\": 0, \\\\\\\\\\\\\"skipRowsMode\\\\\\\\\\\\\": 0}, \\\\\\\\\\\\\"localData\\\\\\\\\\\\\": {}, \\\\\\\\\\\\\"isEnabled\\\\\\\\\\\\\": true, \\\\\\\\\\\\\"name\\\\\\\\\\\\\": null, \\\\\\\\\\\\\"annotation\\\\\\\\\\\\\": null}, {\\\\\\\\\\\\\"id\\\\\\\\\\\\\": \\\\\\\\\\\\\"2d9ae195-4be3-4649-ad9d-3bd7980ec30f\\\\\\\\\\\\\", \\\\\\\\\\\\\"type\\\\\\\\\\\\\": \\\\\\\\\\\\\"Microsoft.DPrep.DropColumnsBlock\\\\\\\\\\\\\", \\\\\\\\\\\\\"arguments\\\\\\\\\\\\\": {\\\\\\\\\\\\\"columns\\\\\\\\\\\\\": {\\\\\\\\\\\\\"type\\\\\\\\\\\\\": 0, \\\\\\\\\\\\\"details\\\\\\\\\\\\\": {\\\\\\\\\\\\\"selectedColumns\\\\\\\\\\\\\": [\\\\\\\\\\\\\"Path\\\\\\\\\\\\\"]}}}, \\\\\\\\\\\\\"localData\\\\\\\\\\\\\": {}, \\\\\\\\\\\\\"isEnabled\\\\\\\\\\\\\": true, \\\\\\\\\\\\\"name\\\\\\\\\\\\\": null, \\\\\\\\\\\\\"annotation\\\\\\\\\\\\\": null}, {\\\\\\\\\\\\\"id\\\\\\\\\\\\\": \\\\\\\\\\\\\"0595e091-17eb-4be3-a38b-ca73b34af940\\\\\\\\\\\\\", \\\\\\\\\\\\\"type\\\\\\\\\\\\\": \\\\\\\\\\\\\"Microsoft.DPrep.SetColumnTypesBlock\\\\\\\\\\\\\", \\\\\\\\\\\\\"arguments\\\\\\\\\\\\\": {\\\\\\\\\\\\\"columnConversion\\\\\\\\\\\\\": [{\\\\\\\\\\\\\"column\\\\\\\\\\\\\": {\\\\\\\\\\\\\"type\\\\\\\\\\\\\": 2, \\\\\\\\\\\\\"details\\\\\\\\\\\\\": {\\\\\\\\\\\\\"selectedColumn\\\\\\\\\\\\\": \\\\\\\\\\\\\"longitude\\\\\\\\\\\\\"}}, \\\\\\\\\\\\\"typeProperty\\\\\\\\\\\\\": 3}, {\\\\\\\\\\\\\"column\\\\\\\\\\\\\": {\\\\\\\\\\\\\"type\\\\\\\\\\\\\": 2, \\\\\\\\\\\\\"details\\\\\\\\\\\\\": {\\\\\\\\\\\\\"selectedColumn\\\\\\\\\\\\\": \\\\\\\\\\\\\"latitude\\\\\\\\\\\\\"}}, \\\\\\\\\\\\\"typeProperty\\\\\\\\\\\\\": 3}, {\\\\\\\\\\\\\"column\\\\\\\\\\\\\": {\\\\\\\\\\\\\"type\\\\\\\\\\\\\": 2, \\\\\\\\\\\\\"details\\\\\\\\\\\\\": {\\\\\\\\\\\\\"selectedColumn\\\\\\\\\\\\\": \\\\\\\\\\\\\"housing_median_age\\\\\\\\\\\\\"}}, \\\\\\\\\\\\\"typeProperty\\\\\\\\\\\\\": 3}, {\\\\\\\\\\\\\"column\\\\\\\\\\\\\": {\\\\\\\\\\\\\"type\\\\\\\\\\\\\": 2, \\\\\\\\\\\\\"details\\\\\\\\\\\\\": {\\\\\\\\\\\\\"selectedColumn\\\\\\\\\\\\\": \\\\\\\\\\\\\"total_rooms\\\\\\\\\\\\\"}}, \\\\\\\\\\\\\"typeProperty\\\\\\\\\\\\\": 3}, {\\\\\\\\\\\\\"column\\\\\\\\\\\\\": {\\\\\\\\\\\\\"type\\\\\\\\\\\\\": 2, \\\\\\\\\\\\\"details\\\\\\\\\\\\\": {\\\\\\\\\\\\\"selectedColumn\\\\\\\\\\\\\": \\\\\\\\\\\\\"total_bedrooms\\\\\\\\\\\\\"}}, \\\\\\\\\\\\\"typeProperty\\\\\\\\\\\\\": 3}, {\\\\\\\\\\\\\"column\\\\\\\\\\\\\": {\\\\\\\\\\\\\"type\\\\\\\\\\\\\": 2, \\\\\\\\\\\\\"details\\\\\\\\\\\\\": {\\\\\\\\\\\\\"selectedColumn\\\\\\\\\\\\\": \\\\\\\\\\\\\"population\\\\\\\\\\\\\"}}, \\\\\\\\\\\\\"typeProperty\\\\\\\\\\\\\": 3}, {\\\\\\\\\\\\\"column\\\\\\\\\\\\\": {\\\\\\\\\\\\\"type\\\\\\\\\\\\\": 2, \\\\\\\\\\\\\"details\\\\\\\\\\\\\": {\\\\\\\\\\\\\"selectedColumn\\\\\\\\\\\\\": \\\\\\\\\\\\\"households\\\\\\\\\\\\\"}}, \\\\\\\\\\\\\"typeProperty\\\\\\\\\\\\\": 3}, {\\\\\\\\\\\\\"column\\\\\\\\\\\\\": {\\\\\\\\\\\\\"type\\\\\\\\\\\\\": 2, \\\\\\\\\\\\\"details\\\\\\\\\\\\\": {\\\\\\\\\\\\\"selectedColumn\\\\\\\\\\\\\": \\\\\\\\\\\\\"median_income\\\\\\\\\\\\\"}}, \\\\\\\\\\\\\"typeProperty\\\\\\\\\\\\\": 3}, {\\\\\\\\\\\\\"column\\\\\\\\\\\\\": {\\\\\\\\\\\\\"type\\\\\\\\\\\\\": 2, \\\\\\\\\\\\\"details\\\\\\\\\\\\\": {\\\\\\\\\\\\\"selectedColumn\\\\\\\\\\\\\": \\\\\\\\\\\\\"median_house_value\\\\\\\\\\\\\"}}, \\\\\\\\\\\\\"typeProperty\\\\\\\\\\\\\": 3}, {\\\\\\\\\\\\\"column\\\\\\\\\\\\\": {\\\\\\\\\\\\\"type\\\\\\\\\\\\\": 2, \\\\\\\\\\\\\"details\\\\\\\\\\\\\": {\\\\\\\\\\\\\"selectedColumn\\\\\\\\\\\\\": \\\\\\\\\\\\\"ocp_<1H OCEAN\\\\\\\\\\\\\"}}, \\\\\\\\\\\\\"typeProperty\\\\\\\\\\\\\": 2}, {\\\\\\\\\\\\\"column\\\\\\\\\\\\\": {\\\\\\\\\\\\\"type\\\\\\\\\\\\\": 2, \\\\\\\\\\\\\"details\\\\\\\\\\\\\": {\\\\\\\\\\\\\"selectedColumn\\\\\\\\\\\\\": \\\\\\\\\\\\\"ocp_INLAND\\\\\\\\\\\\\"}}, \\\\\\\\\\\\\"typeProperty\\\\\\\\\\\\\": 2}, {\\\\\\\\\\\\\"column\\\\\\\\\\\\\": {\\\\\\\\\\\\\"type\\\\\\\\\\\\\": 2, \\\\\\\\\\\\\"details\\\\\\\\\\\\\": {\\\\\\\\\\\\\"selectedColumn\\\\\\\\\\\\\": \\\\\\\\\\\\\"ocp_ISLAND\\\\\\\\\\\\\"}}, \\\\\\\\\\\\\"typeProperty\\\\\\\\\\\\\": 2}, {\\\\\\\\\\\\\"column\\\\\\\\\\\\\": {\\\\\\\\\\\\\"type\\\\\\\\\\\\\": 2, \\\\\\\\\\\\\"details\\\\\\\\\\\\\": {\\\\\\\\\\\\\"selectedColumn\\\\\\\\\\\\\": \\\\\\\\\\\\\"ocp_NEAR BAY\\\\\\\\\\\\\"}}, \\\\\\\\\\\\\"typeProperty\\\\\\\\\\\\\": 2}, {\\\\\\\\\\\\\"column\\\\\\\\\\\\\": {\\\\\\\\\\\\\"type\\\\\\\\\\\\\": 2, \\\\\\\\\\\\\"details\\\\\\\\\\\\\": {\\\\\\\\\\\\\"selectedColumn\\\\\\\\\\\\\": \\\\\\\\\\\\\"ocp_NEAR OCEAN\\\\\\\\\\\\\"}}, \\\\\\\\\\\\\"typeProperty\\\\\\\\\\\\\": 2}]}, \\\\\\\\\\\\\"localData\\\\\\\\\\\\\": {}, \\\\\\\\\\\\\"isEnabled\\\\\\\\\\\\\": true, \\\\\\\\\\\\\"name\\\\\\\\\\\\\": null, \\\\\\\\\\\\\"annotation\\\\\\\\\\\\\": null}], \\\\\\\\\\\\\"inspectors\\\\\\\\\\\\\": [], \\\\\\\\\\\\\"meta\\\\\\\\\\\\\": {\\\\\\\\\\\\\"savedDatasetId\\\\\\\\\\\\\": \\\\\\\\\\\\\"bac9b40d-f3d4-46f1-97c6-305561a98b67\\\\\\\\\\\\\", \\\\\\\\\\\\\"datasetType\\\\\\\\\\\\\": \\\\\\\\\\\\\"tabular\\\\\\\\\\\\\", \\\\\\\\\\\\\"subscriptionId\\\\\\\\\\\\\": \\\\\\\\\\\\\"fb968fd6-afa4-4fb2-8296-1d0120d715b4\\\\\\\\\\\\\", \\\\\\\\\\\\\"workspaceId\\\\\\\\\\\\\": \\\\\\\\\\\\\"87db0648-5721-45db-aab0-1b36a45128d2\\\\\\\\\\\\\", \\\\\\\\\\\\\"workspaceLocation\\\\\\\\\\\\\": \\\\\\\\\\\\\"southcentralus\\\\\\\\\\\\\"}}\\\\\", \\\\\"validation_data\\\\\": \\\\\"{\\\\\\\\\\\\\"blocks\\\\\\\\\\\\\": [{\\\\\\\\\\\\\"id\\\\\\\\\\\\\": \\\\\\\\\\\\\"b4aac5c8-a78c-49a4-b70c-0da4d35a0f05\\\\\\\\\\\\\", \\\\\\\\\\\\\"type\\\\\\\\\\\\\": \\\\\\\\\\\\\"Microsoft.DPrep.GetDatastoreFilesBlock\\\\\\\\\\\\\", \\\\\\\\\\\\\"arguments\\\\\\\\\\\\\": {\\\\\\\\\\\\\"datastores\\\\\\\\\\\\\": [{\\\\\\\\\\\\\"datastoreName\\\\\\\\\\\\\": \\\\\\\\\\\\\"workspaceblobstore\\\\\\\\\\\\\", \\\\\\\\\\\\\"path\\\\\\\\\\\\\": \\\\\\\\\\\\\"testset.csv\\\\\\\\\\\\\", \\\\\\\\\\\\\"resourceGroup\\\\\\\\\\\\\": \\\\\\\\\\\\\"aml-quickstarts-127655\\\\\\\\\\\\\", \\\\\\\\\\\\\"subscription\\\\\\\\\\\\\": \\\\\\\\\\\\\"fb968fd6-afa4-4fb2-8296-1d0120d715b4\\\\\\\\\\\\\", \\\\\\\\\\\\\"workspaceName\\\\\\\\\\\\\": \\\\\\\\\\\\\"quick-starts-ws-127655\\\\\\\\\\\\\"}]}, \\\\\\\\\\\\\"localData\\\\\\\\\\\\\": {}, \\\\\\\\\\\\\"isEnabled\\\\\\\\\\\\\": true, \\\\\\\\\\\\\"name\\\\\\\\\\\\\": null, \\\\\\\\\\\\\"annotation\\\\\\\\\\\\\": null}, {\\\\\\\\\\\\\"id\\\\\\\\\\\\\": \\\\\\\\\\\\\"d6a9ebea-ac3d-4b25-bc2d-56f0ec4f5e34\\\\\\\\\\\\\", \\\\\\\\\\\\\"type\\\\\\\\\\\\\": \\\\\\\\\\\\\"Microsoft.DPrep.ParseDelimitedBlock\\\\\\\\\\\\\", \\\\\\\\\\\\\"arguments\\\\\\\\\\\\\": {\\\\\\\\\\\\\"columnHeadersMode\\\\\\\\\\\\\": 3, \\\\\\\\\\\\\"fileEncoding\\\\\\\\\\\\\": 0, \\\\\\\\\\\\\"handleQuotedLineBreaks\\\\\\\\\\\\\": false, \\\\\\\\\\\\\"preview\\\\\\\\\\\\\": false, \\\\\\\\\\\\\"separator\\\\\\\\\\\\\": \\\\\\\\\\\\\",\\\\\\\\\\\\\", \\\\\\\\\\\\\"skipRows\\\\\\\\\\\\\": 0, \\\\\\\\\\\\\"skipRowsMode\\\\\\\\\\\\\": 0}, \\\\\\\\\\\\\"localData\\\\\\\\\\\\\": {}, \\\\\\\\\\\\\"isEnabled\\\\\\\\\\\\\": true, \\\\\\\\\\\\\"name\\\\\\\\\\\\\": null, \\\\\\\\\\\\\"annotation\\\\\\\\\\\\\": null}, {\\\\\\\\\\\\\"id\\\\\\\\\\\\\": \\\\\\\\\\\\\"75a55a14-e4c0-400a-ba6c-0f78ac8334b1\\\\\\\\\\\\\", \\\\\\\\\\\\\"type\\\\\\\\\\\\\": \\\\\\\\\\\\\"Microsoft.DPrep.DropColumnsBlock\\\\\\\\\\\\\", \\\\\\\\\\\\\"arguments\\\\\\\\\\\\\": {\\\\\\\\\\\\\"columns\\\\\\\\\\\\\": {\\\\\\\\\\\\\"type\\\\\\\\\\\\\": 0, \\\\\\\\\\\\\"details\\\\\\\\\\\\\": {\\\\\\\\\\\\\"selectedColumns\\\\\\\\\\\\\": [\\\\\\\\\\\\\"Path\\\\\\\\\\\\\"]}}}, \\\\\\\\\\\\\"localData\\\\\\\\\\\\\": {}, \\\\\\\\\\\\\"isEnabled\\\\\\\\\\\\\": true, \\\\\\\\\\\\\"name\\\\\\\\\\\\\": null, \\\\\\\\\\\\\"annotation\\\\\\\\\\\\\": null}, {\\\\\\\\\\\\\"id\\\\\\\\\\\\\": \\\\\\\\\\\\\"3e9c2ae0-3387-4777-9fae-75fc34fc5731\\\\\\\\\\\\\", \\\\\\\\\\\\\"type\\\\\\\\\\\\\": \\\\\\\\\\\\\"Microsoft.DPrep.SetColumnTypesBlock\\\\\\\\\\\\\", \\\\\\\\\\\\\"arguments\\\\\\\\\\\\\": {\\\\\\\\\\\\\"columnConversion\\\\\\\\\\\\\": [{\\\\\\\\\\\\\"column\\\\\\\\\\\\\": {\\\\\\\\\\\\\"type\\\\\\\\\\\\\": 2, \\\\\\\\\\\\\"details\\\\\\\\\\\\\": {\\\\\\\\\\\\\"selectedColumn\\\\\\\\\\\\\": \\\\\\\\\\\\\"longitude\\\\\\\\\\\\\"}}, \\\\\\\\\\\\\"typeProperty\\\\\\\\\\\\\": 3}, {\\\\\\\\\\\\\"column\\\\\\\\\\\\\": {\\\\\\\\\\\\\"type\\\\\\\\\\\\\": 2, \\\\\\\\\\\\\"details\\\\\\\\\\\\\": {\\\\\\\\\\\\\"selectedColumn\\\\\\\\\\\\\": \\\\\\\\\\\\\"latitude\\\\\\\\\\\\\"}}, \\\\\\\\\\\\\"typeProperty\\\\\\\\\\\\\": 3}, {\\\\\\\\\\\\\"column\\\\\\\\\\\\\": {\\\\\\\\\\\\\"type\\\\\\\\\\\\\": 2, \\\\\\\\\\\\\"details\\\\\\\\\\\\\": {\\\\\\\\\\\\\"selectedColumn\\\\\\\\\\\\\": \\\\\\\\\\\\\"housing_median_age\\\\\\\\\\\\\"}}, \\\\\\\\\\\\\"typeProperty\\\\\\\\\\\\\": 3}, {\\\\\\\\\\\\\"column\\\\\\\\\\\\\": {\\\\\\\\\\\\\"type\\\\\\\\\\\\\": 2, \\\\\\\\\\\\\"details\\\\\\\\\\\\\": {\\\\\\\\\\\\\"selectedColumn\\\\\\\\\\\\\": \\\\\\\\\\\\\"total_rooms\\\\\\\\\\\\\"}}, \\\\\\\\\\\\\"typeProperty\\\\\\\\\\\\\": 3}, {\\\\\\\\\\\\\"column\\\\\\\\\\\\\": {\\\\\\\\\\\\\"type\\\\\\\\\\\\\": 2, \\\\\\\\\\\\\"details\\\\\\\\\\\\\": {\\\\\\\\\\\\\"selectedColumn\\\\\\\\\\\\\": \\\\\\\\\\\\\"total_bedrooms\\\\\\\\\\\\\"}}, \\\\\\\\\\\\\"typeProperty\\\\\\\\\\\\\": 0}, {\\\\\\\\\\\\\"column\\\\\\\\\\\\\": {\\\\\\\\\\\\\"type\\\\\\\\\\\\\": 2, \\\\\\\\\\\\\"details\\\\\\\\\\\\\": {\\\\\\\\\\\\\"selectedColumn\\\\\\\\\\\\\": \\\\\\\\\\\\\"population\\\\\\\\\\\\\"}}, \\\\\\\\\\\\\"typeProperty\\\\\\\\\\\\\": 3}, {\\\\\\\\\\\\\"column\\\\\\\\\\\\\": {\\\\\\\\\\\\\"type\\\\\\\\\\\\\": 2, \\\\\\\\\\\\\"details\\\\\\\\\\\\\": {\\\\\\\\\\\\\"selectedColumn\\\\\\\\\\\\\": \\\\\\\\\\\\\"households\\\\\\\\\\\\\"}}, \\\\\\\\\\\\\"typeProperty\\\\\\\\\\\\\": 3}, {\\\\\\\\\\\\\"column\\\\\\\\\\\\\": {\\\\\\\\\\\\\"type\\\\\\\\\\\\\": 2, \\\\\\\\\\\\\"details\\\\\\\\\\\\\": {\\\\\\\\\\\\\"selectedColumn\\\\\\\\\\\\\": \\\\\\\\\\\\\"median_income\\\\\\\\\\\\\"}}, \\\\\\\\\\\\\"typeProperty\\\\\\\\\\\\\": 3}, {\\\\\\\\\\\\\"column\\\\\\\\\\\\\": {\\\\\\\\\\\\\"type\\\\\\\\\\\\\": 2, \\\\\\\\\\\\\"details\\\\\\\\\\\\\": {\\\\\\\\\\\\\"selectedColumn\\\\\\\\\\\\\": \\\\\\\\\\\\\"median_house_value\\\\\\\\\\\\\"}}, \\\\\\\\\\\\\"typeProperty\\\\\\\\\\\\\": 3}, {\\\\\\\\\\\\\"column\\\\\\\\\\\\\": {\\\\\\\\\\\\\"type\\\\\\\\\\\\\": 2, \\\\\\\\\\\\\"details\\\\\\\\\\\\\": {\\\\\\\\\\\\\"selectedColumn\\\\\\\\\\\\\": \\\\\\\\\\\\\"ocp_<1H OCEAN\\\\\\\\\\\\\"}}, \\\\\\\\\\\\\"typeProperty\\\\\\\\\\\\\": 2}, {\\\\\\\\\\\\\"column\\\\\\\\\\\\\": {\\\\\\\\\\\\\"type\\\\\\\\\\\\\": 2, \\\\\\\\\\\\\"details\\\\\\\\\\\\\": {\\\\\\\\\\\\\"selectedColumn\\\\\\\\\\\\\": \\\\\\\\\\\\\"ocp_INLAND\\\\\\\\\\\\\"}}, \\\\\\\\\\\\\"typeProperty\\\\\\\\\\\\\": 2}, {\\\\\\\\\\\\\"column\\\\\\\\\\\\\": {\\\\\\\\\\\\\"type\\\\\\\\\\\\\": 2, \\\\\\\\\\\\\"details\\\\\\\\\\\\\": {\\\\\\\\\\\\\"selectedColumn\\\\\\\\\\\\\": \\\\\\\\\\\\\"ocp_ISLAND\\\\\\\\\\\\\"}}, \\\\\\\\\\\\\"typeProperty\\\\\\\\\\\\\": 2}, {\\\\\\\\\\\\\"column\\\\\\\\\\\\\": {\\\\\\\\\\\\\"type\\\\\\\\\\\\\": 2, \\\\\\\\\\\\\"details\\\\\\\\\\\\\": {\\\\\\\\\\\\\"selectedColumn\\\\\\\\\\\\\": \\\\\\\\\\\\\"ocp_NEAR BAY\\\\\\\\\\\\\"}}, \\\\\\\\\\\\\"typeProperty\\\\\\\\\\\\\": 2}, {\\\\\\\\\\\\\"column\\\\\\\\\\\\\": {\\\\\\\\\\\\\"type\\\\\\\\\\\\\": 2, \\\\\\\\\\\\\"details\\\\\\\\\\\\\": {\\\\\\\\\\\\\"selectedColumn\\\\\\\\\\\\\": \\\\\\\\\\\\\"ocp_NEAR OCEAN\\\\\\\\\\\\\"}}, \\\\\\\\\\\\\"typeProperty\\\\\\\\\\\\\": 2}]}, \\\\\\\\\\\\\"localData\\\\\\\\\\\\\": {}, \\\\\\\\\\\\\"isEnabled\\\\\\\\\\\\\": true, \\\\\\\\\\\\\"name\\\\\\\\\\\\\": null, \\\\\\\\\\\\\"annotation\\\\\\\\\\\\\": null}], \\\\\\\\\\\\\"inspectors\\\\\\\\\\\\\": [], \\\\\\\\\\\\\"meta\\\\\\\\\\\\\": {\\\\\\\\\\\\\"savedDatasetId\\\\\\\\\\\\\": \\\\\\\\\\\\\"27b9bc9c-e951-4ba6-9880-7891e4a9a5b9\\\\\\\\\\\\\", \\\\\\\\\\\\\"datasetType\\\\\\\\\\\\\": \\\\\\\\\\\\\"tabular\\\\\\\\\\\\\", \\\\\\\\\\\\\"subscriptionId\\\\\\\\\\\\\": \\\\\\\\\\\\\"fb968fd6-afa4-4fb2-8296-1d0120d715b4\\\\\\\\\\\\\", \\\\\\\\\\\\\"workspaceId\\\\\\\\\\\\\": \\\\\\\\\\\\\"87db0648-5721-45db-aab0-1b36a45128d2\\\\\\\\\\\\\", \\\\\\\\\\\\\"workspaceLocation\\\\\\\\\\\\\": \\\\\\\\\\\\\"southcentralus\\\\\\\\\\\\\"}}\\\\\", \\\\\"activities\\\\\": 0}',\n  'EnableSubsampling': None,\n  'runTemplate': 'AutoML',\n  'azureml.runsource': 'automl',\n  'display_task_type': 'regression',\n  'dependencies_versions': '{\"azureml-widgets\": \"1.18.0\", \"azureml-train\": \"1.18.0\", \"azureml-train-restclients-hyperdrive\": \"1.18.0\", \"azureml-train-core\": \"1.18.0\", \"azureml-train-automl\": \"1.18.0\", \"azureml-train-automl-runtime\": \"1.18.0\", \"azureml-train-automl-client\": \"1.18.0\", \"azureml-tensorboard\": \"1.18.0\", \"azureml-telemetry\": \"1.18.0\", \"azureml-sdk\": \"1.18.0\", \"azureml-samples\": \"0+unknown\", \"azureml-pipeline\": \"1.18.0\", \"azureml-pipeline-steps\": \"1.18.0\", \"azureml-pipeline-core\": \"1.18.0\", \"azureml-opendatasets\": \"1.18.0\", \"azureml-model-management-sdk\": \"1.0.1b6.post1\", \"azureml-mlflow\": \"1.18.0\", \"azureml-interpret\": \"1.18.0\", \"azureml-explain-model\": \"1.18.0\", \"azureml-defaults\": \"1.18.0\", \"azureml-dataset-runtime\": \"1.18.0\", \"azureml-dataprep\": \"2.4.2\", \"azureml-dataprep-rslex\": \"1.2.2\", \"azureml-dataprep-native\": \"24.0.0\", \"azureml-datadrift\": \"1.18.0\", \"azureml-core\": \"1.18.0\", \"azureml-contrib-services\": \"1.18.0\", \"azureml-contrib-server\": \"1.18.0\", \"azureml-contrib-reinforcementlearning\": \"1.18.0\", \"azureml-contrib-pipeline-steps\": \"1.18.0\", \"azureml-contrib-notebook\": \"1.18.0\", \"azureml-contrib-interpret\": \"1.18.0\", \"azureml-contrib-gbdt\": \"1.18.0\", \"azureml-contrib-fairness\": \"1.18.0\", \"azureml-contrib-dataset\": \"1.18.0\", \"azureml-cli-common\": \"1.18.0\", \"azureml-automl-runtime\": \"1.18.0\", \"azureml-automl-core\": \"1.18.0\", \"azureml-accel-models\": \"1.18.0\"}',\n  '_aml_system_scenario_identification': 'Remote.Parent',\n  'ClientType': 'SDK',\n  'environment_cpu_name': 'AzureML-AutoML',\n  'environment_cpu_version': '44',\n  'environment_gpu_name': 'AzureML-AutoML-GPU',\n  'environment_gpu_version': '32',\n  'root_attribution': 'automl',\n  'attribution': 'AutoML',\n  'Orchestrator': 'AutoML',\n  'CancelUri': 'https://southcentralus.experiments.azureml.net/jasmine/v1.0/subscriptions/fb968fd6-afa4-4fb2-8296-1d0120d715b4/resourceGroups/aml-quickstarts-127655/providers/Microsoft.MachineLearningServices/workspaces/quick-starts-ws-127655/experimentids/961d42d0-7242-44bd-939e-5cb4662f91aa/cancel/AutoML_ab9d4fbb-757d-4bd6-bd50-644a4fe1ed05',\n  'ClientSdkVersion': '1.17.0',\n  'snapshotId': '00000000-0000-0000-0000-000000000000',\n  'SetupRunId': 'AutoML_ab9d4fbb-757d-4bd6-bd50-644a4fe1ed05_setup',\n  'SetupRunContainerId': 'dcid.AutoML_ab9d4fbb-757d-4bd6-bd50-644a4fe1ed05_setup',\n  'FeaturizationRunJsonPath': 'featurizer_container.json',\n  'FeaturizationRunId': 'AutoML_ab9d4fbb-757d-4bd6-bd50-644a4fe1ed05_featurize',\n  'ProblemInfoJsonString': '{\"dataset_num_categorical\": 0, \"is_sparse\": false, \"subsampling\": false, \"dataset_classes\": 3675, \"dataset_features\": 13, \"dataset_samples\": 16512, \"single_frequency_class_detected\": false}',\n  'ModelExplainRunId': 'AutoML_ab9d4fbb-757d-4bd6-bd50-644a4fe1ed05_ModelExplain'},\n 'inputDatasets': [{'dataset': {'id': 'bac9b40d-f3d4-46f1-97c6-305561a98b67'}, 'consumptionDetails': {'type': 'RunInput', 'inputName': 'training_data', 'mechanism': 'Direct'}}, {'dataset': {'id': '27b9bc9c-e951-4ba6-9880-7891e4a9a5b9'}, 'consumptionDetails': {'type': 'RunInput', 'inputName': 'validation_data', 'mechanism': 'Direct'}}],\n 'outputDatasets': [],\n 'logFiles': {}}"
          },
          "metadata": {}
        }
      ],
      "execution_count": 16,
      "metadata": {
        "id": "1HkMvvB2Uh1x",
        "gather": {
          "logged": 1606200550068
        }
      }
    },
    {
      "cell_type": "markdown",
      "source": [
        "## Best Model\n",
        "\n",
        "TODO: In the cell below, get the best model from the automl experiments and display all the properties of the model.\n",
        "\n"
      ],
      "metadata": {
        "id": "XMnAGBD7QfAC"
      }
    },
    {
      "cell_type": "code",
      "source": [
        "# Retrieve and save your best automl model.\n",
        "automl_run, fitted_automl_model = automl_run.get_output() \n",
        "print(fitted_automl_model) #To print\n",
        "import joblib  \n",
        "joblib.dump(fitted_automl_model, \"automl_housing.pkl\")"
      ],
      "outputs": [
        {
          "output_type": "stream",
          "name": "stdout",
          "text": [
            "RegressionPipeline(pipeline=Pipeline(memory=None,\n",
            "                                     steps=[('datatransformer',\n",
            "                                             DataTransformer(enable_dnn=None,\n",
            "                                                             enable_feature_sweeping=None,\n",
            "                                                             feature_sweeping_config=None,\n",
            "                                                             feature_sweeping_timeout=None,\n",
            "                                                             featurization_config=None,\n",
            "                                                             force_text_dnn=None,\n",
            "                                                             is_cross_validation=None,\n",
            "                                                             is_onnx_compatible=None,\n",
            "                                                             logger=None,\n",
            "                                                             observer=None,\n",
            "                                                             task=None,\n",
            "                                                             working_dir=None)),\n",
            "                                            ('Max...\n",
            "                                                               colsample_bytree=1.0,\n",
            "                                                               importance_type='split',\n",
            "                                                               learning_rate=0.1,\n",
            "                                                               max_depth=-1,\n",
            "                                                               min_child_samples=20,\n",
            "                                                               min_child_weight=0.001,\n",
            "                                                               min_split_gain=0.0,\n",
            "                                                               n_estimators=100,\n",
            "                                                               n_jobs=1,\n",
            "                                                               num_leaves=31,\n",
            "                                                               objective=None,\n",
            "                                                               random_state=None,\n",
            "                                                               reg_alpha=0.0,\n",
            "                                                               reg_lambda=0.0,\n",
            "                                                               silent=True,\n",
            "                                                               subsample=1.0,\n",
            "                                                               subsample_for_bin=200000,\n",
            "                                                               subsample_freq=0,\n",
            "                                                               verbose=-1))],\n",
            "                                     verbose=False),\n",
            "                   stddev=None)\n"
          ]
        },
        {
          "output_type": "execute_result",
          "execution_count": 17,
          "data": {
            "text/plain": "['automl_housing.pkl']"
          },
          "metadata": {}
        }
      ],
      "execution_count": 17,
      "metadata": {
        "gather": {
          "logged": 1606200625376
        },
        "jupyter": {
          "outputs_hidden": false,
          "source_hidden": false
        },
        "nteract": {
          "transient": {
            "deleting": false
          }
        },
        "id": "d9QYLrNaQfAC"
      }
    },
    {
      "cell_type": "code",
      "source": [
        "os.listdir(os.curdir), os.getcwd()"
      ],
      "outputs": [
        {
          "output_type": "execute_result",
          "execution_count": 29,
          "data": {
            "text/plain": "(['.azureml',\n  '.config',\n  '.ipynb_aml_checkpoints',\n  'automl (2).ipynb',\n  'automl-housing',\n  'automl.log',\n  'automl_housing.pkl',\n  'azureml_automl.log',\n  'housing.csv',\n  'raw_data.json',\n  'scoring.py',\n  'testset.csv',\n  'trainset.csv'],\n '/mnt/batch/tasks/shared/LS_root/mounts/clusters/notebook127655/code/Users/odl_user_127655')"
          },
          "metadata": {}
        }
      ],
      "execution_count": 29,
      "metadata": {
        "collapsed": true,
        "jupyter": {
          "source_hidden": false,
          "outputs_hidden": false
        },
        "nteract": {
          "transient": {
            "deleting": false
          }
        },
        "gather": {
          "logged": 1606202451247
        }
      }
    },
    {
      "cell_type": "code",
      "source": [
        "automl_run_metrics = automl_run.get_metrics()\n",
        "automl_run_metrics"
      ],
      "outputs": [
        {
          "output_type": "execute_result",
          "execution_count": 18,
          "data": {
            "text/plain": "{'spearman_correlation': 0.9138951035775631,\n 'normalized_root_mean_squared_error': 0.09934886736317816,\n 'r2_score': 0.8228235321116265,\n 'median_absolute_error': 21358.68757477193,\n 'root_mean_squared_error': 48184.39936887613,\n 'normalized_root_mean_squared_log_error': 0.06811054968772484,\n 'normalized_mean_absolute_error': 0.06675515129322772,\n 'mean_absolute_percentage_error': 18.38221463878435,\n 'mean_absolute_error': 32376.38188751803,\n 'root_mean_squared_log_error': 0.23883385833995038,\n 'explained_variance': 0.8228777634621539,\n 'normalized_median_absolute_error': 0.04403834948056282,\n 'predicted_true': 'aml://artifactId/ExperimentRun/dcid.AutoML_ab9d4fbb-757d-4bd6-bd50-644a4fe1ed05_0/predicted_true',\n 'residuals': 'aml://artifactId/ExperimentRun/dcid.AutoML_ab9d4fbb-757d-4bd6-bd50-644a4fe1ed05_0/residuals'}"
          },
          "metadata": {}
        }
      ],
      "execution_count": 18,
      "metadata": {
        "gather": {
          "logged": 1606200632523
        },
        "jupyter": {
          "outputs_hidden": false,
          "source_hidden": false
        },
        "nteract": {
          "transient": {
            "deleting": false
          }
        },
        "id": "JgNUewNBQfAC"
      }
    },
    {
      "cell_type": "code",
      "source": [
        "print('Bets Run ID', automl_run.id)\n",
        "print('\\n MAE', automl_run_metrics['mean_absolute_error'])"
      ],
      "outputs": [
        {
          "output_type": "stream",
          "name": "stdout",
          "text": [
            "Bets Run ID AutoML_ab9d4fbb-757d-4bd6-bd50-644a4fe1ed05_0\n",
            "\n",
            " MAE 32376.38188751803\n"
          ]
        }
      ],
      "execution_count": 19,
      "metadata": {
        "id": "JkbirWmHUz-g",
        "gather": {
          "logged": 1606200641598
        }
      }
    },
    {
      "cell_type": "code",
      "source": [
        "from azureml.core.model import Model\r\n",
        "\r\n",
        "model=Model.register(model_path=\"automl_housing.pkl\", model_name=\"automl_housing\", workspace=ws)"
      ],
      "outputs": [
        {
          "output_type": "stream",
          "name": "stdout",
          "text": [
            "Registering model automl_housing\n"
          ]
        }
      ],
      "execution_count": 21,
      "metadata": {
        "gather": {
          "logged": 1606200697492
        },
        "jupyter": {
          "outputs_hidden": false,
          "source_hidden": false
        },
        "nteract": {
          "transient": {
            "deleting": false
          }
        },
        "id": "I9ghw81kQfAC"
      }
    },
    {
      "cell_type": "code",
      "source": [
        "print(model.name, model.id)"
      ],
      "outputs": [
        {
          "output_type": "stream",
          "name": "stdout",
          "text": [
            "automl_housing automl_housing:1\n"
          ]
        }
      ],
      "execution_count": 22,
      "metadata": {
        "jupyter": {
          "outputs_hidden": false,
          "source_hidden": false
        },
        "nteract": {
          "transient": {
            "deleting": false
          }
        },
        "id": "DexouMT3QfAD",
        "gather": {
          "logged": 1606200706111
        }
      }
    },
    {
      "cell_type": "code",
      "source": [
        "from azureml.core.model import InferenceConfig\r\n",
        "from azureml.core.environment import Environment\r\n",
        "from azureml.core.conda_dependencies import CondaDependencies\r\n",
        "\r\n",
        "# Create the environment\r\n",
        "env = Environment(name=\"env\")\r\n",
        "conda_dep = CondaDependencies()\r\n",
        "\r\n",
        "# Define the packages needed by the model and scripts\r\n",
        "conda_dep.add_conda_package(\"numpy\")\r\n",
        "conda_dep.add_conda_package(\"scikit-learn\")\r\n",
        "# You must list azureml-defaults as a pip dependency\r\n",
        "conda_dep.add_pip_package(\"azureml-defaults\")\r\n",
        "\r\n",
        "# Adds dependencies to PythonSection of myenv\r\n",
        "env.python.conda_dependencies=conda_dep\r\n",
        "\r\n",
        "inference_config = InferenceConfig(entry_script=\"scoring.py\",\r\n",
        "                                   environment=env)"
      ],
      "outputs": [],
      "execution_count": 23,
      "metadata": {
        "collapsed": true,
        "jupyter": {
          "source_hidden": false,
          "outputs_hidden": false
        },
        "nteract": {
          "transient": {
            "deleting": false
          }
        },
        "gather": {
          "logged": 1606200725544
        }
      }
    },
    {
      "cell_type": "code",
      "source": [
        "from azureml.core.webservice import LocalWebservice\r\n",
        "\r\n",
        "deployment_config = LocalWebservice.deploy_configuration()"
      ],
      "outputs": [],
      "execution_count": 24,
      "metadata": {
        "collapsed": true,
        "jupyter": {
          "source_hidden": false,
          "outputs_hidden": false
        },
        "nteract": {
          "transient": {
            "deleting": false
          }
        },
        "gather": {
          "logged": 1606200732205
        }
      }
    },
    {
      "cell_type": "code",
      "source": [
        "from azureml.core.model import Model\r\n",
        "\r\n",
        "model = Model(ws, name='automl_housing')\r\n",
        "service = Model.deploy(ws, 'myservice', [model], inference_config, deployment_config)\r\n",
        "\r\n",
        "service.wait_for_deployment(True)\r\n",
        "print(service.state)\r\n",
        "print(\"scoring URI: \" + service.scoring_uri)"
      ],
      "outputs": [
        {
          "output_type": "stream",
          "name": "stdout",
          "text": [
            "Downloading model automl_housing:1 to /tmp/azureml_e6mh8y0d/automl_housing/1\n",
            "Generating Docker build context.\n",
            "Package creation Succeeded\n",
            "Logging into Docker registry 87db0648572145dbaab01b36a45128d2.azurecr.io\n",
            "Logging into Docker registry 87db0648572145dbaab01b36a45128d2.azurecr.io\n",
            "Building Docker image from Dockerfile...\n",
            "Step 1/5 : FROM 87db0648572145dbaab01b36a45128d2.azurecr.io/azureml/azureml_dc785bef270e2bc43828ea6503b50a5e\n",
            " ---> cf3bff41dfae\n",
            "Step 2/5 : COPY azureml-app /var/azureml-app\n",
            " ---> c84f75cd18e3\n",
            "Step 3/5 : RUN mkdir -p '/var/azureml-app' && echo eyJhY2NvdW50Q29udGV4dCI6eyJzdWJzY3JpcHRpb25JZCI6ImZiOTY4ZmQ2LWFmYTQtNGZiMi04Mjk2LTFkMDEyMGQ3MTViNCIsInJlc291cmNlR3JvdXBOYW1lIjoiYW1sLXF1aWNrc3RhcnRzLTEyNzY1NSIsImFjY291bnROYW1lIjoicXVpY2stc3RhcnRzLXdzLTEyNzY1NSIsIndvcmtzcGFjZUlkIjoiODdkYjA2NDgtNTcyMS00NWRiLWFhYjAtMWIzNmE0NTEyOGQyIn0sIm1vZGVscyI6e30sIm1vZGVsc0luZm8iOnt9fQ== | base64 --decode > /var/azureml-app/model_config_map.json\n",
            " ---> Running in fc3bd807c60d\n",
            " ---> 47aecb6e565f\n",
            "Step 4/5 : RUN mv '/var/azureml-app/tmp0oh1fk63.py' /var/azureml-app/main.py\n",
            " ---> Running in 038265a53b57\n",
            " ---> 7a1a94c0d1a8\n",
            "Step 5/5 : CMD [\"runsvdir\",\"/var/runit\"]\n",
            " ---> Running in ca2551546cf1\n",
            " ---> cdeedea4136c\n",
            "Successfully built cdeedea4136c\n",
            "Successfully tagged myservice:latest\n",
            "Container (name:sad_lamarr, id:5f0f4af3c2ffe3a2c76cf90b095fa531300642423f9a1fbcd1a97f9cbbb0b967) cannot be killed.\n",
            "Container has been successfully cleaned up.\n",
            "Image sha256:e560f78696379301f08ada1c9e54626108dfe6fc9ed9b31ddc8a8a6cd89a1d95 successfully removed.\n",
            "Starting Docker container...\n",
            "Docker container running.\n",
            "Checking container health...\n",
            "\n",
            "Container Logs:\n",
            "2020-11-24T07:22:07,810500326+00:00 - iot-server/run \n",
            "2020-11-24T07:22:07,810589028+00:00 - nginx/run \n",
            "/usr/sbin/nginx: /azureml-envs/azureml_5891abd828725e6d4f7b48940d1f8d13/lib/libcrypto.so.1.0.0: no version information available (required by /usr/sbin/nginx)\n",
            "/usr/sbin/nginx: /azureml-envs/azureml_5891abd828725e6d4f7b48940d1f8d13/lib/libcrypto.so.1.0.0: no version information available (required by /usr/sbin/nginx)\n",
            "/usr/sbin/nginx: /azureml-envs/azureml_5891abd828725e6d4f7b48940d1f8d13/lib/libssl.so.1.0.0: no version information available (required by /usr/sbin/nginx)\n",
            "/usr/sbin/nginx: /azureml-envs/azureml_5891abd828725e6d4f7b48940d1f8d13/lib/libssl.so.1.0.0: no version information available (required by /usr/sbin/nginx)\n",
            "/usr/sbin/nginx: /azureml-envs/azureml_5891abd828725e6d4f7b48940d1f8d13/lib/libssl.so.1.0.0: no version information available (required by /usr/sbin/nginx)\n",
            "2020-11-24T07:22:07,814232722+00:00 - rsyslog/run \n",
            "2020-11-24T07:22:07,820468484+00:00 - gunicorn/run \n",
            "EdgeHubConnectionString and IOTEDGE_IOTHUBHOSTNAME are not set. Exiting...\n",
            "2020-11-24T07:22:07,896210046+00:00 - iot-server/finish 1 0\n",
            "2020-11-24T07:22:07,897418977+00:00 - Exit code 1 is normal. Not restarting iot-server.\n",
            "Starting gunicorn 19.9.0\n",
            "Listening at: http://127.0.0.1:31311 (16)\n",
            "Using worker: sync\n",
            "worker timeout is set to 300\n",
            "Booting worker with pid: 42\n",
            "SPARK_HOME not set. Skipping PySpark Initialization.\n",
            "Exception in worker process\n",
            "Traceback (most recent call last):\n",
            "  File \"/azureml-envs/azureml_5891abd828725e6d4f7b48940d1f8d13/lib/python3.6/site-packages/gunicorn/arbiter.py\", line 583, in spawn_worker\n",
            "    worker.init_process()\n",
            "  File \"/azureml-envs/azureml_5891abd828725e6d4f7b48940d1f8d13/lib/python3.6/site-packages/gunicorn/workers/base.py\", line 129, in init_process\n",
            "    self.load_wsgi()\n",
            "  File \"/azureml-envs/azureml_5891abd828725e6d4f7b48940d1f8d13/lib/python3.6/site-packages/gunicorn/workers/base.py\", line 138, in load_wsgi\n",
            "    self.wsgi = self.app.wsgi()\n",
            "  File \"/azureml-envs/azureml_5891abd828725e6d4f7b48940d1f8d13/lib/python3.6/site-packages/gunicorn/app/base.py\", line 67, in wsgi\n",
            "    self.callable = self.load()\n",
            "  File \"/azureml-envs/azureml_5891abd828725e6d4f7b48940d1f8d13/lib/python3.6/site-packages/gunicorn/app/wsgiapp.py\", line 52, in load\n",
            "    return self.load_wsgiapp()\n",
            "  File \"/azureml-envs/azureml_5891abd828725e6d4f7b48940d1f8d13/lib/python3.6/site-packages/gunicorn/app/wsgiapp.py\", line 41, in load_wsgiapp\n",
            "    return util.import_app(self.app_uri)\n",
            "  File \"/azureml-envs/azureml_5891abd828725e6d4f7b48940d1f8d13/lib/python3.6/site-packages/gunicorn/util.py\", line 350, in import_app\n",
            "    __import__(module)\n",
            "  File \"/var/azureml-server/wsgi.py\", line 1, in <module>\n",
            "    import create_app\n",
            "  File \"/var/azureml-server/create_app.py\", line 3, in <module>\n",
            "    from app import main\n",
            "  File \"/var/azureml-server/app.py\", line 32, in <module>\n",
            "    from aml_blueprint import AMLBlueprint\n",
            "  File \"/var/azureml-server/aml_blueprint.py\", line 23, in <module>\n",
            "    main_module_spec.loader.exec_module(main)\n",
            "  File \"/var/azureml-app/scoring.py\", line 6, in <module>\n",
            "    import azureml.train.automl\n",
            "ModuleNotFoundError: No module named 'azureml.train'\n",
            "Worker exiting (pid: 42)\n",
            "Shutting down: Master\n",
            "Reason: Worker failed to boot.\n",
            "2020-11-24T07:22:09,054835431+00:00 - gunicorn/finish 3 0\n",
            "2020-11-24T07:22:09,056488474+00:00 - Exit code 3 is not normal. Killing image.\n",
            "\n"
          ]
        },
        {
          "output_type": "stream",
          "name": "stderr",
          "text": [
            "ERROR - Error: Container has crashed. Did your init method fail?\n",
            "\n"
          ]
        },
        {
          "output_type": "error",
          "ename": "WebserviceException",
          "evalue": "WebserviceException:\n\tMessage: Error: Container has crashed. Did your init method fail?\n\tInnerException None\n\tErrorResponse \n{\n    \"error\": {\n        \"message\": \"Error: Container has crashed. Did your init method fail?\"\n    }\n}",
          "traceback": [
            "\u001b[0;31m---------------------------------------------------------------------------\u001b[0m",
            "\u001b[0;31mWebserviceException\u001b[0m                       Traceback (most recent call last)",
            "\u001b[0;32m<ipython-input-30-02d1e3c2b99e>\u001b[0m in \u001b[0;36m<module>\u001b[0;34m\u001b[0m\n\u001b[1;32m      4\u001b[0m \u001b[0mservice\u001b[0m \u001b[0;34m=\u001b[0m \u001b[0mModel\u001b[0m\u001b[0;34m.\u001b[0m\u001b[0mdeploy\u001b[0m\u001b[0;34m(\u001b[0m\u001b[0mws\u001b[0m\u001b[0;34m,\u001b[0m \u001b[0;34m'myservice'\u001b[0m\u001b[0;34m,\u001b[0m \u001b[0;34m[\u001b[0m\u001b[0mmodel\u001b[0m\u001b[0;34m]\u001b[0m\u001b[0;34m,\u001b[0m \u001b[0minference_config\u001b[0m\u001b[0;34m,\u001b[0m \u001b[0mdeployment_config\u001b[0m\u001b[0;34m)\u001b[0m\u001b[0;34m\u001b[0m\u001b[0;34m\u001b[0m\u001b[0m\n\u001b[1;32m      5\u001b[0m \u001b[0;34m\u001b[0m\u001b[0m\n\u001b[0;32m----> 6\u001b[0;31m \u001b[0mservice\u001b[0m\u001b[0;34m.\u001b[0m\u001b[0mwait_for_deployment\u001b[0m\u001b[0;34m(\u001b[0m\u001b[0;32mTrue\u001b[0m\u001b[0;34m)\u001b[0m\u001b[0;34m\u001b[0m\u001b[0;34m\u001b[0m\u001b[0m\n\u001b[0m\u001b[1;32m      7\u001b[0m \u001b[0mprint\u001b[0m\u001b[0;34m(\u001b[0m\u001b[0mservice\u001b[0m\u001b[0;34m.\u001b[0m\u001b[0mstate\u001b[0m\u001b[0;34m)\u001b[0m\u001b[0;34m\u001b[0m\u001b[0;34m\u001b[0m\u001b[0m\n\u001b[1;32m      8\u001b[0m \u001b[0mprint\u001b[0m\u001b[0;34m(\u001b[0m\u001b[0;34m\"scoring URI: \"\u001b[0m \u001b[0;34m+\u001b[0m \u001b[0mservice\u001b[0m\u001b[0;34m.\u001b[0m\u001b[0mscoring_uri\u001b[0m\u001b[0;34m)\u001b[0m\u001b[0;34m\u001b[0m\u001b[0;34m\u001b[0m\u001b[0m\n",
            "\u001b[0;32m/anaconda/envs/azureml_py36/lib/python3.6/site-packages/azureml/core/webservice/local.py\u001b[0m in \u001b[0;36mdecorated\u001b[0;34m(self, *args, **kwargs)\u001b[0m\n\u001b[1;32m     70\u001b[0m                 raise WebserviceException('Cannot call {}() when service is {}.'.format(func.__name__, self.state),\n\u001b[1;32m     71\u001b[0m                                           logger=module_logger)\n\u001b[0;32m---> 72\u001b[0;31m             \u001b[0;32mreturn\u001b[0m \u001b[0mfunc\u001b[0m\u001b[0;34m(\u001b[0m\u001b[0mself\u001b[0m\u001b[0;34m,\u001b[0m \u001b[0;34m*\u001b[0m\u001b[0margs\u001b[0m\u001b[0;34m,\u001b[0m \u001b[0;34m**\u001b[0m\u001b[0mkwargs\u001b[0m\u001b[0;34m)\u001b[0m\u001b[0;34m\u001b[0m\u001b[0;34m\u001b[0m\u001b[0m\n\u001b[0m\u001b[1;32m     73\u001b[0m         \u001b[0;32mreturn\u001b[0m \u001b[0mdecorated\u001b[0m\u001b[0;34m\u001b[0m\u001b[0;34m\u001b[0m\u001b[0m\n\u001b[1;32m     74\u001b[0m     \u001b[0;32mreturn\u001b[0m \u001b[0mdecorator\u001b[0m\u001b[0;34m\u001b[0m\u001b[0;34m\u001b[0m\u001b[0m\n",
            "\u001b[0;32m/anaconda/envs/azureml_py36/lib/python3.6/site-packages/azureml/core/webservice/local.py\u001b[0m in \u001b[0;36mwait_for_deployment\u001b[0;34m(self, show_output)\u001b[0m\n\u001b[1;32m    609\u001b[0m                                    \u001b[0mself\u001b[0m\u001b[0;34m.\u001b[0m\u001b[0m_container\u001b[0m\u001b[0;34m,\u001b[0m\u001b[0;34m\u001b[0m\u001b[0;34m\u001b[0m\u001b[0m\n\u001b[1;32m    610\u001b[0m                                    \u001b[0mhealth_url\u001b[0m\u001b[0;34m=\u001b[0m\u001b[0mself\u001b[0m\u001b[0;34m.\u001b[0m\u001b[0m_get_health_url\u001b[0m\u001b[0;34m(\u001b[0m\u001b[0;34m)\u001b[0m\u001b[0;34m,\u001b[0m\u001b[0;34m\u001b[0m\u001b[0;34m\u001b[0m\u001b[0m\n\u001b[0;32m--> 611\u001b[0;31m                                    cleanup_if_failed=False)\n\u001b[0m\u001b[1;32m    612\u001b[0m \u001b[0;34m\u001b[0m\u001b[0m\n\u001b[1;32m    613\u001b[0m             \u001b[0mself\u001b[0m\u001b[0;34m.\u001b[0m\u001b[0mstate\u001b[0m \u001b[0;34m=\u001b[0m \u001b[0mLocalWebservice\u001b[0m\u001b[0;34m.\u001b[0m\u001b[0mSTATE_RUNNING\u001b[0m\u001b[0;34m\u001b[0m\u001b[0;34m\u001b[0m\u001b[0m\n",
            "\u001b[0;32m/anaconda/envs/azureml_py36/lib/python3.6/site-packages/azureml/_model_management/_util.py\u001b[0m in \u001b[0;36mcontainer_health_check\u001b[0;34m(docker_port, container, health_url, cleanup_if_failed)\u001b[0m\n\u001b[1;32m    741\u001b[0m             \u001b[0;31m# The container has started and crashed.\u001b[0m\u001b[0;34m\u001b[0m\u001b[0;34m\u001b[0m\u001b[0;34m\u001b[0m\u001b[0m\n\u001b[1;32m    742\u001b[0m             _raise_for_container_failure(container, cleanup_if_failed,\n\u001b[0;32m--> 743\u001b[0;31m                                          'Error: Container has crashed. Did your init method fail?')\n\u001b[0m\u001b[1;32m    744\u001b[0m \u001b[0;34m\u001b[0m\u001b[0m\n\u001b[1;32m    745\u001b[0m         \u001b[0;31m# The container hasn't crashed, so try to ping the health endpoint.\u001b[0m\u001b[0;34m\u001b[0m\u001b[0;34m\u001b[0m\u001b[0;34m\u001b[0m\u001b[0m\n",
            "\u001b[0;32m/anaconda/envs/azureml_py36/lib/python3.6/site-packages/azureml/_model_management/_util.py\u001b[0m in \u001b[0;36m_raise_for_container_failure\u001b[0;34m(container, cleanup, message)\u001b[0m\n\u001b[1;32m   1259\u001b[0m         \u001b[0mcleanup_container\u001b[0m\u001b[0;34m(\u001b[0m\u001b[0mcontainer\u001b[0m\u001b[0;34m)\u001b[0m\u001b[0;34m\u001b[0m\u001b[0;34m\u001b[0m\u001b[0m\n\u001b[1;32m   1260\u001b[0m \u001b[0;34m\u001b[0m\u001b[0m\n\u001b[0;32m-> 1261\u001b[0;31m     \u001b[0;32mraise\u001b[0m \u001b[0mWebserviceException\u001b[0m\u001b[0;34m(\u001b[0m\u001b[0mmessage\u001b[0m\u001b[0;34m,\u001b[0m \u001b[0mlogger\u001b[0m\u001b[0;34m=\u001b[0m\u001b[0mmodule_logger\u001b[0m\u001b[0;34m)\u001b[0m\u001b[0;34m\u001b[0m\u001b[0;34m\u001b[0m\u001b[0m\n\u001b[0m\u001b[1;32m   1262\u001b[0m \u001b[0;34m\u001b[0m\u001b[0m\n\u001b[1;32m   1263\u001b[0m \u001b[0;34m\u001b[0m\u001b[0m\n",
            "\u001b[0;31mWebserviceException\u001b[0m: WebserviceException:\n\tMessage: Error: Container has crashed. Did your init method fail?\n\tInnerException None\n\tErrorResponse \n{\n    \"error\": {\n        \"message\": \"Error: Container has crashed. Did your init method fail?\"\n    }\n}"
          ]
        }
      ],
      "execution_count": 30,
      "metadata": {
        "collapsed": true,
        "jupyter": {
          "source_hidden": false,
          "outputs_hidden": false
        },
        "nteract": {
          "transient": {
            "deleting": false
          }
        }
      }
    },
    {
      "cell_type": "code",
      "source": [
        "test_set=pd.read_csv(\"testset.csv\", header=0)\r\n",
        "test_values=test_set.values\r\n",
        "test_list=test_values.tolist()"
      ],
      "outputs": [],
      "execution_count": null,
      "metadata": {
        "collapsed": true,
        "jupyter": {
          "source_hidden": false,
          "outputs_hidden": false
        },
        "nteract": {
          "transient": {
            "deleting": false
          }
        }
      }
    },
    {
      "cell_type": "code",
      "source": [
        "import json\r\n",
        "test_data = json.dumps({\"data\": x_test.tolist()})\r\n",
        "test_data = bytes(test_data, encoding = 'utf8')\r\n",
        "\r\n",
        "result = service.run(input_data=test_data)\r\n",
        "\r\n",
        "api_r2 = r2_score(y_test, np.array(result))\r\n",
        "print(round(api_r2, 3))"
      ],
      "outputs": [],
      "execution_count": null,
      "metadata": {
        "collapsed": true,
        "jupyter": {
          "source_hidden": false,
          "outputs_hidden": false
        },
        "nteract": {
          "transient": {
            "deleting": false
          }
        }
      }
    }
  ],
  "metadata": {
    "kernel_info": {
      "name": "python3"
    },
    "kernelspec": {
      "name": "python3",
      "language": "python",
      "display_name": "Python 3"
    },
    "language_info": {
      "name": "python",
      "version": "3.6.9",
      "mimetype": "text/x-python",
      "codemirror_mode": {
        "name": "ipython",
        "version": 3
      },
      "pygments_lexer": "ipython3",
      "nbconvert_exporter": "python",
      "file_extension": ".py"
    },
    "nteract": {
      "version": "nteract-front-end@1.0.0"
    },
    "colab": {
      "name": "automl.ipynb",
      "provenance": [],
      "collapsed_sections": []
    }
  },
  "nbformat": 4,
  "nbformat_minor": 0
}